{
 "cells": [
  {
   "cell_type": "code",
   "execution_count": 3,
   "outputs": [
    {
     "name": "stderr",
     "output_type": "stream",
     "text": [
      "/Users/swithana/git/jupyter/venv/lib/python3.9/site-packages/urllib3/__init__.py:34: NotOpenSSLWarning: urllib3 v2.0 only supports OpenSSL 1.1.1+, currently the 'ssl' module is compiled with 'LibreSSL 2.8.3'. See: https://github.com/urllib3/urllib3/issues/3020\n",
      "  warnings.warn(\n"
     ]
    }
   ],
   "source": [
    "import numpy as np\n",
    "import pandas as pd\n",
    "import tensorflow as tf\n",
    "from sklearn.model_selection import train_test_split\n",
    "from sklearn.preprocessing import StandardScaler, LabelEncoder"
   ],
   "metadata": {
    "collapsed": false,
    "pycharm": {
     "name": "#%%\n"
    }
   }
  },
  {
   "cell_type": "code",
   "execution_count": 26,
   "outputs": [],
   "source": [
    "columns = [\"age\", \"workclass\", \"fnlwgt\", \"education\", \"education-num\", \"martial-status\",\n",
    "        \"occupation\", \"relationship\", \"race\", \"sex\", \"capital-gain\", \"capital-loss\",\n",
    "        \"hours-per-week\", \"native-country\", \"income\"]\n",
    "data = pd.read_csv('/Users/swithana/git/icicle_model_card/tests/data/adult/adult.data', names=columns)"
   ],
   "metadata": {
    "collapsed": false,
    "pycharm": {
     "name": "#%%\n"
    }
   }
  },
  {
   "cell_type": "code",
   "execution_count": 27,
   "outputs": [
    {
     "data": {
      "text/plain": "   age          workclass  fnlwgt   education  education-num  \\\n0   39          State-gov   77516   Bachelors             13   \n1   50   Self-emp-not-inc   83311   Bachelors             13   \n2   38            Private  215646     HS-grad              9   \n3   53            Private  234721        11th              7   \n4   28            Private  338409   Bachelors             13   \n\n        martial-status          occupation    relationship    race      sex  \\\n0        Never-married        Adm-clerical   Not-in-family   White     Male   \n1   Married-civ-spouse     Exec-managerial         Husband   White     Male   \n2             Divorced   Handlers-cleaners   Not-in-family   White     Male   \n3   Married-civ-spouse   Handlers-cleaners         Husband   Black     Male   \n4   Married-civ-spouse      Prof-specialty            Wife   Black   Female   \n\n   capital-gain  capital-loss  hours-per-week  native-country  income  \n0          2174             0              40   United-States   <=50K  \n1             0             0              13   United-States   <=50K  \n2             0             0              40   United-States   <=50K  \n3             0             0              40   United-States   <=50K  \n4             0             0              40            Cuba   <=50K  ",
      "text/html": "<div>\n<style scoped>\n    .dataframe tbody tr th:only-of-type {\n        vertical-align: middle;\n    }\n\n    .dataframe tbody tr th {\n        vertical-align: top;\n    }\n\n    .dataframe thead th {\n        text-align: right;\n    }\n</style>\n<table border=\"1\" class=\"dataframe\">\n  <thead>\n    <tr style=\"text-align: right;\">\n      <th></th>\n      <th>age</th>\n      <th>workclass</th>\n      <th>fnlwgt</th>\n      <th>education</th>\n      <th>education-num</th>\n      <th>martial-status</th>\n      <th>occupation</th>\n      <th>relationship</th>\n      <th>race</th>\n      <th>sex</th>\n      <th>capital-gain</th>\n      <th>capital-loss</th>\n      <th>hours-per-week</th>\n      <th>native-country</th>\n      <th>income</th>\n    </tr>\n  </thead>\n  <tbody>\n    <tr>\n      <th>0</th>\n      <td>39</td>\n      <td>State-gov</td>\n      <td>77516</td>\n      <td>Bachelors</td>\n      <td>13</td>\n      <td>Never-married</td>\n      <td>Adm-clerical</td>\n      <td>Not-in-family</td>\n      <td>White</td>\n      <td>Male</td>\n      <td>2174</td>\n      <td>0</td>\n      <td>40</td>\n      <td>United-States</td>\n      <td>&lt;=50K</td>\n    </tr>\n    <tr>\n      <th>1</th>\n      <td>50</td>\n      <td>Self-emp-not-inc</td>\n      <td>83311</td>\n      <td>Bachelors</td>\n      <td>13</td>\n      <td>Married-civ-spouse</td>\n      <td>Exec-managerial</td>\n      <td>Husband</td>\n      <td>White</td>\n      <td>Male</td>\n      <td>0</td>\n      <td>0</td>\n      <td>13</td>\n      <td>United-States</td>\n      <td>&lt;=50K</td>\n    </tr>\n    <tr>\n      <th>2</th>\n      <td>38</td>\n      <td>Private</td>\n      <td>215646</td>\n      <td>HS-grad</td>\n      <td>9</td>\n      <td>Divorced</td>\n      <td>Handlers-cleaners</td>\n      <td>Not-in-family</td>\n      <td>White</td>\n      <td>Male</td>\n      <td>0</td>\n      <td>0</td>\n      <td>40</td>\n      <td>United-States</td>\n      <td>&lt;=50K</td>\n    </tr>\n    <tr>\n      <th>3</th>\n      <td>53</td>\n      <td>Private</td>\n      <td>234721</td>\n      <td>11th</td>\n      <td>7</td>\n      <td>Married-civ-spouse</td>\n      <td>Handlers-cleaners</td>\n      <td>Husband</td>\n      <td>Black</td>\n      <td>Male</td>\n      <td>0</td>\n      <td>0</td>\n      <td>40</td>\n      <td>United-States</td>\n      <td>&lt;=50K</td>\n    </tr>\n    <tr>\n      <th>4</th>\n      <td>28</td>\n      <td>Private</td>\n      <td>338409</td>\n      <td>Bachelors</td>\n      <td>13</td>\n      <td>Married-civ-spouse</td>\n      <td>Prof-specialty</td>\n      <td>Wife</td>\n      <td>Black</td>\n      <td>Female</td>\n      <td>0</td>\n      <td>0</td>\n      <td>40</td>\n      <td>Cuba</td>\n      <td>&lt;=50K</td>\n    </tr>\n  </tbody>\n</table>\n</div>"
     },
     "execution_count": 27,
     "metadata": {},
     "output_type": "execute_result"
    }
   ],
   "source": [
    "data.head()"
   ],
   "metadata": {
    "collapsed": false,
    "pycharm": {
     "name": "#%%\n"
    }
   }
  },
  {
   "cell_type": "markdown",
   "source": [
    "### Pre-processing"
   ],
   "metadata": {
    "collapsed": false,
    "pycharm": {
     "name": "#%% md\n"
    }
   }
  },
  {
   "cell_type": "code",
   "execution_count": 28,
   "outputs": [
    {
     "data": {
      "text/plain": "   age  fnlwgt  education-num  capital-gain  capital-loss  hours-per-week  \\\n0   39   77516             13          2174             0              40   \n1   50   83311             13             0             0              13   \n2   38  215646              9             0             0              40   \n3   53  234721              7             0             0              40   \n4   28  338409             13             0             0              40   \n\n   income  workclass_ Federal-gov  workclass_ Local-gov  \\\n0       0                     0.0                   0.0   \n1       0                     0.0                   0.0   \n2       0                     0.0                   0.0   \n3       0                     0.0                   0.0   \n4       0                     0.0                   0.0   \n\n   workclass_ Never-worked  ...  native-country_ Portugal  \\\n0                      0.0  ...                       0.0   \n1                      0.0  ...                       0.0   \n2                      0.0  ...                       0.0   \n3                      0.0  ...                       0.0   \n4                      0.0  ...                       0.0   \n\n   native-country_ Puerto-Rico  native-country_ Scotland  \\\n0                          0.0                       0.0   \n1                          0.0                       0.0   \n2                          0.0                       0.0   \n3                          0.0                       0.0   \n4                          0.0                       0.0   \n\n   native-country_ South  native-country_ Taiwan  native-country_ Thailand  \\\n0                    0.0                     0.0                       0.0   \n1                    0.0                     0.0                       0.0   \n2                    0.0                     0.0                       0.0   \n3                    0.0                     0.0                       0.0   \n4                    0.0                     0.0                       0.0   \n\n   native-country_ Trinadad&Tobago  native-country_ United-States  \\\n0                              0.0                            1.0   \n1                              0.0                            1.0   \n2                              0.0                            1.0   \n3                              0.0                            1.0   \n4                              0.0                            0.0   \n\n   native-country_ Vietnam  native-country_ Yugoslavia  \n0                      0.0                         0.0  \n1                      0.0                         0.0  \n2                      0.0                         0.0  \n3                      0.0                         0.0  \n4                      0.0                         0.0  \n\n[5 rows x 101 columns]",
      "text/html": "<div>\n<style scoped>\n    .dataframe tbody tr th:only-of-type {\n        vertical-align: middle;\n    }\n\n    .dataframe tbody tr th {\n        vertical-align: top;\n    }\n\n    .dataframe thead th {\n        text-align: right;\n    }\n</style>\n<table border=\"1\" class=\"dataframe\">\n  <thead>\n    <tr style=\"text-align: right;\">\n      <th></th>\n      <th>age</th>\n      <th>fnlwgt</th>\n      <th>education-num</th>\n      <th>capital-gain</th>\n      <th>capital-loss</th>\n      <th>hours-per-week</th>\n      <th>income</th>\n      <th>workclass_ Federal-gov</th>\n      <th>workclass_ Local-gov</th>\n      <th>workclass_ Never-worked</th>\n      <th>...</th>\n      <th>native-country_ Portugal</th>\n      <th>native-country_ Puerto-Rico</th>\n      <th>native-country_ Scotland</th>\n      <th>native-country_ South</th>\n      <th>native-country_ Taiwan</th>\n      <th>native-country_ Thailand</th>\n      <th>native-country_ Trinadad&amp;Tobago</th>\n      <th>native-country_ United-States</th>\n      <th>native-country_ Vietnam</th>\n      <th>native-country_ Yugoslavia</th>\n    </tr>\n  </thead>\n  <tbody>\n    <tr>\n      <th>0</th>\n      <td>39</td>\n      <td>77516</td>\n      <td>13</td>\n      <td>2174</td>\n      <td>0</td>\n      <td>40</td>\n      <td>0</td>\n      <td>0.0</td>\n      <td>0.0</td>\n      <td>0.0</td>\n      <td>...</td>\n      <td>0.0</td>\n      <td>0.0</td>\n      <td>0.0</td>\n      <td>0.0</td>\n      <td>0.0</td>\n      <td>0.0</td>\n      <td>0.0</td>\n      <td>1.0</td>\n      <td>0.0</td>\n      <td>0.0</td>\n    </tr>\n    <tr>\n      <th>1</th>\n      <td>50</td>\n      <td>83311</td>\n      <td>13</td>\n      <td>0</td>\n      <td>0</td>\n      <td>13</td>\n      <td>0</td>\n      <td>0.0</td>\n      <td>0.0</td>\n      <td>0.0</td>\n      <td>...</td>\n      <td>0.0</td>\n      <td>0.0</td>\n      <td>0.0</td>\n      <td>0.0</td>\n      <td>0.0</td>\n      <td>0.0</td>\n      <td>0.0</td>\n      <td>1.0</td>\n      <td>0.0</td>\n      <td>0.0</td>\n    </tr>\n    <tr>\n      <th>2</th>\n      <td>38</td>\n      <td>215646</td>\n      <td>9</td>\n      <td>0</td>\n      <td>0</td>\n      <td>40</td>\n      <td>0</td>\n      <td>0.0</td>\n      <td>0.0</td>\n      <td>0.0</td>\n      <td>...</td>\n      <td>0.0</td>\n      <td>0.0</td>\n      <td>0.0</td>\n      <td>0.0</td>\n      <td>0.0</td>\n      <td>0.0</td>\n      <td>0.0</td>\n      <td>1.0</td>\n      <td>0.0</td>\n      <td>0.0</td>\n    </tr>\n    <tr>\n      <th>3</th>\n      <td>53</td>\n      <td>234721</td>\n      <td>7</td>\n      <td>0</td>\n      <td>0</td>\n      <td>40</td>\n      <td>0</td>\n      <td>0.0</td>\n      <td>0.0</td>\n      <td>0.0</td>\n      <td>...</td>\n      <td>0.0</td>\n      <td>0.0</td>\n      <td>0.0</td>\n      <td>0.0</td>\n      <td>0.0</td>\n      <td>0.0</td>\n      <td>0.0</td>\n      <td>1.0</td>\n      <td>0.0</td>\n      <td>0.0</td>\n    </tr>\n    <tr>\n      <th>4</th>\n      <td>28</td>\n      <td>338409</td>\n      <td>13</td>\n      <td>0</td>\n      <td>0</td>\n      <td>40</td>\n      <td>0</td>\n      <td>0.0</td>\n      <td>0.0</td>\n      <td>0.0</td>\n      <td>...</td>\n      <td>0.0</td>\n      <td>0.0</td>\n      <td>0.0</td>\n      <td>0.0</td>\n      <td>0.0</td>\n      <td>0.0</td>\n      <td>0.0</td>\n      <td>0.0</td>\n      <td>0.0</td>\n      <td>0.0</td>\n    </tr>\n  </tbody>\n</table>\n<p>5 rows × 101 columns</p>\n</div>"
     },
     "execution_count": 28,
     "metadata": {},
     "output_type": "execute_result"
    }
   ],
   "source": [
    "label_encoder = LabelEncoder()\n",
    "data['income'] = label_encoder.fit_transform(data['income'])\n",
    "\n",
    "# Convert categorical variables to one-hot encoding\n",
    "data = pd.get_dummies(data, drop_first=True, dtype=float)\n",
    "\n",
    "data.head()"
   ],
   "metadata": {
    "collapsed": false,
    "pycharm": {
     "name": "#%%\n"
    }
   }
  },
  {
   "cell_type": "code",
   "execution_count": 29,
   "outputs": [
    {
     "name": "stdout",
     "output_type": "stream",
     "text": [
      "['age', 'fnlwgt', 'education-num', 'capital-gain', 'capital-loss', 'hours-per-week', 'income', 'workclass_ Federal-gov', 'workclass_ Local-gov', 'workclass_ Never-worked', 'workclass_ Private', 'workclass_ Self-emp-inc', 'workclass_ Self-emp-not-inc', 'workclass_ State-gov', 'workclass_ Without-pay', 'education_ 11th', 'education_ 12th', 'education_ 1st-4th', 'education_ 5th-6th', 'education_ 7th-8th', 'education_ 9th', 'education_ Assoc-acdm', 'education_ Assoc-voc', 'education_ Bachelors', 'education_ Doctorate', 'education_ HS-grad', 'education_ Masters', 'education_ Preschool', 'education_ Prof-school', 'education_ Some-college', 'martial-status_ Married-AF-spouse', 'martial-status_ Married-civ-spouse', 'martial-status_ Married-spouse-absent', 'martial-status_ Never-married', 'martial-status_ Separated', 'martial-status_ Widowed', 'occupation_ Adm-clerical', 'occupation_ Armed-Forces', 'occupation_ Craft-repair', 'occupation_ Exec-managerial', 'occupation_ Farming-fishing', 'occupation_ Handlers-cleaners', 'occupation_ Machine-op-inspct', 'occupation_ Other-service', 'occupation_ Priv-house-serv', 'occupation_ Prof-specialty', 'occupation_ Protective-serv', 'occupation_ Sales', 'occupation_ Tech-support', 'occupation_ Transport-moving', 'relationship_ Not-in-family', 'relationship_ Other-relative', 'relationship_ Own-child', 'relationship_ Unmarried', 'relationship_ Wife', 'race_ Asian-Pac-Islander', 'race_ Black', 'race_ Other', 'race_ White', 'sex_ Male', 'native-country_ Cambodia', 'native-country_ Canada', 'native-country_ China', 'native-country_ Columbia', 'native-country_ Cuba', 'native-country_ Dominican-Republic', 'native-country_ Ecuador', 'native-country_ El-Salvador', 'native-country_ England', 'native-country_ France', 'native-country_ Germany', 'native-country_ Greece', 'native-country_ Guatemala', 'native-country_ Haiti', 'native-country_ Holand-Netherlands', 'native-country_ Honduras', 'native-country_ Hong', 'native-country_ Hungary', 'native-country_ India', 'native-country_ Iran', 'native-country_ Ireland', 'native-country_ Italy', 'native-country_ Jamaica', 'native-country_ Japan', 'native-country_ Laos', 'native-country_ Mexico', 'native-country_ Nicaragua', 'native-country_ Outlying-US(Guam-USVI-etc)', 'native-country_ Peru', 'native-country_ Philippines', 'native-country_ Poland', 'native-country_ Portugal', 'native-country_ Puerto-Rico', 'native-country_ Scotland', 'native-country_ South', 'native-country_ Taiwan', 'native-country_ Thailand', 'native-country_ Trinadad&Tobago', 'native-country_ United-States', 'native-country_ Vietnam', 'native-country_ Yugoslavia']\n"
     ]
    }
   ],
   "source": [
    "X = data.drop('income', axis=1).values\n",
    "y = data['income'].values\n",
    "\n",
    "print(data.columns.tolist())"
   ],
   "metadata": {
    "collapsed": false,
    "pycharm": {
     "name": "#%%\n"
    }
   }
  },
  {
   "cell_type": "code",
   "execution_count": 30,
   "outputs": [],
   "source": [
    "X_train, X_test, y_train, y_test = train_test_split(X, y, test_size=0.2, random_state=42)"
   ],
   "metadata": {
    "collapsed": false,
    "pycharm": {
     "name": "#%%\n"
    }
   }
  },
  {
   "cell_type": "markdown",
   "source": [
    "### Model Training"
   ],
   "metadata": {
    "collapsed": false,
    "pycharm": {
     "name": "#%% md\n"
    }
   }
  },
  {
   "cell_type": "code",
   "execution_count": 31,
   "outputs": [],
   "source": [
    "model = tf.keras.Sequential([\n",
    "    tf.keras.layers.Input(shape=(X_train.shape[1],)),\n",
    "    tf.keras.layers.Dense(64, activation='relu'),\n",
    "    tf.keras.layers.Dense(32, activation='relu'),\n",
    "    tf.keras.layers.Dense(1, activation='sigmoid')\n",
    "])\n",
    "\n",
    "model.compile(optimizer='adam', loss='binary_crossentropy', metrics=['accuracy'])"
   ],
   "metadata": {
    "collapsed": false,
    "pycharm": {
     "name": "#%%\n"
    }
   }
  },
  {
   "cell_type": "code",
   "execution_count": 32,
   "outputs": [
    {
     "name": "stdout",
     "output_type": "stream",
     "text": [
      "Epoch 1/100\n",
      "733/733 [==============================] - 1s 770us/step - loss: 212.7415 - accuracy: 0.6756 - val_loss: 335.0774 - val_accuracy: 0.7869\n",
      "Epoch 2/100\n",
      "733/733 [==============================] - 0s 675us/step - loss: 150.8967 - accuracy: 0.6821 - val_loss: 43.3000 - val_accuracy: 0.7962\n",
      "Epoch 3/100\n",
      "733/733 [==============================] - 0s 663us/step - loss: 129.0800 - accuracy: 0.6815 - val_loss: 15.3979 - val_accuracy: 0.7006\n",
      "Epoch 4/100\n",
      "733/733 [==============================] - 1s 690us/step - loss: 113.5574 - accuracy: 0.6814 - val_loss: 100.1962 - val_accuracy: 0.8054\n",
      "Epoch 5/100\n",
      "733/733 [==============================] - 1s 713us/step - loss: 115.0184 - accuracy: 0.6850 - val_loss: 60.6850 - val_accuracy: 0.8035\n",
      "Epoch 6/100\n",
      "733/733 [==============================] - 1s 687us/step - loss: 94.8421 - accuracy: 0.6814 - val_loss: 64.9808 - val_accuracy: 0.8019\n",
      "Epoch 7/100\n",
      "733/733 [==============================] - 1s 685us/step - loss: 91.4311 - accuracy: 0.6820 - val_loss: 330.8327 - val_accuracy: 0.7727\n",
      "Epoch 8/100\n",
      "733/733 [==============================] - 1s 725us/step - loss: 81.7196 - accuracy: 0.6842 - val_loss: 61.1786 - val_accuracy: 0.8077\n",
      "Epoch 9/100\n",
      "733/733 [==============================] - 1s 690us/step - loss: 69.0371 - accuracy: 0.6866 - val_loss: 36.8921 - val_accuracy: 0.8050\n",
      "Epoch 10/100\n",
      "733/733 [==============================] - 1s 739us/step - loss: 66.1433 - accuracy: 0.6821 - val_loss: 167.0922 - val_accuracy: 0.2365\n",
      "Epoch 11/100\n",
      "733/733 [==============================] - 1s 700us/step - loss: 77.6781 - accuracy: 0.6843 - val_loss: 144.2332 - val_accuracy: 0.2365\n",
      "Epoch 12/100\n",
      "733/733 [==============================] - 1s 690us/step - loss: 45.4933 - accuracy: 0.6884 - val_loss: 208.9973 - val_accuracy: 0.7758\n",
      "Epoch 13/100\n",
      "733/733 [==============================] - 1s 703us/step - loss: 45.9952 - accuracy: 0.6873 - val_loss: 91.3888 - val_accuracy: 0.7877\n",
      "Epoch 14/100\n",
      "733/733 [==============================] - 1s 713us/step - loss: 33.6984 - accuracy: 0.6891 - val_loss: 31.9164 - val_accuracy: 0.2407\n",
      "Epoch 15/100\n",
      "733/733 [==============================] - 0s 681us/step - loss: 35.0474 - accuracy: 0.6858 - val_loss: 15.2418 - val_accuracy: 0.8042\n",
      "Epoch 16/100\n",
      "733/733 [==============================] - 1s 700us/step - loss: 32.3545 - accuracy: 0.6976 - val_loss: 7.5117 - val_accuracy: 0.7774\n",
      "Epoch 17/100\n",
      "733/733 [==============================] - 1s 701us/step - loss: 28.3143 - accuracy: 0.6915 - val_loss: 34.5092 - val_accuracy: 0.2438\n",
      "Epoch 18/100\n",
      "733/733 [==============================] - 0s 680us/step - loss: 24.4129 - accuracy: 0.6971 - val_loss: 20.0814 - val_accuracy: 0.8038\n",
      "Epoch 19/100\n",
      "733/733 [==============================] - 1s 683us/step - loss: 19.2544 - accuracy: 0.7047 - val_loss: 45.7171 - val_accuracy: 0.7927\n",
      "Epoch 20/100\n",
      "733/733 [==============================] - 1s 683us/step - loss: 23.4896 - accuracy: 0.7056 - val_loss: 9.7741 - val_accuracy: 0.7962\n",
      "Epoch 21/100\n",
      "733/733 [==============================] - 1s 691us/step - loss: 23.8089 - accuracy: 0.6976 - val_loss: 33.5031 - val_accuracy: 0.7958\n",
      "Epoch 22/100\n",
      "733/733 [==============================] - 1s 694us/step - loss: 18.0399 - accuracy: 0.7090 - val_loss: 20.7046 - val_accuracy: 0.2622\n",
      "Epoch 23/100\n",
      "733/733 [==============================] - 1s 690us/step - loss: 17.5551 - accuracy: 0.6991 - val_loss: 5.4806 - val_accuracy: 0.7954\n",
      "Epoch 24/100\n",
      "733/733 [==============================] - 1s 696us/step - loss: 13.3596 - accuracy: 0.7102 - val_loss: 2.5009 - val_accuracy: 0.7681\n",
      "Epoch 25/100\n",
      "733/733 [==============================] - 1s 684us/step - loss: 12.7602 - accuracy: 0.7125 - val_loss: 3.1610 - val_accuracy: 0.7716\n",
      "Epoch 26/100\n",
      "733/733 [==============================] - 1s 682us/step - loss: 10.3318 - accuracy: 0.7185 - val_loss: 7.8760 - val_accuracy: 0.8004\n",
      "Epoch 27/100\n",
      "733/733 [==============================] - 0s 679us/step - loss: 9.4610 - accuracy: 0.7163 - val_loss: 8.7640 - val_accuracy: 0.8054\n",
      "Epoch 28/100\n",
      "733/733 [==============================] - 0s 681us/step - loss: 8.0456 - accuracy: 0.7201 - val_loss: 3.3880 - val_accuracy: 0.8200\n",
      "Epoch 29/100\n",
      "733/733 [==============================] - 0s 677us/step - loss: 8.8679 - accuracy: 0.7178 - val_loss: 3.0723 - val_accuracy: 0.6560\n",
      "Epoch 30/100\n",
      "733/733 [==============================] - 1s 684us/step - loss: 7.4214 - accuracy: 0.7262 - val_loss: 26.1068 - val_accuracy: 0.2511\n",
      "Epoch 31/100\n",
      "733/733 [==============================] - 1s 689us/step - loss: 7.5083 - accuracy: 0.7190 - val_loss: 2.2861 - val_accuracy: 0.8150\n",
      "Epoch 32/100\n",
      "733/733 [==============================] - 0s 676us/step - loss: 6.1828 - accuracy: 0.7210 - val_loss: 1.3844 - val_accuracy: 0.7919\n",
      "Epoch 33/100\n",
      "733/733 [==============================] - 1s 694us/step - loss: 5.5009 - accuracy: 0.7292 - val_loss: 3.4557 - val_accuracy: 0.8138\n",
      "Epoch 34/100\n",
      "733/733 [==============================] - 0s 676us/step - loss: 4.4274 - accuracy: 0.7387 - val_loss: 2.2461 - val_accuracy: 0.8192\n",
      "Epoch 35/100\n",
      "733/733 [==============================] - 1s 716us/step - loss: 3.6683 - accuracy: 0.7418 - val_loss: 9.2684 - val_accuracy: 0.7762\n",
      "Epoch 36/100\n",
      "733/733 [==============================] - 1s 725us/step - loss: 4.9888 - accuracy: 0.7340 - val_loss: 9.2898 - val_accuracy: 0.8015\n",
      "Epoch 37/100\n",
      "733/733 [==============================] - 1s 728us/step - loss: 2.9677 - accuracy: 0.7485 - val_loss: 1.6496 - val_accuracy: 0.8265\n",
      "Epoch 38/100\n",
      "733/733 [==============================] - 1s 708us/step - loss: 3.6140 - accuracy: 0.7412 - val_loss: 3.9916 - val_accuracy: 0.8088\n",
      "Epoch 39/100\n",
      "733/733 [==============================] - 1s 835us/step - loss: 2.5575 - accuracy: 0.7549 - val_loss: 0.9041 - val_accuracy: 0.8319\n",
      "Epoch 40/100\n",
      "733/733 [==============================] - 1s 717us/step - loss: 3.2279 - accuracy: 0.7439 - val_loss: 4.0171 - val_accuracy: 0.8107\n",
      "Epoch 41/100\n",
      "733/733 [==============================] - 1s 717us/step - loss: 1.8087 - accuracy: 0.7609 - val_loss: 1.5049 - val_accuracy: 0.7881\n",
      "Epoch 42/100\n",
      "733/733 [==============================] - 1s 751us/step - loss: 0.8280 - accuracy: 0.7588 - val_loss: 0.5140 - val_accuracy: 0.8211\n",
      "Epoch 43/100\n",
      "733/733 [==============================] - 1s 702us/step - loss: 0.8575 - accuracy: 0.7589 - val_loss: 0.4614 - val_accuracy: 0.8127\n",
      "Epoch 44/100\n",
      "733/733 [==============================] - 1s 692us/step - loss: 0.8461 - accuracy: 0.7628 - val_loss: 1.1607 - val_accuracy: 0.7977\n",
      "Epoch 45/100\n",
      "733/733 [==============================] - 1s 688us/step - loss: 0.9464 - accuracy: 0.7511 - val_loss: 0.4175 - val_accuracy: 0.8322\n"
     ]
    },
    {
     "data": {
      "text/plain": "<keras.src.callbacks.History at 0x2c2977190>"
     },
     "execution_count": 32,
     "metadata": {},
     "output_type": "execute_result"
    }
   ],
   "source": [
    "early_stopping = tf.keras.callbacks.EarlyStopping(monitor='loss', patience=3)\n",
    "\n",
    "model.fit(X_train, y_train, epochs=100, batch_size=32, validation_split=0.1, callbacks=[early_stopping])"
   ],
   "metadata": {
    "collapsed": false,
    "pycharm": {
     "name": "#%%\n"
    }
   }
  },
  {
   "cell_type": "code",
   "execution_count": 33,
   "outputs": [
    {
     "name": "stdout",
     "output_type": "stream",
     "text": [
      "204/204 [==============================] - 0s 467us/step - loss: 0.4242 - accuracy: 0.8182\n"
     ]
    }
   ],
   "source": [
    "loss, accuracy = model.evaluate(X_test, y_test)"
   ],
   "metadata": {
    "collapsed": false,
    "pycharm": {
     "name": "#%%\n"
    }
   }
  },
  {
   "cell_type": "code",
   "execution_count": 34,
   "outputs": [
    {
     "name": "stdout",
     "output_type": "stream",
     "text": [
      "204/204 [==============================] - 0s 389us/step\n"
     ]
    }
   ],
   "source": [
    "y_pred = model.predict(X_test)"
   ],
   "metadata": {
    "collapsed": false,
    "pycharm": {
     "name": "#%%\n"
    }
   }
  },
  {
   "cell_type": "markdown",
   "source": [
    "## Model Card Generation"
   ],
   "metadata": {
    "collapsed": false,
    "pycharm": {
     "name": "#%% md\n"
    }
   }
  },
  {
   "cell_type": "code",
   "execution_count": 16,
   "outputs": [
    {
     "name": "stdout",
     "output_type": "stream",
     "text": [
      "Collecting fairlearn\r\n",
      "  Using cached fairlearn-0.9.0-py3-none-any.whl (231 kB)\r\n",
      "Requirement already satisfied: numpy>=1.18.0 in ./venv/lib/python3.9/site-packages (from fairlearn) (1.26.1)\r\n",
      "Requirement already satisfied: scipy>=1.5.0 in ./venv/lib/python3.9/site-packages (from fairlearn) (1.11.3)\r\n",
      "Requirement already satisfied: pandas>=0.25.2 in ./venv/lib/python3.9/site-packages (from fairlearn) (2.1.1)\r\n",
      "Requirement already satisfied: scikit-learn>=0.22.1 in ./venv/lib/python3.9/site-packages (from fairlearn) (1.3.1)\r\n",
      "Requirement already satisfied: tzdata>=2022.1 in ./venv/lib/python3.9/site-packages (from pandas>=0.25.2->fairlearn) (2023.3)\r\n",
      "Requirement already satisfied: python-dateutil>=2.8.2 in ./venv/lib/python3.9/site-packages (from pandas>=0.25.2->fairlearn) (2.8.2)\r\n",
      "Requirement already satisfied: pytz>=2020.1 in ./venv/lib/python3.9/site-packages (from pandas>=0.25.2->fairlearn) (2023.3.post1)\r\n",
      "Requirement already satisfied: six>=1.5 in ./venv/lib/python3.9/site-packages (from python-dateutil>=2.8.2->pandas>=0.25.2->fairlearn) (1.16.0)\r\n",
      "Requirement already satisfied: threadpoolctl>=2.0.0 in ./venv/lib/python3.9/site-packages (from scikit-learn>=0.22.1->fairlearn) (3.2.0)\r\n",
      "Requirement already satisfied: joblib>=1.1.1 in ./venv/lib/python3.9/site-packages (from scikit-learn>=0.22.1->fairlearn) (1.3.2)\r\n",
      "Installing collected packages: fairlearn\r\n",
      "Successfully installed fairlearn-0.9.0\r\n",
      "\u001B[33mWARNING: You are using pip version 21.2.4; however, version 23.3 is available.\r\n",
      "You should consider upgrading via the '/Users/swithana/git/jupyter/venv/bin/python -m pip install --upgrade pip' command.\u001B[0m\r\n"
     ]
    }
   ],
   "source": [
    "!pip install fairlearn"
   ],
   "metadata": {
    "collapsed": false,
    "pycharm": {
     "name": "#%%\n"
    }
   }
  },
  {
   "cell_type": "code",
   "execution_count": 35,
   "outputs": [],
   "source": [
    "from icicle_model_card.icicle_model_card import ModelCard, AIModel, BiasAnalysis, ExplainabilityAnalysis, validate_mc, Metric\n",
    "import json"
   ],
   "metadata": {
    "collapsed": false,
    "pycharm": {
     "name": "#%%\n"
    }
   }
  },
  {
   "cell_type": "code",
   "execution_count": 36,
   "outputs": [],
   "source": [
    "mc = ModelCard(\n",
    "            name=\"UCI Adult Data Analysis\",\n",
    "            version=\"0.1\",\n",
    "            short_description=\"UCI Adult Data analysis using Tensorflow\",\n",
    "            full_description=\"Using a tensorflow trained neural network to analyse fairness and explainability in the UCI Adult Dataset\",\n",
    "            keywords=\"uci adult, tensorflow, explainability, fairness, fairlearn, shap\",\n",
    "            author=\"Sachith Withana\"\n",
    "        )\n",
    "\n",
    "mc.input_data = 'https://archive.ics.uci.edu/dataset/2/adult'"
   ],
   "metadata": {
    "collapsed": false,
    "pycharm": {
     "name": "#%%\n"
    }
   }
  },
  {
   "cell_type": "code",
   "execution_count": 37,
   "outputs": [],
   "source": [
    "model_metrics = []\n",
    "model_metrics.append(Metric(\"Test loss\", loss))\n",
    "model_metrics.append(Metric(\"Test Accuracy\", accuracy))\n",
    "\n",
    "ai_model = AIModel(\n",
    "            name=\"UCI Adult tensorflow model\",\n",
    "            version=\"0.1\",\n",
    "            description=\"Census classification problem using Neural Network\",\n",
    "            owner=\"Sachith Withana\",\n",
    "            location=\"github.com/swsachith/ai-model\",\n",
    "            licence=\"BSD-3 Clause\",\n",
    "            model_structure = json.dumps(json.loads(model.to_json()), indent=2)\n",
    "        )\n",
    "ai_model.metrics = model_metrics\n",
    "mc.ai_model = ai_model"
   ],
   "metadata": {
    "collapsed": false,
    "pycharm": {
     "name": "#%%\n"
    }
   }
  },
  {
   "cell_type": "code",
   "execution_count": 39,
   "outputs": [
    {
     "name": "stdout",
     "output_type": "stream",
     "text": [
      "204/204 [==============================] - 0s 415us/step\n"
     ]
    },
    {
     "name": "stderr",
     "output_type": "stream",
     "text": [
      "/Users/swithana/git/jupyter/venv/lib/python3.9/site-packages/fairlearn/metrics/_disaggregated_result.py:235: FutureWarning: DataFrame.applymap has been deprecated. Use DataFrame.map instead.\n",
      "  mf = mf.applymap(lambda x: x if np.isscalar(x) else np.nan)\n",
      "/Users/swithana/git/jupyter/venv/lib/python3.9/site-packages/fairlearn/metrics/_disaggregated_result.py:235: FutureWarning: DataFrame.applymap has been deprecated. Use DataFrame.map instead.\n",
      "  mf = mf.applymap(lambda x: x if np.isscalar(x) else np.nan)\n",
      "/Users/swithana/git/jupyter/venv/lib/python3.9/site-packages/fairlearn/metrics/_disaggregated_result.py:235: FutureWarning: DataFrame.applymap has been deprecated. Use DataFrame.map instead.\n",
      "  mf = mf.applymap(lambda x: x if np.isscalar(x) else np.nan)\n",
      "/Users/swithana/git/jupyter/venv/lib/python3.9/site-packages/fairlearn/metrics/_disaggregated_result.py:235: FutureWarning: DataFrame.applymap has been deprecated. Use DataFrame.map instead.\n",
      "  mf = mf.applymap(lambda x: x if np.isscalar(x) else np.nan)\n",
      "/Users/swithana/git/jupyter/venv/lib/python3.9/site-packages/fairlearn/metrics/_disaggregated_result.py:235: FutureWarning: DataFrame.applymap has been deprecated. Use DataFrame.map instead.\n",
      "  mf = mf.applymap(lambda x: x if np.isscalar(x) else np.nan)\n",
      "/Users/swithana/git/jupyter/venv/lib/python3.9/site-packages/fairlearn/metrics/_disaggregated_result.py:235: FutureWarning: DataFrame.applymap has been deprecated. Use DataFrame.map instead.\n",
      "  mf = mf.applymap(lambda x: x if np.isscalar(x) else np.nan)\n"
     ]
    }
   ],
   "source": [
    "y_pred = model.predict(X_test)\n",
    "y_pred = (y_pred >= 0.5).flatten()\n",
    "mc.populate_bias(X_test, y_test, y_pred, \"gender\", X_test[:, 58], model)"
   ],
   "metadata": {
    "collapsed": false,
    "pycharm": {
     "name": "#%%\n"
    }
   }
  },
  {
   "cell_type": "code",
   "execution_count": 40,
   "outputs": [
    {
     "name": "stdout",
     "output_type": "stream",
     "text": [
      "{'demographic_parity_diff': 0.23919469586551045, 'equal_odds_difference': 0.1595937822770518}\n"
     ]
    }
   ],
   "source": [
    "print(mc.bias_analysis)"
   ],
   "metadata": {
    "collapsed": false,
    "pycharm": {
     "name": "#%%\n"
    }
   }
  },
  {
   "cell_type": "code",
   "execution_count": null,
   "outputs": [],
   "source": [],
   "metadata": {
    "collapsed": false,
    "pycharm": {
     "name": "#%%\n"
    }
   }
  }
 ],
 "metadata": {
  "kernelspec": {
   "display_name": "Python 3",
   "language": "python",
   "name": "python3"
  },
  "language_info": {
   "codemirror_mode": {
    "name": "ipython",
    "version": 2
   },
   "file_extension": ".py",
   "mimetype": "text/x-python",
   "name": "python",
   "nbconvert_exporter": "python",
   "pygments_lexer": "ipython2",
   "version": "2.7.6"
  }
 },
 "nbformat": 4,
 "nbformat_minor": 0
}
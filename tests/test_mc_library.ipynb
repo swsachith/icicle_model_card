{
 "cells": [
  {
   "cell_type": "code",
   "execution_count": 1,
   "outputs": [
    {
     "name": "stderr",
     "output_type": "stream",
     "text": [
      "/Users/swithana/git/jupyter/venv/lib/python3.9/site-packages/urllib3/__init__.py:34: NotOpenSSLWarning: urllib3 v2.0 only supports OpenSSL 1.1.1+, currently the 'ssl' module is compiled with 'LibreSSL 2.8.3'. See: https://github.com/urllib3/urllib3/issues/3020\n",
      "  warnings.warn(\n"
     ]
    }
   ],
   "source": [
    "import numpy as np\n",
    "import pandas as pd\n",
    "import tensorflow as tf\n",
    "from sklearn.model_selection import train_test_split\n",
    "from sklearn.preprocessing import StandardScaler, LabelEncoder"
   ],
   "metadata": {
    "collapsed": false,
    "pycharm": {
     "name": "#%%\n"
    }
   }
  },
  {
   "cell_type": "code",
   "execution_count": 2,
   "outputs": [],
   "source": [
    "columns = [\"age\", \"workclass\", \"fnlwgt\", \"education\", \"education-num\", \"martial-status\",\n",
    "        \"occupation\", \"relationship\", \"race\", \"sex\", \"capital-gain\", \"capital-loss\",\n",
    "        \"hours-per-week\", \"native-country\", \"income\"]\n",
    "data = pd.read_csv('/Users/swithana/git/icicle_model_card/tests/data/adult/adult.data', names=columns)"
   ],
   "metadata": {
    "collapsed": false,
    "pycharm": {
     "name": "#%%\n"
    }
   }
  },
  {
   "cell_type": "code",
   "execution_count": 3,
   "outputs": [
    {
     "data": {
      "text/plain": "   age          workclass  fnlwgt   education  education-num  \\\n0   39          State-gov   77516   Bachelors             13   \n1   50   Self-emp-not-inc   83311   Bachelors             13   \n2   38            Private  215646     HS-grad              9   \n3   53            Private  234721        11th              7   \n4   28            Private  338409   Bachelors             13   \n\n        martial-status          occupation    relationship    race      sex  \\\n0        Never-married        Adm-clerical   Not-in-family   White     Male   \n1   Married-civ-spouse     Exec-managerial         Husband   White     Male   \n2             Divorced   Handlers-cleaners   Not-in-family   White     Male   \n3   Married-civ-spouse   Handlers-cleaners         Husband   Black     Male   \n4   Married-civ-spouse      Prof-specialty            Wife   Black   Female   \n\n   capital-gain  capital-loss  hours-per-week  native-country  income  \n0          2174             0              40   United-States   <=50K  \n1             0             0              13   United-States   <=50K  \n2             0             0              40   United-States   <=50K  \n3             0             0              40   United-States   <=50K  \n4             0             0              40            Cuba   <=50K  ",
      "text/html": "<div>\n<style scoped>\n    .dataframe tbody tr th:only-of-type {\n        vertical-align: middle;\n    }\n\n    .dataframe tbody tr th {\n        vertical-align: top;\n    }\n\n    .dataframe thead th {\n        text-align: right;\n    }\n</style>\n<table border=\"1\" class=\"dataframe\">\n  <thead>\n    <tr style=\"text-align: right;\">\n      <th></th>\n      <th>age</th>\n      <th>workclass</th>\n      <th>fnlwgt</th>\n      <th>education</th>\n      <th>education-num</th>\n      <th>martial-status</th>\n      <th>occupation</th>\n      <th>relationship</th>\n      <th>race</th>\n      <th>sex</th>\n      <th>capital-gain</th>\n      <th>capital-loss</th>\n      <th>hours-per-week</th>\n      <th>native-country</th>\n      <th>income</th>\n    </tr>\n  </thead>\n  <tbody>\n    <tr>\n      <th>0</th>\n      <td>39</td>\n      <td>State-gov</td>\n      <td>77516</td>\n      <td>Bachelors</td>\n      <td>13</td>\n      <td>Never-married</td>\n      <td>Adm-clerical</td>\n      <td>Not-in-family</td>\n      <td>White</td>\n      <td>Male</td>\n      <td>2174</td>\n      <td>0</td>\n      <td>40</td>\n      <td>United-States</td>\n      <td>&lt;=50K</td>\n    </tr>\n    <tr>\n      <th>1</th>\n      <td>50</td>\n      <td>Self-emp-not-inc</td>\n      <td>83311</td>\n      <td>Bachelors</td>\n      <td>13</td>\n      <td>Married-civ-spouse</td>\n      <td>Exec-managerial</td>\n      <td>Husband</td>\n      <td>White</td>\n      <td>Male</td>\n      <td>0</td>\n      <td>0</td>\n      <td>13</td>\n      <td>United-States</td>\n      <td>&lt;=50K</td>\n    </tr>\n    <tr>\n      <th>2</th>\n      <td>38</td>\n      <td>Private</td>\n      <td>215646</td>\n      <td>HS-grad</td>\n      <td>9</td>\n      <td>Divorced</td>\n      <td>Handlers-cleaners</td>\n      <td>Not-in-family</td>\n      <td>White</td>\n      <td>Male</td>\n      <td>0</td>\n      <td>0</td>\n      <td>40</td>\n      <td>United-States</td>\n      <td>&lt;=50K</td>\n    </tr>\n    <tr>\n      <th>3</th>\n      <td>53</td>\n      <td>Private</td>\n      <td>234721</td>\n      <td>11th</td>\n      <td>7</td>\n      <td>Married-civ-spouse</td>\n      <td>Handlers-cleaners</td>\n      <td>Husband</td>\n      <td>Black</td>\n      <td>Male</td>\n      <td>0</td>\n      <td>0</td>\n      <td>40</td>\n      <td>United-States</td>\n      <td>&lt;=50K</td>\n    </tr>\n    <tr>\n      <th>4</th>\n      <td>28</td>\n      <td>Private</td>\n      <td>338409</td>\n      <td>Bachelors</td>\n      <td>13</td>\n      <td>Married-civ-spouse</td>\n      <td>Prof-specialty</td>\n      <td>Wife</td>\n      <td>Black</td>\n      <td>Female</td>\n      <td>0</td>\n      <td>0</td>\n      <td>40</td>\n      <td>Cuba</td>\n      <td>&lt;=50K</td>\n    </tr>\n  </tbody>\n</table>\n</div>"
     },
     "execution_count": 3,
     "metadata": {},
     "output_type": "execute_result"
    }
   ],
   "source": [
    "data.head()"
   ],
   "metadata": {
    "collapsed": false,
    "pycharm": {
     "name": "#%%\n"
    }
   }
  },
  {
   "cell_type": "markdown",
   "source": [
    "### Pre-processing"
   ],
   "metadata": {
    "collapsed": false,
    "pycharm": {
     "name": "#%% md\n"
    }
   }
  },
  {
   "cell_type": "code",
   "execution_count": 4,
   "outputs": [
    {
     "data": {
      "text/plain": "   age  fnlwgt  education-num  capital-gain  capital-loss  hours-per-week  \\\n0   39   77516             13          2174             0              40   \n1   50   83311             13             0             0              13   \n2   38  215646              9             0             0              40   \n3   53  234721              7             0             0              40   \n4   28  338409             13             0             0              40   \n\n   income  workclass_ Federal-gov  workclass_ Local-gov  \\\n0       0                     0.0                   0.0   \n1       0                     0.0                   0.0   \n2       0                     0.0                   0.0   \n3       0                     0.0                   0.0   \n4       0                     0.0                   0.0   \n\n   workclass_ Never-worked  ...  native-country_ Portugal  \\\n0                      0.0  ...                       0.0   \n1                      0.0  ...                       0.0   \n2                      0.0  ...                       0.0   \n3                      0.0  ...                       0.0   \n4                      0.0  ...                       0.0   \n\n   native-country_ Puerto-Rico  native-country_ Scotland  \\\n0                          0.0                       0.0   \n1                          0.0                       0.0   \n2                          0.0                       0.0   \n3                          0.0                       0.0   \n4                          0.0                       0.0   \n\n   native-country_ South  native-country_ Taiwan  native-country_ Thailand  \\\n0                    0.0                     0.0                       0.0   \n1                    0.0                     0.0                       0.0   \n2                    0.0                     0.0                       0.0   \n3                    0.0                     0.0                       0.0   \n4                    0.0                     0.0                       0.0   \n\n   native-country_ Trinadad&Tobago  native-country_ United-States  \\\n0                              0.0                            1.0   \n1                              0.0                            1.0   \n2                              0.0                            1.0   \n3                              0.0                            1.0   \n4                              0.0                            0.0   \n\n   native-country_ Vietnam  native-country_ Yugoslavia  \n0                      0.0                         0.0  \n1                      0.0                         0.0  \n2                      0.0                         0.0  \n3                      0.0                         0.0  \n4                      0.0                         0.0  \n\n[5 rows x 101 columns]",
      "text/html": "<div>\n<style scoped>\n    .dataframe tbody tr th:only-of-type {\n        vertical-align: middle;\n    }\n\n    .dataframe tbody tr th {\n        vertical-align: top;\n    }\n\n    .dataframe thead th {\n        text-align: right;\n    }\n</style>\n<table border=\"1\" class=\"dataframe\">\n  <thead>\n    <tr style=\"text-align: right;\">\n      <th></th>\n      <th>age</th>\n      <th>fnlwgt</th>\n      <th>education-num</th>\n      <th>capital-gain</th>\n      <th>capital-loss</th>\n      <th>hours-per-week</th>\n      <th>income</th>\n      <th>workclass_ Federal-gov</th>\n      <th>workclass_ Local-gov</th>\n      <th>workclass_ Never-worked</th>\n      <th>...</th>\n      <th>native-country_ Portugal</th>\n      <th>native-country_ Puerto-Rico</th>\n      <th>native-country_ Scotland</th>\n      <th>native-country_ South</th>\n      <th>native-country_ Taiwan</th>\n      <th>native-country_ Thailand</th>\n      <th>native-country_ Trinadad&amp;Tobago</th>\n      <th>native-country_ United-States</th>\n      <th>native-country_ Vietnam</th>\n      <th>native-country_ Yugoslavia</th>\n    </tr>\n  </thead>\n  <tbody>\n    <tr>\n      <th>0</th>\n      <td>39</td>\n      <td>77516</td>\n      <td>13</td>\n      <td>2174</td>\n      <td>0</td>\n      <td>40</td>\n      <td>0</td>\n      <td>0.0</td>\n      <td>0.0</td>\n      <td>0.0</td>\n      <td>...</td>\n      <td>0.0</td>\n      <td>0.0</td>\n      <td>0.0</td>\n      <td>0.0</td>\n      <td>0.0</td>\n      <td>0.0</td>\n      <td>0.0</td>\n      <td>1.0</td>\n      <td>0.0</td>\n      <td>0.0</td>\n    </tr>\n    <tr>\n      <th>1</th>\n      <td>50</td>\n      <td>83311</td>\n      <td>13</td>\n      <td>0</td>\n      <td>0</td>\n      <td>13</td>\n      <td>0</td>\n      <td>0.0</td>\n      <td>0.0</td>\n      <td>0.0</td>\n      <td>...</td>\n      <td>0.0</td>\n      <td>0.0</td>\n      <td>0.0</td>\n      <td>0.0</td>\n      <td>0.0</td>\n      <td>0.0</td>\n      <td>0.0</td>\n      <td>1.0</td>\n      <td>0.0</td>\n      <td>0.0</td>\n    </tr>\n    <tr>\n      <th>2</th>\n      <td>38</td>\n      <td>215646</td>\n      <td>9</td>\n      <td>0</td>\n      <td>0</td>\n      <td>40</td>\n      <td>0</td>\n      <td>0.0</td>\n      <td>0.0</td>\n      <td>0.0</td>\n      <td>...</td>\n      <td>0.0</td>\n      <td>0.0</td>\n      <td>0.0</td>\n      <td>0.0</td>\n      <td>0.0</td>\n      <td>0.0</td>\n      <td>0.0</td>\n      <td>1.0</td>\n      <td>0.0</td>\n      <td>0.0</td>\n    </tr>\n    <tr>\n      <th>3</th>\n      <td>53</td>\n      <td>234721</td>\n      <td>7</td>\n      <td>0</td>\n      <td>0</td>\n      <td>40</td>\n      <td>0</td>\n      <td>0.0</td>\n      <td>0.0</td>\n      <td>0.0</td>\n      <td>...</td>\n      <td>0.0</td>\n      <td>0.0</td>\n      <td>0.0</td>\n      <td>0.0</td>\n      <td>0.0</td>\n      <td>0.0</td>\n      <td>0.0</td>\n      <td>1.0</td>\n      <td>0.0</td>\n      <td>0.0</td>\n    </tr>\n    <tr>\n      <th>4</th>\n      <td>28</td>\n      <td>338409</td>\n      <td>13</td>\n      <td>0</td>\n      <td>0</td>\n      <td>40</td>\n      <td>0</td>\n      <td>0.0</td>\n      <td>0.0</td>\n      <td>0.0</td>\n      <td>...</td>\n      <td>0.0</td>\n      <td>0.0</td>\n      <td>0.0</td>\n      <td>0.0</td>\n      <td>0.0</td>\n      <td>0.0</td>\n      <td>0.0</td>\n      <td>0.0</td>\n      <td>0.0</td>\n      <td>0.0</td>\n    </tr>\n  </tbody>\n</table>\n<p>5 rows × 101 columns</p>\n</div>"
     },
     "execution_count": 4,
     "metadata": {},
     "output_type": "execute_result"
    }
   ],
   "source": [
    "label_encoder = LabelEncoder()\n",
    "data['income'] = label_encoder.fit_transform(data['income'])\n",
    "\n",
    "# Convert categorical variables to one-hot encoding\n",
    "data = pd.get_dummies(data, drop_first=True, dtype=float)\n",
    "\n",
    "data.head()"
   ],
   "metadata": {
    "collapsed": false,
    "pycharm": {
     "name": "#%%\n"
    }
   }
  },
  {
   "cell_type": "code",
   "execution_count": 5,
   "outputs": [
    {
     "name": "stdout",
     "output_type": "stream",
     "text": [
      "['age', 'fnlwgt', 'education-num', 'capital-gain', 'capital-loss', 'hours-per-week', 'income', 'workclass_ Federal-gov', 'workclass_ Local-gov', 'workclass_ Never-worked', 'workclass_ Private', 'workclass_ Self-emp-inc', 'workclass_ Self-emp-not-inc', 'workclass_ State-gov', 'workclass_ Without-pay', 'education_ 11th', 'education_ 12th', 'education_ 1st-4th', 'education_ 5th-6th', 'education_ 7th-8th', 'education_ 9th', 'education_ Assoc-acdm', 'education_ Assoc-voc', 'education_ Bachelors', 'education_ Doctorate', 'education_ HS-grad', 'education_ Masters', 'education_ Preschool', 'education_ Prof-school', 'education_ Some-college', 'martial-status_ Married-AF-spouse', 'martial-status_ Married-civ-spouse', 'martial-status_ Married-spouse-absent', 'martial-status_ Never-married', 'martial-status_ Separated', 'martial-status_ Widowed', 'occupation_ Adm-clerical', 'occupation_ Armed-Forces', 'occupation_ Craft-repair', 'occupation_ Exec-managerial', 'occupation_ Farming-fishing', 'occupation_ Handlers-cleaners', 'occupation_ Machine-op-inspct', 'occupation_ Other-service', 'occupation_ Priv-house-serv', 'occupation_ Prof-specialty', 'occupation_ Protective-serv', 'occupation_ Sales', 'occupation_ Tech-support', 'occupation_ Transport-moving', 'relationship_ Not-in-family', 'relationship_ Other-relative', 'relationship_ Own-child', 'relationship_ Unmarried', 'relationship_ Wife', 'race_ Asian-Pac-Islander', 'race_ Black', 'race_ Other', 'race_ White', 'sex_ Male', 'native-country_ Cambodia', 'native-country_ Canada', 'native-country_ China', 'native-country_ Columbia', 'native-country_ Cuba', 'native-country_ Dominican-Republic', 'native-country_ Ecuador', 'native-country_ El-Salvador', 'native-country_ England', 'native-country_ France', 'native-country_ Germany', 'native-country_ Greece', 'native-country_ Guatemala', 'native-country_ Haiti', 'native-country_ Holand-Netherlands', 'native-country_ Honduras', 'native-country_ Hong', 'native-country_ Hungary', 'native-country_ India', 'native-country_ Iran', 'native-country_ Ireland', 'native-country_ Italy', 'native-country_ Jamaica', 'native-country_ Japan', 'native-country_ Laos', 'native-country_ Mexico', 'native-country_ Nicaragua', 'native-country_ Outlying-US(Guam-USVI-etc)', 'native-country_ Peru', 'native-country_ Philippines', 'native-country_ Poland', 'native-country_ Portugal', 'native-country_ Puerto-Rico', 'native-country_ Scotland', 'native-country_ South', 'native-country_ Taiwan', 'native-country_ Thailand', 'native-country_ Trinadad&Tobago', 'native-country_ United-States', 'native-country_ Vietnam', 'native-country_ Yugoslavia']\n"
     ]
    }
   ],
   "source": [
    "X = data.drop('income', axis=1).values\n",
    "y = data['income'].values\n",
    "\n",
    "print(data.columns.tolist())"
   ],
   "metadata": {
    "collapsed": false,
    "pycharm": {
     "name": "#%%\n"
    }
   }
  },
  {
   "cell_type": "code",
   "execution_count": 6,
   "outputs": [],
   "source": [
    "X_train, X_test, y_train, y_test = train_test_split(X, y, test_size=0.2, random_state=42)"
   ],
   "metadata": {
    "collapsed": false,
    "pycharm": {
     "name": "#%%\n"
    }
   }
  },
  {
   "cell_type": "markdown",
   "source": [
    "### Model Training"
   ],
   "metadata": {
    "collapsed": false,
    "pycharm": {
     "name": "#%% md\n"
    }
   }
  },
  {
   "cell_type": "code",
   "execution_count": 7,
   "outputs": [],
   "source": [
    "model = tf.keras.Sequential([\n",
    "    tf.keras.layers.Input(shape=(X_train.shape[1],)),\n",
    "    tf.keras.layers.Dense(64, activation='relu'),\n",
    "    tf.keras.layers.Dense(32, activation='relu'),\n",
    "    tf.keras.layers.Dense(1, activation='sigmoid')\n",
    "])\n",
    "\n",
    "model.compile(optimizer='adam', loss='binary_crossentropy', metrics=['accuracy'])"
   ],
   "metadata": {
    "collapsed": false,
    "pycharm": {
     "name": "#%%\n"
    }
   }
  },
  {
   "cell_type": "code",
   "execution_count": 8,
   "outputs": [
    {
     "name": "stdout",
     "output_type": "stream",
     "text": [
      "Epoch 1/100\n",
      "733/733 [==============================] - 1s 705us/step - loss: 154.4950 - accuracy: 0.6728 - val_loss: 16.0360 - val_accuracy: 0.7965\n",
      "Epoch 2/100\n",
      "733/733 [==============================] - 0s 637us/step - loss: 89.8579 - accuracy: 0.6788 - val_loss: 360.2345 - val_accuracy: 0.2365\n",
      "Epoch 3/100\n",
      "733/733 [==============================] - 0s 626us/step - loss: 89.7380 - accuracy: 0.6807 - val_loss: 149.2597 - val_accuracy: 0.7877\n",
      "Epoch 4/100\n",
      "733/733 [==============================] - 0s 619us/step - loss: 71.6848 - accuracy: 0.6847 - val_loss: 32.8817 - val_accuracy: 0.8050\n",
      "Epoch 5/100\n",
      "733/733 [==============================] - 0s 625us/step - loss: 69.2892 - accuracy: 0.6815 - val_loss: 93.8003 - val_accuracy: 0.7996\n",
      "Epoch 6/100\n",
      "733/733 [==============================] - 0s 614us/step - loss: 90.7568 - accuracy: 0.6793 - val_loss: 25.0812 - val_accuracy: 0.7931\n",
      "Epoch 7/100\n",
      "733/733 [==============================] - 0s 629us/step - loss: 71.2651 - accuracy: 0.6814 - val_loss: 108.8572 - val_accuracy: 0.2357\n",
      "Epoch 8/100\n",
      "733/733 [==============================] - 0s 621us/step - loss: 57.0680 - accuracy: 0.6822 - val_loss: 58.2201 - val_accuracy: 0.8054\n",
      "Epoch 9/100\n",
      "733/733 [==============================] - 0s 620us/step - loss: 57.5403 - accuracy: 0.6876 - val_loss: 16.5959 - val_accuracy: 0.7862\n",
      "Epoch 10/100\n",
      "733/733 [==============================] - 0s 621us/step - loss: 50.1249 - accuracy: 0.6887 - val_loss: 152.1118 - val_accuracy: 0.7747\n",
      "Epoch 11/100\n",
      "733/733 [==============================] - 0s 604us/step - loss: 51.0842 - accuracy: 0.6875 - val_loss: 19.7469 - val_accuracy: 0.7904\n",
      "Epoch 12/100\n",
      "733/733 [==============================] - 0s 614us/step - loss: 49.5768 - accuracy: 0.6901 - val_loss: 25.8876 - val_accuracy: 0.2468\n",
      "Epoch 13/100\n",
      "733/733 [==============================] - 0s 605us/step - loss: 35.2181 - accuracy: 0.6934 - val_loss: 29.4145 - val_accuracy: 0.7996\n",
      "Epoch 14/100\n",
      "733/733 [==============================] - 0s 604us/step - loss: 38.0991 - accuracy: 0.6900 - val_loss: 5.6439 - val_accuracy: 0.7612\n",
      "Epoch 15/100\n",
      "733/733 [==============================] - 0s 602us/step - loss: 33.1841 - accuracy: 0.6918 - val_loss: 67.3585 - val_accuracy: 0.2372\n",
      "Epoch 16/100\n",
      "733/733 [==============================] - 0s 608us/step - loss: 37.6937 - accuracy: 0.6934 - val_loss: 25.7247 - val_accuracy: 0.8092\n",
      "Epoch 17/100\n",
      "733/733 [==============================] - 0s 605us/step - loss: 37.9106 - accuracy: 0.6929 - val_loss: 102.7796 - val_accuracy: 0.7785\n",
      "Epoch 18/100\n",
      "733/733 [==============================] - 0s 603us/step - loss: 28.6683 - accuracy: 0.6980 - val_loss: 12.3030 - val_accuracy: 0.8008\n",
      "Epoch 19/100\n",
      "733/733 [==============================] - 0s 604us/step - loss: 23.1830 - accuracy: 0.7058 - val_loss: 24.8588 - val_accuracy: 0.2649\n",
      "Epoch 20/100\n",
      "733/733 [==============================] - 0s 603us/step - loss: 29.2252 - accuracy: 0.6993 - val_loss: 9.5880 - val_accuracy: 0.7939\n",
      "Epoch 21/100\n",
      "733/733 [==============================] - 0s 605us/step - loss: 18.4273 - accuracy: 0.7130 - val_loss: 124.6378 - val_accuracy: 0.7747\n",
      "Epoch 22/100\n",
      "733/733 [==============================] - 0s 601us/step - loss: 17.6097 - accuracy: 0.7127 - val_loss: 21.8389 - val_accuracy: 0.2722\n",
      "Epoch 23/100\n",
      "733/733 [==============================] - 0s 599us/step - loss: 25.3168 - accuracy: 0.7049 - val_loss: 5.4937 - val_accuracy: 0.7159\n",
      "Epoch 24/100\n",
      "733/733 [==============================] - 0s 595us/step - loss: 18.1794 - accuracy: 0.7060 - val_loss: 12.2289 - val_accuracy: 0.8111\n",
      "Epoch 25/100\n",
      "733/733 [==============================] - 0s 602us/step - loss: 14.9699 - accuracy: 0.7177 - val_loss: 2.5422 - val_accuracy: 0.7900\n",
      "Epoch 26/100\n",
      "733/733 [==============================] - 0s 603us/step - loss: 14.4268 - accuracy: 0.7220 - val_loss: 18.1960 - val_accuracy: 0.8042\n",
      "Epoch 27/100\n",
      "733/733 [==============================] - 0s 607us/step - loss: 16.7585 - accuracy: 0.7103 - val_loss: 14.6166 - val_accuracy: 0.8081\n",
      "Epoch 28/100\n",
      "733/733 [==============================] - 0s 599us/step - loss: 15.1199 - accuracy: 0.7136 - val_loss: 4.5703 - val_accuracy: 0.8008\n",
      "Epoch 29/100\n",
      "733/733 [==============================] - 0s 604us/step - loss: 13.8955 - accuracy: 0.7175 - val_loss: 2.8449 - val_accuracy: 0.7213\n",
      "Epoch 30/100\n",
      "733/733 [==============================] - 0s 630us/step - loss: 13.6803 - accuracy: 0.7188 - val_loss: 9.0369 - val_accuracy: 0.7823\n",
      "Epoch 31/100\n",
      "733/733 [==============================] - 0s 673us/step - loss: 9.7790 - accuracy: 0.7234 - val_loss: 21.3818 - val_accuracy: 0.7946\n",
      "Epoch 32/100\n",
      "733/733 [==============================] - 0s 626us/step - loss: 10.7256 - accuracy: 0.7204 - val_loss: 3.4319 - val_accuracy: 0.8165\n",
      "Epoch 33/100\n",
      "733/733 [==============================] - 0s 613us/step - loss: 9.1130 - accuracy: 0.7283 - val_loss: 2.9462 - val_accuracy: 0.8138\n",
      "Epoch 34/100\n",
      "733/733 [==============================] - 0s 620us/step - loss: 8.1557 - accuracy: 0.7316 - val_loss: 3.9838 - val_accuracy: 0.6399\n",
      "Epoch 35/100\n",
      "733/733 [==============================] - 0s 641us/step - loss: 8.0803 - accuracy: 0.7316 - val_loss: 16.4768 - val_accuracy: 0.2956\n",
      "Epoch 36/100\n",
      "733/733 [==============================] - 0s 661us/step - loss: 8.0602 - accuracy: 0.7313 - val_loss: 2.6190 - val_accuracy: 0.8238\n",
      "Epoch 37/100\n",
      "733/733 [==============================] - 0s 645us/step - loss: 7.4257 - accuracy: 0.7316 - val_loss: 4.1033 - val_accuracy: 0.8031\n",
      "Epoch 38/100\n",
      "733/733 [==============================] - 0s 649us/step - loss: 7.1864 - accuracy: 0.7352 - val_loss: 19.0446 - val_accuracy: 0.2791\n",
      "Epoch 39/100\n",
      "733/733 [==============================] - 0s 630us/step - loss: 7.5871 - accuracy: 0.7274 - val_loss: 6.2655 - val_accuracy: 0.4576\n",
      "Epoch 40/100\n",
      "733/733 [==============================] - 0s 642us/step - loss: 5.4794 - accuracy: 0.7430 - val_loss: 10.0510 - val_accuracy: 0.7904\n",
      "Epoch 41/100\n",
      "733/733 [==============================] - 0s 607us/step - loss: 4.3128 - accuracy: 0.7485 - val_loss: 3.6186 - val_accuracy: 0.5451\n",
      "Epoch 42/100\n",
      "733/733 [==============================] - 0s 623us/step - loss: 6.1286 - accuracy: 0.7350 - val_loss: 3.4682 - val_accuracy: 0.8023\n",
      "Epoch 43/100\n",
      "733/733 [==============================] - 0s 611us/step - loss: 4.0882 - accuracy: 0.7453 - val_loss: 0.8412 - val_accuracy: 0.7850\n",
      "Epoch 44/100\n",
      "733/733 [==============================] - 0s 616us/step - loss: 4.6265 - accuracy: 0.7443 - val_loss: 3.4490 - val_accuracy: 0.5704\n",
      "Epoch 45/100\n",
      "733/733 [==============================] - 1s 715us/step - loss: 3.6747 - accuracy: 0.7475 - val_loss: 2.3748 - val_accuracy: 0.8096\n",
      "Epoch 46/100\n",
      "733/733 [==============================] - 0s 666us/step - loss: 2.8721 - accuracy: 0.7486 - val_loss: 5.8662 - val_accuracy: 0.7939\n",
      "Epoch 47/100\n",
      "733/733 [==============================] - 0s 600us/step - loss: 3.0539 - accuracy: 0.7478 - val_loss: 2.8902 - val_accuracy: 0.5163\n",
      "Epoch 48/100\n",
      "733/733 [==============================] - 0s 615us/step - loss: 2.8750 - accuracy: 0.7407 - val_loss: 1.2368 - val_accuracy: 0.8253\n",
      "Epoch 49/100\n",
      "733/733 [==============================] - 0s 605us/step - loss: 2.7824 - accuracy: 0.7378 - val_loss: 5.6011 - val_accuracy: 0.7904\n",
      "Epoch 50/100\n",
      "733/733 [==============================] - 0s 600us/step - loss: 1.5723 - accuracy: 0.7572 - val_loss: 3.2366 - val_accuracy: 0.4054\n",
      "Epoch 51/100\n",
      "733/733 [==============================] - 0s 603us/step - loss: 1.7272 - accuracy: 0.7547 - val_loss: 2.6214 - val_accuracy: 0.7996\n",
      "Epoch 52/100\n",
      "733/733 [==============================] - 0s 600us/step - loss: 1.9070 - accuracy: 0.7496 - val_loss: 0.4384 - val_accuracy: 0.8342\n",
      "Epoch 53/100\n",
      "733/733 [==============================] - 0s 600us/step - loss: 1.1873 - accuracy: 0.7638 - val_loss: 0.4205 - val_accuracy: 0.8369\n",
      "Epoch 54/100\n",
      "733/733 [==============================] - 0s 601us/step - loss: 1.3836 - accuracy: 0.7597 - val_loss: 0.5635 - val_accuracy: 0.7501\n",
      "Epoch 55/100\n",
      "733/733 [==============================] - 0s 602us/step - loss: 1.4213 - accuracy: 0.7556 - val_loss: 1.0278 - val_accuracy: 0.6219\n",
      "Epoch 56/100\n",
      "733/733 [==============================] - 0s 603us/step - loss: 1.4346 - accuracy: 0.7537 - val_loss: 2.3972 - val_accuracy: 0.3785\n"
     ]
    },
    {
     "data": {
      "text/plain": "<keras.src.callbacks.History at 0x28e313700>"
     },
     "execution_count": 8,
     "metadata": {},
     "output_type": "execute_result"
    }
   ],
   "source": [
    "early_stopping = tf.keras.callbacks.EarlyStopping(monitor='loss', patience=3)\n",
    "\n",
    "model.fit(X_train, y_train, epochs=100, batch_size=32, validation_split=0.1, callbacks=[early_stopping])"
   ],
   "metadata": {
    "collapsed": false,
    "pycharm": {
     "name": "#%%\n"
    }
   }
  },
  {
   "cell_type": "code",
   "execution_count": 9,
   "outputs": [
    {
     "name": "stdout",
     "output_type": "stream",
     "text": [
      "204/204 [==============================] - 0s 383us/step - loss: 2.4374 - accuracy: 0.3828\n"
     ]
    }
   ],
   "source": [
    "loss, accuracy = model.evaluate(X_test, y_test)"
   ],
   "metadata": {
    "collapsed": false,
    "pycharm": {
     "name": "#%%\n"
    }
   }
  },
  {
   "cell_type": "code",
   "execution_count": 10,
   "outputs": [
    {
     "name": "stdout",
     "output_type": "stream",
     "text": [
      "204/204 [==============================] - 0s 345us/step\n"
     ]
    }
   ],
   "source": [
    "y_pred = model.predict(X_test)"
   ],
   "metadata": {
    "collapsed": false,
    "pycharm": {
     "name": "#%%\n"
    }
   }
  },
  {
   "cell_type": "markdown",
   "source": [
    "## Model Card Generation"
   ],
   "metadata": {
    "collapsed": false,
    "pycharm": {
     "name": "#%% md\n"
    }
   }
  },
  {
   "cell_type": "code",
   "execution_count": 11,
   "outputs": [],
   "source": [
    "from icicle_model_card.icicle_model_card import ModelCard, AIModel, BiasAnalysis, ExplainabilityAnalysis, validate_mc, Metric\n",
    "import json"
   ],
   "metadata": {
    "collapsed": false,
    "pycharm": {
     "name": "#%%\n"
    }
   }
  },
  {
   "cell_type": "code",
   "execution_count": 12,
   "outputs": [],
   "source": [
    "mc = ModelCard(\n",
    "            name=\"UCI Adult Data Analysis\",\n",
    "            version=\"0.1\",\n",
    "            short_description=\"UCI Adult Data analysis using Tensorflow\",\n",
    "            full_description=\"Using a tensorflow trained neural network to analyse fairness and explainability in the UCI Adult Dataset\",\n",
    "            keywords=\"uci adult, tensorflow, explainability, fairness, fairlearn, shap\",\n",
    "            author=\"Sachith Withana\"\n",
    "        )\n",
    "\n",
    "mc.input_data = 'https://archive.ics.uci.edu/dataset/2/adult'"
   ],
   "metadata": {
    "collapsed": false,
    "pycharm": {
     "name": "#%%\n"
    }
   }
  },
  {
   "cell_type": "code",
   "execution_count": 13,
   "outputs": [],
   "source": [
    "model_metrics = []\n",
    "model_metrics.append(Metric(\"Test loss\", loss))\n",
    "model_metrics.append(Metric(\"Test Accuracy\", accuracy))\n",
    "\n",
    "ai_model = AIModel(\n",
    "            name=\"UCI Adult tensorflow model\",\n",
    "            version=\"0.1\",\n",
    "            description=\"Census classification problem using Neural Network\",\n",
    "            owner=\"Sachith Withana\",\n",
    "            location=\"github.com/swsachith/ai-model\",\n",
    "            licence=\"BSD-3 Clause\",\n",
    "            model_structure = json.dumps(json.loads(model.to_json()), indent=2)\n",
    "        )\n",
    "ai_model.metrics = model_metrics\n",
    "mc.ai_model = ai_model"
   ],
   "metadata": {
    "collapsed": false,
    "pycharm": {
     "name": "#%%\n"
    }
   }
  },
  {
   "cell_type": "code",
   "execution_count": 14,
   "outputs": [
    {
     "name": "stdout",
     "output_type": "stream",
     "text": [
      "204/204 [==============================] - 0s 313us/step\n"
     ]
    },
    {
     "name": "stderr",
     "output_type": "stream",
     "text": [
      "/Users/swithana/git/jupyter/venv/lib/python3.9/site-packages/fairlearn/metrics/_disaggregated_result.py:235: FutureWarning: DataFrame.applymap has been deprecated. Use DataFrame.map instead.\n",
      "  mf = mf.applymap(lambda x: x if np.isscalar(x) else np.nan)\n",
      "/Users/swithana/git/jupyter/venv/lib/python3.9/site-packages/fairlearn/metrics/_disaggregated_result.py:235: FutureWarning: DataFrame.applymap has been deprecated. Use DataFrame.map instead.\n",
      "  mf = mf.applymap(lambda x: x if np.isscalar(x) else np.nan)\n",
      "/Users/swithana/git/jupyter/venv/lib/python3.9/site-packages/fairlearn/metrics/_disaggregated_result.py:235: FutureWarning: DataFrame.applymap has been deprecated. Use DataFrame.map instead.\n",
      "  mf = mf.applymap(lambda x: x if np.isscalar(x) else np.nan)\n",
      "/Users/swithana/git/jupyter/venv/lib/python3.9/site-packages/fairlearn/metrics/_disaggregated_result.py:235: FutureWarning: DataFrame.applymap has been deprecated. Use DataFrame.map instead.\n",
      "  mf = mf.applymap(lambda x: x if np.isscalar(x) else np.nan)\n",
      "/Users/swithana/git/jupyter/venv/lib/python3.9/site-packages/fairlearn/metrics/_disaggregated_result.py:235: FutureWarning: DataFrame.applymap has been deprecated. Use DataFrame.map instead.\n",
      "  mf = mf.applymap(lambda x: x if np.isscalar(x) else np.nan)\n",
      "/Users/swithana/git/jupyter/venv/lib/python3.9/site-packages/fairlearn/metrics/_disaggregated_result.py:235: FutureWarning: DataFrame.applymap has been deprecated. Use DataFrame.map instead.\n",
      "  mf = mf.applymap(lambda x: x if np.isscalar(x) else np.nan)\n"
     ]
    }
   ],
   "source": [
    "y_pred = model.predict(X_test)\n",
    "y_pred = (y_pred >= 0.5).flatten()\n",
    "mc.populate_bias(X_test, y_test, y_pred, \"gender\", X_test[:, 58], model)"
   ],
   "metadata": {
    "collapsed": false,
    "pycharm": {
     "name": "#%%\n"
    }
   }
  },
  {
   "cell_type": "code",
   "execution_count": 15,
   "outputs": [
    {
     "name": "stdout",
     "output_type": "stream",
     "text": [
      "{'demographic_parity_diff': 0.1290871365646512, 'equal_odds_difference': 0.11184237312832124, 'true_positives': 1560, 'true_negatives': 933, 'false_positives': 4009, 'false_negatives': 11}\n"
     ]
    }
   ],
   "source": [
    "print(mc.bias_analysis)"
   ],
   "metadata": {
    "collapsed": false,
    "pycharm": {
     "name": "#%%\n"
    }
   }
  },
  {
   "cell_type": "code",
   "execution_count": 16,
   "outputs": [
    {
     "name": "stdout",
     "output_type": "stream",
     "text": [
      "{\n",
      "  \"name\": \"UCI Adult Data Analysis\",\n",
      "  \"version\": \"0.1\",\n",
      "  \"short_description\": \"UCI Adult Data analysis using Tensorflow\",\n",
      "  \"full_description\": \"Using a tensorflow trained neural network to analyse fairness and explainability in the UCI Adult Dataset\",\n",
      "  \"keywords\": \"uci adult, tensorflow, explainability, fairness, fairlearn, shap\",\n",
      "  \"author\": \"Sachith Withana\",\n",
      "  \"input_data\": \"https://archive.ics.uci.edu/dataset/2/adult\",\n",
      "  \"output_data\": \"\",\n",
      "  \"ai_model\": {\n",
      "    \"name\": \"UCI Adult tensorflow model\",\n",
      "    \"version\": \"0.1\",\n",
      "    \"description\": \"Census classification problem using Neural Network\",\n",
      "    \"owner\": \"Sachith Withana\",\n",
      "    \"location\": \"github.com/swsachith/ai-model\",\n",
      "    \"licence\": \"BSD-3 Clause\",\n",
      "    \"model_structure\": \"{\\n  \\\"class_name\\\": \\\"Sequential\\\",\\n  \\\"config\\\": {\\n    \\\"name\\\": \\\"sequential\\\",\\n    \\\"layers\\\": [\\n      {\\n        \\\"module\\\": \\\"keras.layers\\\",\\n        \\\"class_name\\\": \\\"InputLayer\\\",\\n        \\\"config\\\": {\\n          \\\"batch_input_shape\\\": [\\n            null,\\n            100\\n          ],\\n          \\\"dtype\\\": \\\"float32\\\",\\n          \\\"sparse\\\": false,\\n          \\\"ragged\\\": false,\\n          \\\"name\\\": \\\"input_1\\\"\\n        },\\n        \\\"registered_name\\\": null\\n      },\\n      {\\n        \\\"module\\\": \\\"keras.layers\\\",\\n        \\\"class_name\\\": \\\"Dense\\\",\\n        \\\"config\\\": {\\n          \\\"name\\\": \\\"dense\\\",\\n          \\\"trainable\\\": true,\\n          \\\"dtype\\\": \\\"float32\\\",\\n          \\\"units\\\": 64,\\n          \\\"activation\\\": \\\"relu\\\",\\n          \\\"use_bias\\\": true,\\n          \\\"kernel_initializer\\\": {\\n            \\\"module\\\": \\\"keras.initializers\\\",\\n            \\\"class_name\\\": \\\"GlorotUniform\\\",\\n            \\\"config\\\": {\\n              \\\"seed\\\": null\\n            },\\n            \\\"registered_name\\\": null\\n          },\\n          \\\"bias_initializer\\\": {\\n            \\\"module\\\": \\\"keras.initializers\\\",\\n            \\\"class_name\\\": \\\"Zeros\\\",\\n            \\\"config\\\": {},\\n            \\\"registered_name\\\": null\\n          },\\n          \\\"kernel_regularizer\\\": null,\\n          \\\"bias_regularizer\\\": null,\\n          \\\"activity_regularizer\\\": null,\\n          \\\"kernel_constraint\\\": null,\\n          \\\"bias_constraint\\\": null\\n        },\\n        \\\"registered_name\\\": null,\\n        \\\"build_config\\\": {\\n          \\\"input_shape\\\": [\\n            null,\\n            100\\n          ]\\n        }\\n      },\\n      {\\n        \\\"module\\\": \\\"keras.layers\\\",\\n        \\\"class_name\\\": \\\"Dense\\\",\\n        \\\"config\\\": {\\n          \\\"name\\\": \\\"dense_1\\\",\\n          \\\"trainable\\\": true,\\n          \\\"dtype\\\": \\\"float32\\\",\\n          \\\"units\\\": 32,\\n          \\\"activation\\\": \\\"relu\\\",\\n          \\\"use_bias\\\": true,\\n          \\\"kernel_initializer\\\": {\\n            \\\"module\\\": \\\"keras.initializers\\\",\\n            \\\"class_name\\\": \\\"GlorotUniform\\\",\\n            \\\"config\\\": {\\n              \\\"seed\\\": null\\n            },\\n            \\\"registered_name\\\": null\\n          },\\n          \\\"bias_initializer\\\": {\\n            \\\"module\\\": \\\"keras.initializers\\\",\\n            \\\"class_name\\\": \\\"Zeros\\\",\\n            \\\"config\\\": {},\\n            \\\"registered_name\\\": null\\n          },\\n          \\\"kernel_regularizer\\\": null,\\n          \\\"bias_regularizer\\\": null,\\n          \\\"activity_regularizer\\\": null,\\n          \\\"kernel_constraint\\\": null,\\n          \\\"bias_constraint\\\": null\\n        },\\n        \\\"registered_name\\\": null,\\n        \\\"build_config\\\": {\\n          \\\"input_shape\\\": [\\n            null,\\n            64\\n          ]\\n        }\\n      },\\n      {\\n        \\\"module\\\": \\\"keras.layers\\\",\\n        \\\"class_name\\\": \\\"Dense\\\",\\n        \\\"config\\\": {\\n          \\\"name\\\": \\\"dense_2\\\",\\n          \\\"trainable\\\": true,\\n          \\\"dtype\\\": \\\"float32\\\",\\n          \\\"units\\\": 1,\\n          \\\"activation\\\": \\\"sigmoid\\\",\\n          \\\"use_bias\\\": true,\\n          \\\"kernel_initializer\\\": {\\n            \\\"module\\\": \\\"keras.initializers\\\",\\n            \\\"class_name\\\": \\\"GlorotUniform\\\",\\n            \\\"config\\\": {\\n              \\\"seed\\\": null\\n            },\\n            \\\"registered_name\\\": null\\n          },\\n          \\\"bias_initializer\\\": {\\n            \\\"module\\\": \\\"keras.initializers\\\",\\n            \\\"class_name\\\": \\\"Zeros\\\",\\n            \\\"config\\\": {},\\n            \\\"registered_name\\\": null\\n          },\\n          \\\"kernel_regularizer\\\": null,\\n          \\\"bias_regularizer\\\": null,\\n          \\\"activity_regularizer\\\": null,\\n          \\\"kernel_constraint\\\": null,\\n          \\\"bias_constraint\\\": null\\n        },\\n        \\\"registered_name\\\": null,\\n        \\\"build_config\\\": {\\n          \\\"input_shape\\\": [\\n            null,\\n            32\\n          ]\\n        }\\n      }\\n    ]\\n  },\\n  \\\"keras_version\\\": \\\"2.14.0\\\",\\n  \\\"backend\\\": \\\"tensorflow\\\"\\n}\",\n",
      "    \"metrics\": [\n",
      "      {\n",
      "        \"key\": \"Test loss\",\n",
      "        \"value\": 2.4374473094940186\n",
      "      },\n",
      "      {\n",
      "        \"key\": \"Test Accuracy\",\n",
      "        \"value\": 0.38277292251586914\n",
      "      }\n",
      "    ]\n",
      "  },\n",
      "  \"bias_analysis\": {\n",
      "    \"demographic_parity_diff\": 0.1290871365646512,\n",
      "    \"equal_odds_difference\": 0.11184237312832124,\n",
      "    \"true_positives\": 1560,\n",
      "    \"true_negatives\": 933,\n",
      "    \"false_positives\": 4009,\n",
      "    \"false_negatives\": 11\n",
      "  },\n",
      "  \"xai_analysis\": null\n",
      "}\n"
     ]
    }
   ],
   "source": [
    "print(mc)"
   ],
   "metadata": {
    "collapsed": false,
    "pycharm": {
     "name": "#%%\n"
    }
   }
  },
  {
   "cell_type": "code",
   "execution_count": 16,
   "outputs": [],
   "source": [],
   "metadata": {
    "collapsed": false,
    "pycharm": {
     "name": "#%%\n"
    }
   }
  }
 ],
 "metadata": {
  "kernelspec": {
   "display_name": "Python 3",
   "language": "python",
   "name": "python3"
  },
  "language_info": {
   "codemirror_mode": {
    "name": "ipython",
    "version": 2
   },
   "file_extension": ".py",
   "mimetype": "text/x-python",
   "name": "python",
   "nbconvert_exporter": "python",
   "pygments_lexer": "ipython2",
   "version": "2.7.6"
  }
 },
 "nbformat": 4,
 "nbformat_minor": 0
}
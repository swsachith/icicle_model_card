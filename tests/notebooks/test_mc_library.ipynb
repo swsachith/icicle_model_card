{
 "cells": [
  {
   "cell_type": "code",
   "execution_count": 1,
   "outputs": [
    {
     "name": "stderr",
     "output_type": "stream",
     "text": [
      "/Users/swithana/git/jupyter/venv/lib/python3.9/site-packages/urllib3/__init__.py:34: NotOpenSSLWarning: urllib3 v2.0 only supports OpenSSL 1.1.1+, currently the 'ssl' module is compiled with 'LibreSSL 2.8.3'. See: https://github.com/urllib3/urllib3/issues/3020\n",
      "  warnings.warn(\n"
     ]
    }
   ],
   "source": [
    "import numpy as np\n",
    "import pandas as pd\n",
    "import tensorflow as tf\n",
    "from sklearn.model_selection import train_test_split\n",
    "from sklearn.preprocessing import StandardScaler, LabelEncoder"
   ],
   "metadata": {
    "collapsed": false,
    "pycharm": {
     "name": "#%%\n"
    }
   }
  },
  {
   "cell_type": "code",
   "execution_count": 2,
   "outputs": [],
   "source": [
    "columns = [\"age\", \"workclass\", \"fnlwgt\", \"education\", \"education-num\", \"martial-status\",\n",
    "        \"occupation\", \"relationship\", \"race\", \"sex\", \"capital-gain\", \"capital-loss\",\n",
    "        \"hours-per-week\", \"native-country\", \"income\"]\n",
    "data = pd.read_csv('/Users/swithana/git/icicle_model_card/tests/data/adult/adult.data', names=columns)"
   ],
   "metadata": {
    "collapsed": false,
    "pycharm": {
     "name": "#%%\n"
    }
   }
  },
  {
   "cell_type": "code",
   "execution_count": 17,
   "outputs": [
    {
     "data": {
      "text/plain": "   age  fnlwgt  education-num  capital-gain  capital-loss  hours-per-week  \\\n0   39   77516             13          2174             0              40   \n1   50   83311             13             0             0              13   \n2   38  215646              9             0             0              40   \n3   53  234721              7             0             0              40   \n4   28  338409             13             0             0              40   \n\n   income  workclass_ Federal-gov  workclass_ Local-gov  \\\n0       0                     0.0                   0.0   \n1       0                     0.0                   0.0   \n2       0                     0.0                   0.0   \n3       0                     0.0                   0.0   \n4       0                     0.0                   0.0   \n\n   workclass_ Never-worked  ...  native-country_ Portugal  \\\n0                      0.0  ...                       0.0   \n1                      0.0  ...                       0.0   \n2                      0.0  ...                       0.0   \n3                      0.0  ...                       0.0   \n4                      0.0  ...                       0.0   \n\n   native-country_ Puerto-Rico  native-country_ Scotland  \\\n0                          0.0                       0.0   \n1                          0.0                       0.0   \n2                          0.0                       0.0   \n3                          0.0                       0.0   \n4                          0.0                       0.0   \n\n   native-country_ South  native-country_ Taiwan  native-country_ Thailand  \\\n0                    0.0                     0.0                       0.0   \n1                    0.0                     0.0                       0.0   \n2                    0.0                     0.0                       0.0   \n3                    0.0                     0.0                       0.0   \n4                    0.0                     0.0                       0.0   \n\n   native-country_ Trinadad&Tobago  native-country_ United-States  \\\n0                              0.0                            1.0   \n1                              0.0                            1.0   \n2                              0.0                            1.0   \n3                              0.0                            1.0   \n4                              0.0                            0.0   \n\n   native-country_ Vietnam  native-country_ Yugoslavia  \n0                      0.0                         0.0  \n1                      0.0                         0.0  \n2                      0.0                         0.0  \n3                      0.0                         0.0  \n4                      0.0                         0.0  \n\n[5 rows x 101 columns]",
      "text/html": "<div>\n<style scoped>\n    .dataframe tbody tr th:only-of-type {\n        vertical-align: middle;\n    }\n\n    .dataframe tbody tr th {\n        vertical-align: top;\n    }\n\n    .dataframe thead th {\n        text-align: right;\n    }\n</style>\n<table border=\"1\" class=\"dataframe\">\n  <thead>\n    <tr style=\"text-align: right;\">\n      <th></th>\n      <th>age</th>\n      <th>fnlwgt</th>\n      <th>education-num</th>\n      <th>capital-gain</th>\n      <th>capital-loss</th>\n      <th>hours-per-week</th>\n      <th>income</th>\n      <th>workclass_ Federal-gov</th>\n      <th>workclass_ Local-gov</th>\n      <th>workclass_ Never-worked</th>\n      <th>...</th>\n      <th>native-country_ Portugal</th>\n      <th>native-country_ Puerto-Rico</th>\n      <th>native-country_ Scotland</th>\n      <th>native-country_ South</th>\n      <th>native-country_ Taiwan</th>\n      <th>native-country_ Thailand</th>\n      <th>native-country_ Trinadad&amp;Tobago</th>\n      <th>native-country_ United-States</th>\n      <th>native-country_ Vietnam</th>\n      <th>native-country_ Yugoslavia</th>\n    </tr>\n  </thead>\n  <tbody>\n    <tr>\n      <th>0</th>\n      <td>39</td>\n      <td>77516</td>\n      <td>13</td>\n      <td>2174</td>\n      <td>0</td>\n      <td>40</td>\n      <td>0</td>\n      <td>0.0</td>\n      <td>0.0</td>\n      <td>0.0</td>\n      <td>...</td>\n      <td>0.0</td>\n      <td>0.0</td>\n      <td>0.0</td>\n      <td>0.0</td>\n      <td>0.0</td>\n      <td>0.0</td>\n      <td>0.0</td>\n      <td>1.0</td>\n      <td>0.0</td>\n      <td>0.0</td>\n    </tr>\n    <tr>\n      <th>1</th>\n      <td>50</td>\n      <td>83311</td>\n      <td>13</td>\n      <td>0</td>\n      <td>0</td>\n      <td>13</td>\n      <td>0</td>\n      <td>0.0</td>\n      <td>0.0</td>\n      <td>0.0</td>\n      <td>...</td>\n      <td>0.0</td>\n      <td>0.0</td>\n      <td>0.0</td>\n      <td>0.0</td>\n      <td>0.0</td>\n      <td>0.0</td>\n      <td>0.0</td>\n      <td>1.0</td>\n      <td>0.0</td>\n      <td>0.0</td>\n    </tr>\n    <tr>\n      <th>2</th>\n      <td>38</td>\n      <td>215646</td>\n      <td>9</td>\n      <td>0</td>\n      <td>0</td>\n      <td>40</td>\n      <td>0</td>\n      <td>0.0</td>\n      <td>0.0</td>\n      <td>0.0</td>\n      <td>...</td>\n      <td>0.0</td>\n      <td>0.0</td>\n      <td>0.0</td>\n      <td>0.0</td>\n      <td>0.0</td>\n      <td>0.0</td>\n      <td>0.0</td>\n      <td>1.0</td>\n      <td>0.0</td>\n      <td>0.0</td>\n    </tr>\n    <tr>\n      <th>3</th>\n      <td>53</td>\n      <td>234721</td>\n      <td>7</td>\n      <td>0</td>\n      <td>0</td>\n      <td>40</td>\n      <td>0</td>\n      <td>0.0</td>\n      <td>0.0</td>\n      <td>0.0</td>\n      <td>...</td>\n      <td>0.0</td>\n      <td>0.0</td>\n      <td>0.0</td>\n      <td>0.0</td>\n      <td>0.0</td>\n      <td>0.0</td>\n      <td>0.0</td>\n      <td>1.0</td>\n      <td>0.0</td>\n      <td>0.0</td>\n    </tr>\n    <tr>\n      <th>4</th>\n      <td>28</td>\n      <td>338409</td>\n      <td>13</td>\n      <td>0</td>\n      <td>0</td>\n      <td>40</td>\n      <td>0</td>\n      <td>0.0</td>\n      <td>0.0</td>\n      <td>0.0</td>\n      <td>...</td>\n      <td>0.0</td>\n      <td>0.0</td>\n      <td>0.0</td>\n      <td>0.0</td>\n      <td>0.0</td>\n      <td>0.0</td>\n      <td>0.0</td>\n      <td>0.0</td>\n      <td>0.0</td>\n      <td>0.0</td>\n    </tr>\n  </tbody>\n</table>\n<p>5 rows × 101 columns</p>\n</div>"
     },
     "execution_count": 17,
     "metadata": {},
     "output_type": "execute_result"
    }
   ],
   "source": [
    "data.head()"
   ],
   "metadata": {
    "collapsed": false,
    "pycharm": {
     "name": "#%%\n"
    }
   }
  },
  {
   "cell_type": "markdown",
   "source": [
    "### Pre-processing"
   ],
   "metadata": {
    "collapsed": false,
    "pycharm": {
     "name": "#%% md\n"
    }
   }
  },
  {
   "cell_type": "code",
   "execution_count": 4,
   "outputs": [
    {
     "data": {
      "text/plain": "   age  fnlwgt  education-num  capital-gain  capital-loss  hours-per-week  \\\n0   39   77516             13          2174             0              40   \n1   50   83311             13             0             0              13   \n2   38  215646              9             0             0              40   \n3   53  234721              7             0             0              40   \n4   28  338409             13             0             0              40   \n\n   income  workclass_ Federal-gov  workclass_ Local-gov  \\\n0       0                     0.0                   0.0   \n1       0                     0.0                   0.0   \n2       0                     0.0                   0.0   \n3       0                     0.0                   0.0   \n4       0                     0.0                   0.0   \n\n   workclass_ Never-worked  ...  native-country_ Portugal  \\\n0                      0.0  ...                       0.0   \n1                      0.0  ...                       0.0   \n2                      0.0  ...                       0.0   \n3                      0.0  ...                       0.0   \n4                      0.0  ...                       0.0   \n\n   native-country_ Puerto-Rico  native-country_ Scotland  \\\n0                          0.0                       0.0   \n1                          0.0                       0.0   \n2                          0.0                       0.0   \n3                          0.0                       0.0   \n4                          0.0                       0.0   \n\n   native-country_ South  native-country_ Taiwan  native-country_ Thailand  \\\n0                    0.0                     0.0                       0.0   \n1                    0.0                     0.0                       0.0   \n2                    0.0                     0.0                       0.0   \n3                    0.0                     0.0                       0.0   \n4                    0.0                     0.0                       0.0   \n\n   native-country_ Trinadad&Tobago  native-country_ United-States  \\\n0                              0.0                            1.0   \n1                              0.0                            1.0   \n2                              0.0                            1.0   \n3                              0.0                            1.0   \n4                              0.0                            0.0   \n\n   native-country_ Vietnam  native-country_ Yugoslavia  \n0                      0.0                         0.0  \n1                      0.0                         0.0  \n2                      0.0                         0.0  \n3                      0.0                         0.0  \n4                      0.0                         0.0  \n\n[5 rows x 101 columns]",
      "text/html": "<div>\n<style scoped>\n    .dataframe tbody tr th:only-of-type {\n        vertical-align: middle;\n    }\n\n    .dataframe tbody tr th {\n        vertical-align: top;\n    }\n\n    .dataframe thead th {\n        text-align: right;\n    }\n</style>\n<table border=\"1\" class=\"dataframe\">\n  <thead>\n    <tr style=\"text-align: right;\">\n      <th></th>\n      <th>age</th>\n      <th>fnlwgt</th>\n      <th>education-num</th>\n      <th>capital-gain</th>\n      <th>capital-loss</th>\n      <th>hours-per-week</th>\n      <th>income</th>\n      <th>workclass_ Federal-gov</th>\n      <th>workclass_ Local-gov</th>\n      <th>workclass_ Never-worked</th>\n      <th>...</th>\n      <th>native-country_ Portugal</th>\n      <th>native-country_ Puerto-Rico</th>\n      <th>native-country_ Scotland</th>\n      <th>native-country_ South</th>\n      <th>native-country_ Taiwan</th>\n      <th>native-country_ Thailand</th>\n      <th>native-country_ Trinadad&amp;Tobago</th>\n      <th>native-country_ United-States</th>\n      <th>native-country_ Vietnam</th>\n      <th>native-country_ Yugoslavia</th>\n    </tr>\n  </thead>\n  <tbody>\n    <tr>\n      <th>0</th>\n      <td>39</td>\n      <td>77516</td>\n      <td>13</td>\n      <td>2174</td>\n      <td>0</td>\n      <td>40</td>\n      <td>0</td>\n      <td>0.0</td>\n      <td>0.0</td>\n      <td>0.0</td>\n      <td>...</td>\n      <td>0.0</td>\n      <td>0.0</td>\n      <td>0.0</td>\n      <td>0.0</td>\n      <td>0.0</td>\n      <td>0.0</td>\n      <td>0.0</td>\n      <td>1.0</td>\n      <td>0.0</td>\n      <td>0.0</td>\n    </tr>\n    <tr>\n      <th>1</th>\n      <td>50</td>\n      <td>83311</td>\n      <td>13</td>\n      <td>0</td>\n      <td>0</td>\n      <td>13</td>\n      <td>0</td>\n      <td>0.0</td>\n      <td>0.0</td>\n      <td>0.0</td>\n      <td>...</td>\n      <td>0.0</td>\n      <td>0.0</td>\n      <td>0.0</td>\n      <td>0.0</td>\n      <td>0.0</td>\n      <td>0.0</td>\n      <td>0.0</td>\n      <td>1.0</td>\n      <td>0.0</td>\n      <td>0.0</td>\n    </tr>\n    <tr>\n      <th>2</th>\n      <td>38</td>\n      <td>215646</td>\n      <td>9</td>\n      <td>0</td>\n      <td>0</td>\n      <td>40</td>\n      <td>0</td>\n      <td>0.0</td>\n      <td>0.0</td>\n      <td>0.0</td>\n      <td>...</td>\n      <td>0.0</td>\n      <td>0.0</td>\n      <td>0.0</td>\n      <td>0.0</td>\n      <td>0.0</td>\n      <td>0.0</td>\n      <td>0.0</td>\n      <td>1.0</td>\n      <td>0.0</td>\n      <td>0.0</td>\n    </tr>\n    <tr>\n      <th>3</th>\n      <td>53</td>\n      <td>234721</td>\n      <td>7</td>\n      <td>0</td>\n      <td>0</td>\n      <td>40</td>\n      <td>0</td>\n      <td>0.0</td>\n      <td>0.0</td>\n      <td>0.0</td>\n      <td>...</td>\n      <td>0.0</td>\n      <td>0.0</td>\n      <td>0.0</td>\n      <td>0.0</td>\n      <td>0.0</td>\n      <td>0.0</td>\n      <td>0.0</td>\n      <td>1.0</td>\n      <td>0.0</td>\n      <td>0.0</td>\n    </tr>\n    <tr>\n      <th>4</th>\n      <td>28</td>\n      <td>338409</td>\n      <td>13</td>\n      <td>0</td>\n      <td>0</td>\n      <td>40</td>\n      <td>0</td>\n      <td>0.0</td>\n      <td>0.0</td>\n      <td>0.0</td>\n      <td>...</td>\n      <td>0.0</td>\n      <td>0.0</td>\n      <td>0.0</td>\n      <td>0.0</td>\n      <td>0.0</td>\n      <td>0.0</td>\n      <td>0.0</td>\n      <td>0.0</td>\n      <td>0.0</td>\n      <td>0.0</td>\n    </tr>\n  </tbody>\n</table>\n<p>5 rows × 101 columns</p>\n</div>"
     },
     "execution_count": 4,
     "metadata": {},
     "output_type": "execute_result"
    }
   ],
   "source": [
    "label_encoder = LabelEncoder()\n",
    "data['income'] = label_encoder.fit_transform(data['income'])\n",
    "\n",
    "# Convert categorical variables to one-hot encoding\n",
    "data = pd.get_dummies(data, drop_first=True, dtype=float)\n",
    "\n",
    "data.head()"
   ],
   "metadata": {
    "collapsed": false,
    "pycharm": {
     "name": "#%%\n"
    }
   }
  },
  {
   "cell_type": "code",
   "execution_count": 5,
   "outputs": [
    {
     "name": "stdout",
     "output_type": "stream",
     "text": [
      "['age', 'fnlwgt', 'education-num', 'capital-gain', 'capital-loss', 'hours-per-week', 'income', 'workclass_ Federal-gov', 'workclass_ Local-gov', 'workclass_ Never-worked', 'workclass_ Private', 'workclass_ Self-emp-inc', 'workclass_ Self-emp-not-inc', 'workclass_ State-gov', 'workclass_ Without-pay', 'education_ 11th', 'education_ 12th', 'education_ 1st-4th', 'education_ 5th-6th', 'education_ 7th-8th', 'education_ 9th', 'education_ Assoc-acdm', 'education_ Assoc-voc', 'education_ Bachelors', 'education_ Doctorate', 'education_ HS-grad', 'education_ Masters', 'education_ Preschool', 'education_ Prof-school', 'education_ Some-college', 'martial-status_ Married-AF-spouse', 'martial-status_ Married-civ-spouse', 'martial-status_ Married-spouse-absent', 'martial-status_ Never-married', 'martial-status_ Separated', 'martial-status_ Widowed', 'occupation_ Adm-clerical', 'occupation_ Armed-Forces', 'occupation_ Craft-repair', 'occupation_ Exec-managerial', 'occupation_ Farming-fishing', 'occupation_ Handlers-cleaners', 'occupation_ Machine-op-inspct', 'occupation_ Other-service', 'occupation_ Priv-house-serv', 'occupation_ Prof-specialty', 'occupation_ Protective-serv', 'occupation_ Sales', 'occupation_ Tech-support', 'occupation_ Transport-moving', 'relationship_ Not-in-family', 'relationship_ Other-relative', 'relationship_ Own-child', 'relationship_ Unmarried', 'relationship_ Wife', 'race_ Asian-Pac-Islander', 'race_ Black', 'race_ Other', 'race_ White', 'sex_ Male', 'native-country_ Cambodia', 'native-country_ Canada', 'native-country_ China', 'native-country_ Columbia', 'native-country_ Cuba', 'native-country_ Dominican-Republic', 'native-country_ Ecuador', 'native-country_ El-Salvador', 'native-country_ England', 'native-country_ France', 'native-country_ Germany', 'native-country_ Greece', 'native-country_ Guatemala', 'native-country_ Haiti', 'native-country_ Holand-Netherlands', 'native-country_ Honduras', 'native-country_ Hong', 'native-country_ Hungary', 'native-country_ India', 'native-country_ Iran', 'native-country_ Ireland', 'native-country_ Italy', 'native-country_ Jamaica', 'native-country_ Japan', 'native-country_ Laos', 'native-country_ Mexico', 'native-country_ Nicaragua', 'native-country_ Outlying-US(Guam-USVI-etc)', 'native-country_ Peru', 'native-country_ Philippines', 'native-country_ Poland', 'native-country_ Portugal', 'native-country_ Puerto-Rico', 'native-country_ Scotland', 'native-country_ South', 'native-country_ Taiwan', 'native-country_ Thailand', 'native-country_ Trinadad&Tobago', 'native-country_ United-States', 'native-country_ Vietnam', 'native-country_ Yugoslavia']\n"
     ]
    }
   ],
   "source": [
    "X = data.drop('income', axis=1).values\n",
    "y = data['income'].values\n",
    "\n",
    "print(data.columns.tolist())"
   ],
   "metadata": {
    "collapsed": false,
    "pycharm": {
     "name": "#%%\n"
    }
   }
  },
  {
   "cell_type": "code",
   "execution_count": 6,
   "outputs": [],
   "source": [
    "X_train, X_test, y_train, y_test = train_test_split(X, y, test_size=0.2, random_state=42)"
   ],
   "metadata": {
    "collapsed": false,
    "pycharm": {
     "name": "#%%\n"
    }
   }
  },
  {
   "cell_type": "markdown",
   "source": [
    "### Model Training"
   ],
   "metadata": {
    "collapsed": false,
    "pycharm": {
     "name": "#%% md\n"
    }
   }
  },
  {
   "cell_type": "code",
   "execution_count": 7,
   "outputs": [],
   "source": [
    "model = tf.keras.Sequential([\n",
    "    tf.keras.layers.Input(shape=(X_train.shape[1],)),\n",
    "    tf.keras.layers.Dense(64, activation='relu'),\n",
    "    tf.keras.layers.Dense(32, activation='relu'),\n",
    "    tf.keras.layers.Dense(1, activation='sigmoid')\n",
    "])\n",
    "\n",
    "model.compile(optimizer='adam', loss='binary_crossentropy', metrics=['accuracy'])"
   ],
   "metadata": {
    "collapsed": false,
    "pycharm": {
     "name": "#%%\n"
    }
   }
  },
  {
   "cell_type": "code",
   "execution_count": 8,
   "outputs": [
    {
     "name": "stdout",
     "output_type": "stream",
     "text": [
      "Epoch 1/100\n",
      "733/733 [==============================] - 1s 724us/step - loss: 144.9828 - accuracy: 0.6790 - val_loss: 32.1858 - val_accuracy: 0.8058\n",
      "Epoch 2/100\n",
      "733/733 [==============================] - 0s 601us/step - loss: 141.0310 - accuracy: 0.6799 - val_loss: 66.2076 - val_accuracy: 0.8023\n",
      "Epoch 3/100\n",
      "733/733 [==============================] - 0s 606us/step - loss: 106.5007 - accuracy: 0.6835 - val_loss: 18.0301 - val_accuracy: 0.7770\n",
      "Epoch 4/100\n",
      "733/733 [==============================] - 0s 662us/step - loss: 89.2636 - accuracy: 0.6815 - val_loss: 64.2287 - val_accuracy: 0.8015\n",
      "Epoch 5/100\n",
      "733/733 [==============================] - 0s 610us/step - loss: 118.8950 - accuracy: 0.6789 - val_loss: 103.9538 - val_accuracy: 0.8065\n",
      "Epoch 6/100\n",
      "733/733 [==============================] - 0s 622us/step - loss: 78.0858 - accuracy: 0.6805 - val_loss: 26.7022 - val_accuracy: 0.7935\n",
      "Epoch 7/100\n",
      "733/733 [==============================] - 0s 620us/step - loss: 67.8929 - accuracy: 0.6856 - val_loss: 48.0604 - val_accuracy: 0.7954\n",
      "Epoch 8/100\n",
      "733/733 [==============================] - 0s 630us/step - loss: 49.8873 - accuracy: 0.6840 - val_loss: 12.9363 - val_accuracy: 0.7785\n",
      "Epoch 9/100\n",
      "733/733 [==============================] - 0s 637us/step - loss: 37.5046 - accuracy: 0.6866 - val_loss: 24.4787 - val_accuracy: 0.8069\n",
      "Epoch 10/100\n",
      "733/733 [==============================] - 0s 609us/step - loss: 44.4863 - accuracy: 0.6810 - val_loss: 84.0027 - val_accuracy: 0.7873\n",
      "Epoch 11/100\n",
      "733/733 [==============================] - 0s 601us/step - loss: 30.4228 - accuracy: 0.6895 - val_loss: 34.5069 - val_accuracy: 0.7931\n",
      "Epoch 12/100\n",
      "733/733 [==============================] - 0s 616us/step - loss: 27.4244 - accuracy: 0.6845 - val_loss: 12.5768 - val_accuracy: 0.8027\n",
      "Epoch 13/100\n",
      "733/733 [==============================] - 0s 626us/step - loss: 29.2442 - accuracy: 0.6927 - val_loss: 17.7382 - val_accuracy: 0.8065\n",
      "Epoch 14/100\n",
      "733/733 [==============================] - 0s 608us/step - loss: 21.6944 - accuracy: 0.6901 - val_loss: 11.5641 - val_accuracy: 0.7981\n",
      "Epoch 15/100\n",
      "733/733 [==============================] - 0s 625us/step - loss: 19.9529 - accuracy: 0.6959 - val_loss: 28.9849 - val_accuracy: 0.2380\n",
      "Epoch 16/100\n",
      "733/733 [==============================] - 0s 642us/step - loss: 17.0619 - accuracy: 0.6950 - val_loss: 8.3186 - val_accuracy: 0.7958\n",
      "Epoch 17/100\n",
      "733/733 [==============================] - 0s 591us/step - loss: 17.5819 - accuracy: 0.6918 - val_loss: 8.8180 - val_accuracy: 0.7931\n",
      "Epoch 18/100\n",
      "733/733 [==============================] - 0s 596us/step - loss: 16.7168 - accuracy: 0.6939 - val_loss: 35.2008 - val_accuracy: 0.7800\n",
      "Epoch 19/100\n",
      "733/733 [==============================] - 0s 590us/step - loss: 13.0662 - accuracy: 0.6982 - val_loss: 16.0739 - val_accuracy: 0.8027\n",
      "Epoch 20/100\n",
      "733/733 [==============================] - 0s 584us/step - loss: 10.4895 - accuracy: 0.7026 - val_loss: 4.1740 - val_accuracy: 0.5420\n",
      "Epoch 21/100\n",
      "733/733 [==============================] - 0s 583us/step - loss: 12.4036 - accuracy: 0.7035 - val_loss: 4.6593 - val_accuracy: 0.5190\n",
      "Epoch 22/100\n",
      "733/733 [==============================] - 0s 582us/step - loss: 6.6365 - accuracy: 0.7207 - val_loss: 15.0714 - val_accuracy: 0.7996\n",
      "Epoch 23/100\n",
      "733/733 [==============================] - 0s 584us/step - loss: 8.4749 - accuracy: 0.7164 - val_loss: 3.7141 - val_accuracy: 0.8004\n",
      "Epoch 24/100\n",
      "733/733 [==============================] - 0s 584us/step - loss: 6.7078 - accuracy: 0.7162 - val_loss: 7.0228 - val_accuracy: 0.7808\n",
      "Epoch 25/100\n",
      "733/733 [==============================] - 0s 587us/step - loss: 5.9987 - accuracy: 0.7218 - val_loss: 3.1677 - val_accuracy: 0.8046\n",
      "Epoch 26/100\n",
      "733/733 [==============================] - 0s 587us/step - loss: 6.0733 - accuracy: 0.7207 - val_loss: 10.4390 - val_accuracy: 0.7858\n",
      "Epoch 27/100\n",
      "733/733 [==============================] - 0s 581us/step - loss: 5.8393 - accuracy: 0.7200 - val_loss: 2.3413 - val_accuracy: 0.8142\n",
      "Epoch 28/100\n",
      "733/733 [==============================] - 0s 583us/step - loss: 4.7899 - accuracy: 0.7249 - val_loss: 1.1280 - val_accuracy: 0.8042\n",
      "Epoch 29/100\n",
      "733/733 [==============================] - 0s 585us/step - loss: 3.8712 - accuracy: 0.7268 - val_loss: 2.1940 - val_accuracy: 0.8150\n",
      "Epoch 30/100\n",
      "733/733 [==============================] - 0s 582us/step - loss: 2.6225 - accuracy: 0.7414 - val_loss: 4.1742 - val_accuracy: 0.7985\n",
      "Epoch 31/100\n",
      "733/733 [==============================] - 0s 580us/step - loss: 2.8266 - accuracy: 0.7374 - val_loss: 2.1428 - val_accuracy: 0.8188\n",
      "Epoch 32/100\n",
      "733/733 [==============================] - 0s 582us/step - loss: 2.5020 - accuracy: 0.7330 - val_loss: 1.1755 - val_accuracy: 0.8161\n",
      "Epoch 33/100\n",
      "733/733 [==============================] - 0s 584us/step - loss: 1.0754 - accuracy: 0.7483 - val_loss: 0.4204 - val_accuracy: 0.8226\n",
      "Epoch 34/100\n",
      "733/733 [==============================] - 0s 583us/step - loss: 0.9960 - accuracy: 0.7585 - val_loss: 0.3564 - val_accuracy: 0.8319\n",
      "Epoch 35/100\n",
      "733/733 [==============================] - 0s 589us/step - loss: 1.0196 - accuracy: 0.7573 - val_loss: 0.4341 - val_accuracy: 0.8276\n",
      "Epoch 36/100\n",
      "733/733 [==============================] - 0s 587us/step - loss: 0.6355 - accuracy: 0.7804 - val_loss: 1.7835 - val_accuracy: 0.3482\n",
      "Epoch 37/100\n",
      "733/733 [==============================] - 0s 582us/step - loss: 0.7986 - accuracy: 0.7800 - val_loss: 0.4751 - val_accuracy: 0.8111\n",
      "Epoch 38/100\n",
      "733/733 [==============================] - 0s 582us/step - loss: 0.4909 - accuracy: 0.8011 - val_loss: 0.4705 - val_accuracy: 0.8184\n",
      "Epoch 39/100\n",
      "733/733 [==============================] - 0s 583us/step - loss: 0.4902 - accuracy: 0.8004 - val_loss: 0.4766 - val_accuracy: 0.8115\n",
      "Epoch 40/100\n",
      "733/733 [==============================] - 0s 584us/step - loss: 0.4899 - accuracy: 0.8002 - val_loss: 0.4707 - val_accuracy: 0.8119\n",
      "Epoch 41/100\n",
      "733/733 [==============================] - 0s 584us/step - loss: 0.4899 - accuracy: 0.8000 - val_loss: 0.4687 - val_accuracy: 0.8180\n",
      "Epoch 42/100\n",
      "733/733 [==============================] - 0s 595us/step - loss: 0.4934 - accuracy: 0.7973 - val_loss: 0.4943 - val_accuracy: 0.7935\n",
      "Epoch 43/100\n",
      "733/733 [==============================] - 0s 582us/step - loss: 0.4932 - accuracy: 0.7975 - val_loss: 0.4730 - val_accuracy: 0.8165\n",
      "Epoch 44/100\n",
      "733/733 [==============================] - 0s 583us/step - loss: 0.5026 - accuracy: 0.7967 - val_loss: 0.4781 - val_accuracy: 0.8092\n"
     ]
    },
    {
     "data": {
      "text/plain": "<keras.src.callbacks.History at 0x2a8b42700>"
     },
     "execution_count": 8,
     "metadata": {},
     "output_type": "execute_result"
    }
   ],
   "source": [
    "early_stopping = tf.keras.callbacks.EarlyStopping(monitor='loss', patience=3)\n",
    "\n",
    "model.fit(X_train, y_train, epochs=100, batch_size=32, validation_split=0.1, callbacks=[early_stopping])"
   ],
   "metadata": {
    "collapsed": false,
    "pycharm": {
     "name": "#%%\n"
    }
   }
  },
  {
   "cell_type": "code",
   "execution_count": 9,
   "outputs": [
    {
     "name": "stdout",
     "output_type": "stream",
     "text": [
      "204/204 [==============================] - 0s 374us/step - loss: 0.4901 - accuracy: 0.7978\n"
     ]
    }
   ],
   "source": [
    "loss, accuracy = model.evaluate(X_test, y_test)"
   ],
   "metadata": {
    "collapsed": false,
    "pycharm": {
     "name": "#%%\n"
    }
   }
  },
  {
   "cell_type": "code",
   "execution_count": 10,
   "outputs": [
    {
     "name": "stdout",
     "output_type": "stream",
     "text": [
      "204/204 [==============================] - 0s 333us/step\n"
     ]
    }
   ],
   "source": [
    "y_pred = model.predict(X_test)"
   ],
   "metadata": {
    "collapsed": false,
    "pycharm": {
     "name": "#%%\n"
    }
   }
  },
  {
   "cell_type": "markdown",
   "source": [
    "## Model Card Generation"
   ],
   "metadata": {
    "collapsed": false,
    "pycharm": {
     "name": "#%% md\n"
    }
   }
  },
  {
   "cell_type": "code",
   "execution_count": 11,
   "outputs": [],
   "source": [
    "from icicle_model_card.icicle_model_card import ModelCard, AIModel, BiasAnalysis, ExplainabilityAnalysis, validate_mc, Metric\n",
    "import json"
   ],
   "metadata": {
    "collapsed": false,
    "pycharm": {
     "name": "#%%\n"
    }
   }
  },
  {
   "cell_type": "code",
   "execution_count": 12,
   "outputs": [],
   "source": [
    "mc = ModelCard(\n",
    "            name=\"UCI Adult Data Analysis\",\n",
    "            version=\"0.1\",\n",
    "            short_description=\"UCI Adult Data analysis using Tensorflow\",\n",
    "            full_description=\"Using a tensorflow trained neural network to analyse fairness and explainability in the UCI Adult Dataset\",\n",
    "            keywords=\"uci adult, tensorflow, explainability, fairness, fairlearn, shap\",\n",
    "            author=\"Sachith Withana\"\n",
    "        )\n",
    "\n",
    "mc.input_data = 'https://archive.ics.uci.edu/dataset/2/adult'"
   ],
   "metadata": {
    "collapsed": false,
    "pycharm": {
     "name": "#%%\n"
    }
   }
  },
  {
   "cell_type": "code",
   "execution_count": 13,
   "outputs": [],
   "source": [
    "model_metrics = []\n",
    "model_metrics.append(Metric(\"Test loss\", loss))\n",
    "model_metrics.append(Metric(\"Test Accuracy\", accuracy))\n",
    "\n",
    "ai_model = AIModel(\n",
    "            name=\"UCI Adult tensorflow model\",\n",
    "            version=\"0.1\",\n",
    "            description=\"Census classification problem using Neural Network\",\n",
    "            owner=\"Sachith Withana\",\n",
    "            location=\"github.com/swsachith/ai-model\",\n",
    "            licence=\"BSD-3 Clause\",\n",
    "            model_structure = json.dumps(json.loads(model.to_json()), indent=2)\n",
    "        )\n",
    "ai_model.metrics = model_metrics\n",
    "mc.ai_model = ai_model"
   ],
   "metadata": {
    "collapsed": false,
    "pycharm": {
     "name": "#%%\n"
    }
   }
  },
  {
   "cell_type": "code",
   "execution_count": 14,
   "outputs": [
    {
     "name": "stdout",
     "output_type": "stream",
     "text": [
      "204/204 [==============================] - 0s 322us/step\n"
     ]
    },
    {
     "name": "stderr",
     "output_type": "stream",
     "text": [
      "/Users/swithana/git/jupyter/venv/lib/python3.9/site-packages/fairlearn/metrics/_disaggregated_result.py:235: FutureWarning: DataFrame.applymap has been deprecated. Use DataFrame.map instead.\n",
      "  mf = mf.applymap(lambda x: x if np.isscalar(x) else np.nan)\n",
      "/Users/swithana/git/jupyter/venv/lib/python3.9/site-packages/fairlearn/metrics/_disaggregated_result.py:235: FutureWarning: DataFrame.applymap has been deprecated. Use DataFrame.map instead.\n",
      "  mf = mf.applymap(lambda x: x if np.isscalar(x) else np.nan)\n",
      "/Users/swithana/git/jupyter/venv/lib/python3.9/site-packages/fairlearn/metrics/_disaggregated_result.py:235: FutureWarning: DataFrame.applymap has been deprecated. Use DataFrame.map instead.\n",
      "  mf = mf.applymap(lambda x: x if np.isscalar(x) else np.nan)\n",
      "/Users/swithana/git/jupyter/venv/lib/python3.9/site-packages/fairlearn/metrics/_disaggregated_result.py:235: FutureWarning: DataFrame.applymap has been deprecated. Use DataFrame.map instead.\n",
      "  mf = mf.applymap(lambda x: x if np.isscalar(x) else np.nan)\n",
      "/Users/swithana/git/jupyter/venv/lib/python3.9/site-packages/fairlearn/metrics/_disaggregated_result.py:235: FutureWarning: DataFrame.applymap has been deprecated. Use DataFrame.map instead.\n",
      "  mf = mf.applymap(lambda x: x if np.isscalar(x) else np.nan)\n",
      "/Users/swithana/git/jupyter/venv/lib/python3.9/site-packages/fairlearn/metrics/_disaggregated_result.py:235: FutureWarning: DataFrame.applymap has been deprecated. Use DataFrame.map instead.\n",
      "  mf = mf.applymap(lambda x: x if np.isscalar(x) else np.nan)\n"
     ]
    }
   ],
   "source": [
    "y_pred = model.predict(X_test)\n",
    "y_pred = (y_pred >= 0.5).flatten()\n",
    "mc.populate_bias(X_test, y_test, y_pred, \"gender\", X_test[:, 58], model)"
   ],
   "metadata": {
    "collapsed": false,
    "pycharm": {
     "name": "#%%\n"
    }
   }
  },
  {
   "cell_type": "code",
   "execution_count": 15,
   "outputs": [
    {
     "name": "stdout",
     "output_type": "stream",
     "text": [
      "{'demographic_parity_diff': 0.03735776682196887, 'equal_odds_difference': 0.025805603135805794, 'true_positives': 284, 'true_negatives': 4912, 'false_positives': 30, 'false_negatives': 1287, 'false_positive_rate': 0.006070416835289356, 'false_negative_rate': 0.8192234245703374, 'true_positive_rate': 0.18077657542966263, 'true_negative_rate': 0.9939295831647107}\n"
     ]
    }
   ],
   "source": [
    "print(mc.bias_analysis)"
   ],
   "metadata": {
    "collapsed": false,
    "pycharm": {
     "name": "#%%\n"
    }
   }
  },
  {
   "cell_type": "code",
   "execution_count": 16,
   "outputs": [
    {
     "name": "stdout",
     "output_type": "stream",
     "text": [
      "{\n",
      "  \"name\": \"UCI Adult Data Analysis\",\n",
      "  \"version\": \"0.1\",\n",
      "  \"short_description\": \"UCI Adult Data analysis using Tensorflow\",\n",
      "  \"full_description\": \"Using a tensorflow trained neural network to analyse fairness and explainability in the UCI Adult Dataset\",\n",
      "  \"keywords\": \"uci adult, tensorflow, explainability, fairness, fairlearn, shap\",\n",
      "  \"author\": \"Sachith Withana\",\n",
      "  \"input_data\": \"https://archive.ics.uci.edu/dataset/2/adult\",\n",
      "  \"output_data\": \"\",\n",
      "  \"ai_model\": {\n",
      "    \"name\": \"UCI Adult tensorflow model\",\n",
      "    \"version\": \"0.1\",\n",
      "    \"description\": \"Census classification problem using Neural Network\",\n",
      "    \"owner\": \"Sachith Withana\",\n",
      "    \"location\": \"github.com/swsachith/ai-model\",\n",
      "    \"licence\": \"BSD-3 Clause\",\n",
      "    \"model_structure\": \"{\\n  \\\"class_name\\\": \\\"Sequential\\\",\\n  \\\"config\\\": {\\n    \\\"name\\\": \\\"sequential\\\",\\n    \\\"layers\\\": [\\n      {\\n        \\\"module\\\": \\\"keras.layers\\\",\\n        \\\"class_name\\\": \\\"InputLayer\\\",\\n        \\\"config\\\": {\\n          \\\"batch_input_shape\\\": [\\n            null,\\n            100\\n          ],\\n          \\\"dtype\\\": \\\"float32\\\",\\n          \\\"sparse\\\": false,\\n          \\\"ragged\\\": false,\\n          \\\"name\\\": \\\"input_1\\\"\\n        },\\n        \\\"registered_name\\\": null\\n      },\\n      {\\n        \\\"module\\\": \\\"keras.layers\\\",\\n        \\\"class_name\\\": \\\"Dense\\\",\\n        \\\"config\\\": {\\n          \\\"name\\\": \\\"dense\\\",\\n          \\\"trainable\\\": true,\\n          \\\"dtype\\\": \\\"float32\\\",\\n          \\\"units\\\": 64,\\n          \\\"activation\\\": \\\"relu\\\",\\n          \\\"use_bias\\\": true,\\n          \\\"kernel_initializer\\\": {\\n            \\\"module\\\": \\\"keras.initializers\\\",\\n            \\\"class_name\\\": \\\"GlorotUniform\\\",\\n            \\\"config\\\": {\\n              \\\"seed\\\": null\\n            },\\n            \\\"registered_name\\\": null\\n          },\\n          \\\"bias_initializer\\\": {\\n            \\\"module\\\": \\\"keras.initializers\\\",\\n            \\\"class_name\\\": \\\"Zeros\\\",\\n            \\\"config\\\": {},\\n            \\\"registered_name\\\": null\\n          },\\n          \\\"kernel_regularizer\\\": null,\\n          \\\"bias_regularizer\\\": null,\\n          \\\"activity_regularizer\\\": null,\\n          \\\"kernel_constraint\\\": null,\\n          \\\"bias_constraint\\\": null\\n        },\\n        \\\"registered_name\\\": null,\\n        \\\"build_config\\\": {\\n          \\\"input_shape\\\": [\\n            null,\\n            100\\n          ]\\n        }\\n      },\\n      {\\n        \\\"module\\\": \\\"keras.layers\\\",\\n        \\\"class_name\\\": \\\"Dense\\\",\\n        \\\"config\\\": {\\n          \\\"name\\\": \\\"dense_1\\\",\\n          \\\"trainable\\\": true,\\n          \\\"dtype\\\": \\\"float32\\\",\\n          \\\"units\\\": 32,\\n          \\\"activation\\\": \\\"relu\\\",\\n          \\\"use_bias\\\": true,\\n          \\\"kernel_initializer\\\": {\\n            \\\"module\\\": \\\"keras.initializers\\\",\\n            \\\"class_name\\\": \\\"GlorotUniform\\\",\\n            \\\"config\\\": {\\n              \\\"seed\\\": null\\n            },\\n            \\\"registered_name\\\": null\\n          },\\n          \\\"bias_initializer\\\": {\\n            \\\"module\\\": \\\"keras.initializers\\\",\\n            \\\"class_name\\\": \\\"Zeros\\\",\\n            \\\"config\\\": {},\\n            \\\"registered_name\\\": null\\n          },\\n          \\\"kernel_regularizer\\\": null,\\n          \\\"bias_regularizer\\\": null,\\n          \\\"activity_regularizer\\\": null,\\n          \\\"kernel_constraint\\\": null,\\n          \\\"bias_constraint\\\": null\\n        },\\n        \\\"registered_name\\\": null,\\n        \\\"build_config\\\": {\\n          \\\"input_shape\\\": [\\n            null,\\n            64\\n          ]\\n        }\\n      },\\n      {\\n        \\\"module\\\": \\\"keras.layers\\\",\\n        \\\"class_name\\\": \\\"Dense\\\",\\n        \\\"config\\\": {\\n          \\\"name\\\": \\\"dense_2\\\",\\n          \\\"trainable\\\": true,\\n          \\\"dtype\\\": \\\"float32\\\",\\n          \\\"units\\\": 1,\\n          \\\"activation\\\": \\\"sigmoid\\\",\\n          \\\"use_bias\\\": true,\\n          \\\"kernel_initializer\\\": {\\n            \\\"module\\\": \\\"keras.initializers\\\",\\n            \\\"class_name\\\": \\\"GlorotUniform\\\",\\n            \\\"config\\\": {\\n              \\\"seed\\\": null\\n            },\\n            \\\"registered_name\\\": null\\n          },\\n          \\\"bias_initializer\\\": {\\n            \\\"module\\\": \\\"keras.initializers\\\",\\n            \\\"class_name\\\": \\\"Zeros\\\",\\n            \\\"config\\\": {},\\n            \\\"registered_name\\\": null\\n          },\\n          \\\"kernel_regularizer\\\": null,\\n          \\\"bias_regularizer\\\": null,\\n          \\\"activity_regularizer\\\": null,\\n          \\\"kernel_constraint\\\": null,\\n          \\\"bias_constraint\\\": null\\n        },\\n        \\\"registered_name\\\": null,\\n        \\\"build_config\\\": {\\n          \\\"input_shape\\\": [\\n            null,\\n            32\\n          ]\\n        }\\n      }\\n    ]\\n  },\\n  \\\"keras_version\\\": \\\"2.14.0\\\",\\n  \\\"backend\\\": \\\"tensorflow\\\"\\n}\",\n",
      "    \"metrics\": [\n",
      "      {\n",
      "        \"key\": \"Test loss\",\n",
      "        \"value\": 0.4901312589645386\n",
      "      },\n",
      "      {\n",
      "        \"key\": \"Test Accuracy\",\n",
      "        \"value\": 0.7977890372276306\n",
      "      }\n",
      "    ]\n",
      "  },\n",
      "  \"bias_analysis\": {\n",
      "    \"demographic_parity_diff\": 0.03735776682196887,\n",
      "    \"equal_odds_difference\": 0.025805603135805794,\n",
      "    \"true_positives\": 284,\n",
      "    \"true_negatives\": 4912,\n",
      "    \"false_positives\": 30,\n",
      "    \"false_negatives\": 1287,\n",
      "    \"false_positive_rate\": 0.006070416835289356,\n",
      "    \"false_negative_rate\": 0.8192234245703374,\n",
      "    \"true_positive_rate\": 0.18077657542966263,\n",
      "    \"true_negative_rate\": 0.9939295831647107\n",
      "  },\n",
      "  \"xai_analysis\": null\n",
      "}\n"
     ]
    }
   ],
   "source": [
    "print(mc)"
   ],
   "metadata": {
    "collapsed": false,
    "pycharm": {
     "name": "#%%\n"
    }
   }
  },
  {
   "cell_type": "code",
   "execution_count": 16,
   "outputs": [],
   "source": [],
   "metadata": {
    "collapsed": false,
    "pycharm": {
     "name": "#%%\n"
    }
   }
  }
 ],
 "metadata": {
  "kernelspec": {
   "display_name": "Python 3",
   "language": "python",
   "name": "python3"
  },
  "language_info": {
   "codemirror_mode": {
    "name": "ipython",
    "version": 2
   },
   "file_extension": ".py",
   "mimetype": "text/x-python",
   "name": "python",
   "nbconvert_exporter": "python",
   "pygments_lexer": "ipython2",
   "version": "2.7.6"
  }
 },
 "nbformat": 4,
 "nbformat_minor": 0
}
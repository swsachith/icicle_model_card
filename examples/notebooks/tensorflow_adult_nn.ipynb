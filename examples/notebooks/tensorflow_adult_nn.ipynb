{
 "cells": [
  {
   "cell_type": "code",
   "source": [
    "import numpy as np\n",
    "import pandas as pd\n",
    "import tensorflow as tf\n",
    "from sklearn.model_selection import train_test_split\n",
    "from sklearn.preprocessing import StandardScaler, LabelEncoder"
   ],
   "metadata": {
    "collapsed": false,
    "pycharm": {
     "name": "#%%\n"
    },
    "ExecuteTime": {
     "end_time": "2024-05-06T17:30:07.790549Z",
     "start_time": "2024-05-06T17:30:04.665417Z"
    }
   },
   "outputs": [
    {
     "name": "stderr",
     "output_type": "stream",
     "text": [
      "/Users/swithana/git/icicle_model_card/venv/lib/python3.9/site-packages/urllib3/__init__.py:34: NotOpenSSLWarning: urllib3 v2.0 only supports OpenSSL 1.1.1+, currently the 'ssl' module is compiled with 'LibreSSL 2.8.3'. See: https://github.com/urllib3/urllib3/issues/3020\n",
      "  warnings.warn(\n"
     ]
    }
   ],
   "execution_count": 1
  },
  {
   "cell_type": "code",
   "execution_count": 2,
   "outputs": [
    {
     "name": "stdout",
     "output_type": "stream",
     "text": [
      "Collecting tensorflow\r\n",
      "  Downloading tensorflow-2.15.0-cp39-cp39-macosx_12_0_arm64.whl (2.1 kB)\r\n",
      "Collecting tensorflow-macos==2.15.0\r\n",
      "  Downloading tensorflow_macos-2.15.0-cp39-cp39-macosx_12_0_arm64.whl (208.8 MB)\r\n",
      "     |████████████████████████████████| 208.8 MB 17.7 MB/s            \r\n",
      "\u001B[?25hRequirement already satisfied: numpy<2.0.0,>=1.23.5 in /Users/swithana/git/icicle_model_card/venv/lib/python3.9/site-packages (from tensorflow-macos==2.15.0->tensorflow) (1.26.0)\r\n",
      "Collecting termcolor>=1.1.0\r\n",
      "  Downloading termcolor-2.4.0-py3-none-any.whl (7.7 kB)\r\n",
      "Collecting tensorboard<2.16,>=2.15\r\n",
      "  Downloading tensorboard-2.15.2-py3-none-any.whl (5.5 MB)\r\n",
      "     |████████████████████████████████| 5.5 MB 29.9 MB/s            \r\n",
      "\u001B[?25hRequirement already satisfied: six>=1.12.0 in /Users/swithana/git/icicle_model_card/venv/lib/python3.9/site-packages (from tensorflow-macos==2.15.0->tensorflow) (1.16.0)\r\n",
      "Collecting protobuf!=4.21.0,!=4.21.1,!=4.21.2,!=4.21.3,!=4.21.4,!=4.21.5,<5.0.0dev,>=3.20.3\r\n",
      "  Downloading protobuf-4.25.3-cp37-abi3-macosx_10_9_universal2.whl (394 kB)\r\n",
      "     |████████████████████████████████| 394 kB 30.6 MB/s            \r\n",
      "\u001B[?25hCollecting astunparse>=1.6.0\r\n",
      "  Using cached astunparse-1.6.3-py2.py3-none-any.whl (12 kB)\r\n",
      "Collecting gast!=0.5.0,!=0.5.1,!=0.5.2,>=0.2.1\r\n",
      "  Using cached gast-0.5.4-py3-none-any.whl (19 kB)\r\n",
      "Collecting google-pasta>=0.1.1\r\n",
      "  Using cached google_pasta-0.2.0-py3-none-any.whl (57 kB)\r\n",
      "Collecting ml-dtypes~=0.2.0\r\n",
      "  Using cached ml_dtypes-0.2.0-cp39-cp39-macosx_10_9_universal2.whl (1.2 MB)\r\n",
      "Collecting opt-einsum>=2.3.2\r\n",
      "  Using cached opt_einsum-3.3.0-py3-none-any.whl (65 kB)\r\n",
      "Collecting libclang>=13.0.0\r\n",
      "  Using cached libclang-16.0.6-py2.py3-none-macosx_11_0_arm64.whl (20.6 MB)\r\n",
      "Collecting tensorflow-io-gcs-filesystem>=0.23.1\r\n",
      "  Downloading tensorflow_io_gcs_filesystem-0.36.0-cp39-cp39-macosx_12_0_arm64.whl (3.4 MB)\r\n",
      "     |████████████████████████████████| 3.4 MB 32.8 MB/s            \r\n",
      "\u001B[?25hCollecting h5py>=2.9.0\r\n",
      "  Using cached h5py-3.10.0-cp39-cp39-macosx_11_0_arm64.whl (2.7 MB)\r\n",
      "Collecting tensorflow-estimator<2.16,>=2.15.0\r\n",
      "  Downloading tensorflow_estimator-2.15.0-py2.py3-none-any.whl (441 kB)\r\n",
      "     |████████████████████████████████| 441 kB 33.2 MB/s            \r\n",
      "\u001B[?25hCollecting wrapt<1.15,>=1.11.0\r\n",
      "  Using cached wrapt-1.14.1-cp39-cp39-macosx_11_0_arm64.whl (35 kB)\r\n",
      "Collecting grpcio<2.0,>=1.24.3\r\n",
      "  Downloading grpcio-1.60.1-cp39-cp39-macosx_10_10_universal2.whl (9.7 MB)\r\n",
      "     |████████████████████████████████| 9.7 MB 40.5 MB/s            \r\n",
      "\u001B[?25hCollecting keras<2.16,>=2.15.0\r\n",
      "  Downloading keras-2.15.0-py3-none-any.whl (1.7 MB)\r\n",
      "     |████████████████████████████████| 1.7 MB 28.8 MB/s            \r\n",
      "\u001B[?25hRequirement already satisfied: packaging in /Users/swithana/git/icicle_model_card/venv/lib/python3.9/site-packages (from tensorflow-macos==2.15.0->tensorflow) (23.2)\r\n",
      "Requirement already satisfied: typing-extensions>=3.6.6 in /Users/swithana/git/icicle_model_card/venv/lib/python3.9/site-packages (from tensorflow-macos==2.15.0->tensorflow) (4.8.0)\r\n",
      "Requirement already satisfied: setuptools in /Users/swithana/git/icicle_model_card/venv/lib/python3.9/site-packages (from tensorflow-macos==2.15.0->tensorflow) (60.2.0)\r\n",
      "Collecting absl-py>=1.0.0\r\n",
      "  Downloading absl_py-2.1.0-py3-none-any.whl (133 kB)\r\n",
      "     |████████████████████████████████| 133 kB 37.0 MB/s            \r\n",
      "\u001B[?25hCollecting flatbuffers>=23.5.26\r\n",
      "  Using cached flatbuffers-23.5.26-py2.py3-none-any.whl (26 kB)\r\n",
      "Requirement already satisfied: wheel<1.0,>=0.23.0 in /Users/swithana/git/icicle_model_card/venv/lib/python3.9/site-packages (from astunparse>=1.6.0->tensorflow-macos==2.15.0->tensorflow) (0.37.1)\r\n",
      "Collecting google-auth-oauthlib<2,>=0.5\r\n",
      "  Downloading google_auth_oauthlib-1.2.0-py2.py3-none-any.whl (24 kB)\r\n",
      "Collecting werkzeug>=1.0.1\r\n",
      "  Downloading werkzeug-3.0.1-py3-none-any.whl (226 kB)\r\n",
      "     |████████████████████████████████| 226 kB 35.5 MB/s            \r\n",
      "\u001B[?25hCollecting tensorboard-data-server<0.8.0,>=0.7.0\r\n",
      "  Downloading tensorboard_data_server-0.7.2-py3-none-any.whl (2.4 kB)\r\n",
      "Collecting google-auth<3,>=1.6.3\r\n",
      "  Downloading google_auth-2.28.0-py2.py3-none-any.whl (186 kB)\r\n",
      "     |████████████████████████████████| 186 kB 36.2 MB/s            \r\n",
      "\u001B[?25hRequirement already satisfied: requests<3,>=2.21.0 in /Users/swithana/git/icicle_model_card/venv/lib/python3.9/site-packages (from tensorboard<2.16,>=2.15->tensorflow-macos==2.15.0->tensorflow) (2.31.0)\r\n",
      "Collecting markdown>=2.6.8\r\n",
      "  Downloading Markdown-3.5.2-py3-none-any.whl (103 kB)\r\n",
      "     |████████████████████████████████| 103 kB 39.2 MB/s            \r\n",
      "\u001B[?25hCollecting cachetools<6.0,>=2.0.0\r\n",
      "  Downloading cachetools-5.3.2-py3-none-any.whl (9.3 kB)\r\n",
      "Collecting pyasn1-modules>=0.2.1\r\n",
      "  Using cached pyasn1_modules-0.3.0-py2.py3-none-any.whl (181 kB)\r\n",
      "Collecting rsa<5,>=3.1.4\r\n",
      "  Using cached rsa-4.9-py3-none-any.whl (34 kB)\r\n",
      "Collecting requests-oauthlib>=0.7.0\r\n",
      "  Using cached requests_oauthlib-1.3.1-py2.py3-none-any.whl (23 kB)\r\n",
      "Requirement already satisfied: importlib-metadata>=4.4 in /Users/swithana/git/icicle_model_card/venv/lib/python3.9/site-packages (from markdown>=2.6.8->tensorboard<2.16,>=2.15->tensorflow-macos==2.15.0->tensorflow) (6.8.0)\r\n",
      "Requirement already satisfied: urllib3<3,>=1.21.1 in /Users/swithana/git/icicle_model_card/venv/lib/python3.9/site-packages (from requests<3,>=2.21.0->tensorboard<2.16,>=2.15->tensorflow-macos==2.15.0->tensorflow) (2.0.6)\r\n",
      "Requirement already satisfied: idna<4,>=2.5 in /Users/swithana/git/icicle_model_card/venv/lib/python3.9/site-packages (from requests<3,>=2.21.0->tensorboard<2.16,>=2.15->tensorflow-macos==2.15.0->tensorflow) (3.4)\r\n",
      "Requirement already satisfied: certifi>=2017.4.17 in /Users/swithana/git/icicle_model_card/venv/lib/python3.9/site-packages (from requests<3,>=2.21.0->tensorboard<2.16,>=2.15->tensorflow-macos==2.15.0->tensorflow) (2023.7.22)\r\n",
      "Requirement already satisfied: charset-normalizer<4,>=2 in /Users/swithana/git/icicle_model_card/venv/lib/python3.9/site-packages (from requests<3,>=2.21.0->tensorboard<2.16,>=2.15->tensorflow-macos==2.15.0->tensorflow) (3.3.0)\r\n",
      "Requirement already satisfied: MarkupSafe>=2.1.1 in /Users/swithana/git/icicle_model_card/venv/lib/python3.9/site-packages (from werkzeug>=1.0.1->tensorboard<2.16,>=2.15->tensorflow-macos==2.15.0->tensorflow) (2.1.3)\r\n",
      "Requirement already satisfied: zipp>=0.5 in /Users/swithana/git/icicle_model_card/venv/lib/python3.9/site-packages (from importlib-metadata>=4.4->markdown>=2.6.8->tensorboard<2.16,>=2.15->tensorflow-macos==2.15.0->tensorflow) (3.17.0)\r\n",
      "Collecting pyasn1<0.6.0,>=0.4.6\r\n",
      "  Downloading pyasn1-0.5.1-py2.py3-none-any.whl (84 kB)\r\n",
      "     |████████████████████████████████| 84 kB 14.0 MB/s            \r\n",
      "\u001B[?25hCollecting oauthlib>=3.0.0\r\n",
      "  Using cached oauthlib-3.2.2-py3-none-any.whl (151 kB)\r\n",
      "Installing collected packages: pyasn1, rsa, pyasn1-modules, oauthlib, cachetools, requests-oauthlib, google-auth, werkzeug, tensorboard-data-server, protobuf, markdown, grpcio, google-auth-oauthlib, absl-py, wrapt, termcolor, tensorflow-io-gcs-filesystem, tensorflow-estimator, tensorboard, opt-einsum, ml-dtypes, libclang, keras, h5py, google-pasta, gast, flatbuffers, astunparse, tensorflow-macos, tensorflow\r\n",
      "Successfully installed absl-py-2.1.0 astunparse-1.6.3 cachetools-5.3.2 flatbuffers-23.5.26 gast-0.5.4 google-auth-2.28.0 google-auth-oauthlib-1.2.0 google-pasta-0.2.0 grpcio-1.60.1 h5py-3.10.0 keras-2.15.0 libclang-16.0.6 markdown-3.5.2 ml-dtypes-0.2.0 oauthlib-3.2.2 opt-einsum-3.3.0 protobuf-4.25.3 pyasn1-0.5.1 pyasn1-modules-0.3.0 requests-oauthlib-1.3.1 rsa-4.9 tensorboard-2.15.2 tensorboard-data-server-0.7.2 tensorflow-2.15.0 tensorflow-estimator-2.15.0 tensorflow-io-gcs-filesystem-0.36.0 tensorflow-macos-2.15.0 termcolor-2.4.0 werkzeug-3.0.1 wrapt-1.14.1\r\n",
      "\u001B[33mWARNING: You are using pip version 21.3.1; however, version 24.0 is available.\r\n",
      "You should consider upgrading via the '/Users/swithana/git/icicle_model_card/venv/bin/python -m pip install --upgrade pip' command.\u001B[0m\r\n"
     ]
    }
   ],
   "source": [
    "!pip install tensorflow"
   ],
   "metadata": {
    "collapsed": false,
    "pycharm": {
     "name": "#%%\n"
    }
   }
  },
  {
   "cell_type": "code",
   "source": [
    "columns = [\"age\", \"workclass\", \"fnlwgt\", \"education\", \"education-num\", \"martial-status\",\n",
    "        \"occupation\", \"relationship\", \"race\", \"sex\", \"capital-gain\", \"capital-loss\",\n",
    "        \"hours-per-week\", \"native-country\", \"income\"]\n",
    "data = pd.read_csv('/Users/swithana/git/icicle_model_card/examples/notebooks/data/adult/adult.data', names=columns)"
   ],
   "metadata": {
    "collapsed": false,
    "pycharm": {
     "name": "#%%\n"
    },
    "ExecuteTime": {
     "end_time": "2024-05-06T17:30:14.312967Z",
     "start_time": "2024-05-06T17:30:14.260469Z"
    }
   },
   "outputs": [],
   "execution_count": 2
  },
  {
   "cell_type": "code",
   "source": [
    "data.head()"
   ],
   "metadata": {
    "collapsed": false,
    "pycharm": {
     "name": "#%%\n"
    },
    "ExecuteTime": {
     "end_time": "2024-05-06T17:30:15.279912Z",
     "start_time": "2024-05-06T17:30:15.272206Z"
    }
   },
   "outputs": [
    {
     "data": {
      "text/plain": [
       "   age          workclass  fnlwgt   education  education-num  \\\n",
       "0   39          State-gov   77516   Bachelors             13   \n",
       "1   50   Self-emp-not-inc   83311   Bachelors             13   \n",
       "2   38            Private  215646     HS-grad              9   \n",
       "3   53            Private  234721        11th              7   \n",
       "4   28            Private  338409   Bachelors             13   \n",
       "\n",
       "        martial-status          occupation    relationship    race      sex  \\\n",
       "0        Never-married        Adm-clerical   Not-in-family   White     Male   \n",
       "1   Married-civ-spouse     Exec-managerial         Husband   White     Male   \n",
       "2             Divorced   Handlers-cleaners   Not-in-family   White     Male   \n",
       "3   Married-civ-spouse   Handlers-cleaners         Husband   Black     Male   \n",
       "4   Married-civ-spouse      Prof-specialty            Wife   Black   Female   \n",
       "\n",
       "   capital-gain  capital-loss  hours-per-week  native-country  income  \n",
       "0          2174             0              40   United-States   <=50K  \n",
       "1             0             0              13   United-States   <=50K  \n",
       "2             0             0              40   United-States   <=50K  \n",
       "3             0             0              40   United-States   <=50K  \n",
       "4             0             0              40            Cuba   <=50K  "
      ],
      "text/html": [
       "<div>\n",
       "<style scoped>\n",
       "    .dataframe tbody tr th:only-of-type {\n",
       "        vertical-align: middle;\n",
       "    }\n",
       "\n",
       "    .dataframe tbody tr th {\n",
       "        vertical-align: top;\n",
       "    }\n",
       "\n",
       "    .dataframe thead th {\n",
       "        text-align: right;\n",
       "    }\n",
       "</style>\n",
       "<table border=\"1\" class=\"dataframe\">\n",
       "  <thead>\n",
       "    <tr style=\"text-align: right;\">\n",
       "      <th></th>\n",
       "      <th>age</th>\n",
       "      <th>workclass</th>\n",
       "      <th>fnlwgt</th>\n",
       "      <th>education</th>\n",
       "      <th>education-num</th>\n",
       "      <th>martial-status</th>\n",
       "      <th>occupation</th>\n",
       "      <th>relationship</th>\n",
       "      <th>race</th>\n",
       "      <th>sex</th>\n",
       "      <th>capital-gain</th>\n",
       "      <th>capital-loss</th>\n",
       "      <th>hours-per-week</th>\n",
       "      <th>native-country</th>\n",
       "      <th>income</th>\n",
       "    </tr>\n",
       "  </thead>\n",
       "  <tbody>\n",
       "    <tr>\n",
       "      <th>0</th>\n",
       "      <td>39</td>\n",
       "      <td>State-gov</td>\n",
       "      <td>77516</td>\n",
       "      <td>Bachelors</td>\n",
       "      <td>13</td>\n",
       "      <td>Never-married</td>\n",
       "      <td>Adm-clerical</td>\n",
       "      <td>Not-in-family</td>\n",
       "      <td>White</td>\n",
       "      <td>Male</td>\n",
       "      <td>2174</td>\n",
       "      <td>0</td>\n",
       "      <td>40</td>\n",
       "      <td>United-States</td>\n",
       "      <td>&lt;=50K</td>\n",
       "    </tr>\n",
       "    <tr>\n",
       "      <th>1</th>\n",
       "      <td>50</td>\n",
       "      <td>Self-emp-not-inc</td>\n",
       "      <td>83311</td>\n",
       "      <td>Bachelors</td>\n",
       "      <td>13</td>\n",
       "      <td>Married-civ-spouse</td>\n",
       "      <td>Exec-managerial</td>\n",
       "      <td>Husband</td>\n",
       "      <td>White</td>\n",
       "      <td>Male</td>\n",
       "      <td>0</td>\n",
       "      <td>0</td>\n",
       "      <td>13</td>\n",
       "      <td>United-States</td>\n",
       "      <td>&lt;=50K</td>\n",
       "    </tr>\n",
       "    <tr>\n",
       "      <th>2</th>\n",
       "      <td>38</td>\n",
       "      <td>Private</td>\n",
       "      <td>215646</td>\n",
       "      <td>HS-grad</td>\n",
       "      <td>9</td>\n",
       "      <td>Divorced</td>\n",
       "      <td>Handlers-cleaners</td>\n",
       "      <td>Not-in-family</td>\n",
       "      <td>White</td>\n",
       "      <td>Male</td>\n",
       "      <td>0</td>\n",
       "      <td>0</td>\n",
       "      <td>40</td>\n",
       "      <td>United-States</td>\n",
       "      <td>&lt;=50K</td>\n",
       "    </tr>\n",
       "    <tr>\n",
       "      <th>3</th>\n",
       "      <td>53</td>\n",
       "      <td>Private</td>\n",
       "      <td>234721</td>\n",
       "      <td>11th</td>\n",
       "      <td>7</td>\n",
       "      <td>Married-civ-spouse</td>\n",
       "      <td>Handlers-cleaners</td>\n",
       "      <td>Husband</td>\n",
       "      <td>Black</td>\n",
       "      <td>Male</td>\n",
       "      <td>0</td>\n",
       "      <td>0</td>\n",
       "      <td>40</td>\n",
       "      <td>United-States</td>\n",
       "      <td>&lt;=50K</td>\n",
       "    </tr>\n",
       "    <tr>\n",
       "      <th>4</th>\n",
       "      <td>28</td>\n",
       "      <td>Private</td>\n",
       "      <td>338409</td>\n",
       "      <td>Bachelors</td>\n",
       "      <td>13</td>\n",
       "      <td>Married-civ-spouse</td>\n",
       "      <td>Prof-specialty</td>\n",
       "      <td>Wife</td>\n",
       "      <td>Black</td>\n",
       "      <td>Female</td>\n",
       "      <td>0</td>\n",
       "      <td>0</td>\n",
       "      <td>40</td>\n",
       "      <td>Cuba</td>\n",
       "      <td>&lt;=50K</td>\n",
       "    </tr>\n",
       "  </tbody>\n",
       "</table>\n",
       "</div>"
      ]
     },
     "execution_count": 3,
     "metadata": {},
     "output_type": "execute_result"
    }
   ],
   "execution_count": 3
  },
  {
   "cell_type": "markdown",
   "source": [
    "### Pre-processing"
   ],
   "metadata": {
    "collapsed": false,
    "pycharm": {
     "name": "#%% md\n"
    }
   }
  },
  {
   "cell_type": "code",
   "source": [
    "label_encoder = LabelEncoder()\n",
    "data['income'] = label_encoder.fit_transform(data['income'])\n",
    "\n",
    "# Convert categorical variables to one-hot encoding\n",
    "data = pd.get_dummies(data, drop_first=True, dtype=float)\n",
    "\n",
    "data.head()"
   ],
   "metadata": {
    "collapsed": false,
    "pycharm": {
     "name": "#%%\n"
    },
    "ExecuteTime": {
     "end_time": "2024-05-06T17:30:18.650597Z",
     "start_time": "2024-05-06T17:30:18.601061Z"
    }
   },
   "outputs": [
    {
     "data": {
      "text/plain": [
       "   age  fnlwgt  education-num  capital-gain  capital-loss  hours-per-week  \\\n",
       "0   39   77516             13          2174             0              40   \n",
       "1   50   83311             13             0             0              13   \n",
       "2   38  215646              9             0             0              40   \n",
       "3   53  234721              7             0             0              40   \n",
       "4   28  338409             13             0             0              40   \n",
       "\n",
       "   income  workclass_ Federal-gov  workclass_ Local-gov  \\\n",
       "0       0                     0.0                   0.0   \n",
       "1       0                     0.0                   0.0   \n",
       "2       0                     0.0                   0.0   \n",
       "3       0                     0.0                   0.0   \n",
       "4       0                     0.0                   0.0   \n",
       "\n",
       "   workclass_ Never-worked  ...  native-country_ Portugal  \\\n",
       "0                      0.0  ...                       0.0   \n",
       "1                      0.0  ...                       0.0   \n",
       "2                      0.0  ...                       0.0   \n",
       "3                      0.0  ...                       0.0   \n",
       "4                      0.0  ...                       0.0   \n",
       "\n",
       "   native-country_ Puerto-Rico  native-country_ Scotland  \\\n",
       "0                          0.0                       0.0   \n",
       "1                          0.0                       0.0   \n",
       "2                          0.0                       0.0   \n",
       "3                          0.0                       0.0   \n",
       "4                          0.0                       0.0   \n",
       "\n",
       "   native-country_ South  native-country_ Taiwan  native-country_ Thailand  \\\n",
       "0                    0.0                     0.0                       0.0   \n",
       "1                    0.0                     0.0                       0.0   \n",
       "2                    0.0                     0.0                       0.0   \n",
       "3                    0.0                     0.0                       0.0   \n",
       "4                    0.0                     0.0                       0.0   \n",
       "\n",
       "   native-country_ Trinadad&Tobago  native-country_ United-States  \\\n",
       "0                              0.0                            1.0   \n",
       "1                              0.0                            1.0   \n",
       "2                              0.0                            1.0   \n",
       "3                              0.0                            1.0   \n",
       "4                              0.0                            0.0   \n",
       "\n",
       "   native-country_ Vietnam  native-country_ Yugoslavia  \n",
       "0                      0.0                         0.0  \n",
       "1                      0.0                         0.0  \n",
       "2                      0.0                         0.0  \n",
       "3                      0.0                         0.0  \n",
       "4                      0.0                         0.0  \n",
       "\n",
       "[5 rows x 101 columns]"
      ],
      "text/html": [
       "<div>\n",
       "<style scoped>\n",
       "    .dataframe tbody tr th:only-of-type {\n",
       "        vertical-align: middle;\n",
       "    }\n",
       "\n",
       "    .dataframe tbody tr th {\n",
       "        vertical-align: top;\n",
       "    }\n",
       "\n",
       "    .dataframe thead th {\n",
       "        text-align: right;\n",
       "    }\n",
       "</style>\n",
       "<table border=\"1\" class=\"dataframe\">\n",
       "  <thead>\n",
       "    <tr style=\"text-align: right;\">\n",
       "      <th></th>\n",
       "      <th>age</th>\n",
       "      <th>fnlwgt</th>\n",
       "      <th>education-num</th>\n",
       "      <th>capital-gain</th>\n",
       "      <th>capital-loss</th>\n",
       "      <th>hours-per-week</th>\n",
       "      <th>income</th>\n",
       "      <th>workclass_ Federal-gov</th>\n",
       "      <th>workclass_ Local-gov</th>\n",
       "      <th>workclass_ Never-worked</th>\n",
       "      <th>...</th>\n",
       "      <th>native-country_ Portugal</th>\n",
       "      <th>native-country_ Puerto-Rico</th>\n",
       "      <th>native-country_ Scotland</th>\n",
       "      <th>native-country_ South</th>\n",
       "      <th>native-country_ Taiwan</th>\n",
       "      <th>native-country_ Thailand</th>\n",
       "      <th>native-country_ Trinadad&amp;Tobago</th>\n",
       "      <th>native-country_ United-States</th>\n",
       "      <th>native-country_ Vietnam</th>\n",
       "      <th>native-country_ Yugoslavia</th>\n",
       "    </tr>\n",
       "  </thead>\n",
       "  <tbody>\n",
       "    <tr>\n",
       "      <th>0</th>\n",
       "      <td>39</td>\n",
       "      <td>77516</td>\n",
       "      <td>13</td>\n",
       "      <td>2174</td>\n",
       "      <td>0</td>\n",
       "      <td>40</td>\n",
       "      <td>0</td>\n",
       "      <td>0.0</td>\n",
       "      <td>0.0</td>\n",
       "      <td>0.0</td>\n",
       "      <td>...</td>\n",
       "      <td>0.0</td>\n",
       "      <td>0.0</td>\n",
       "      <td>0.0</td>\n",
       "      <td>0.0</td>\n",
       "      <td>0.0</td>\n",
       "      <td>0.0</td>\n",
       "      <td>0.0</td>\n",
       "      <td>1.0</td>\n",
       "      <td>0.0</td>\n",
       "      <td>0.0</td>\n",
       "    </tr>\n",
       "    <tr>\n",
       "      <th>1</th>\n",
       "      <td>50</td>\n",
       "      <td>83311</td>\n",
       "      <td>13</td>\n",
       "      <td>0</td>\n",
       "      <td>0</td>\n",
       "      <td>13</td>\n",
       "      <td>0</td>\n",
       "      <td>0.0</td>\n",
       "      <td>0.0</td>\n",
       "      <td>0.0</td>\n",
       "      <td>...</td>\n",
       "      <td>0.0</td>\n",
       "      <td>0.0</td>\n",
       "      <td>0.0</td>\n",
       "      <td>0.0</td>\n",
       "      <td>0.0</td>\n",
       "      <td>0.0</td>\n",
       "      <td>0.0</td>\n",
       "      <td>1.0</td>\n",
       "      <td>0.0</td>\n",
       "      <td>0.0</td>\n",
       "    </tr>\n",
       "    <tr>\n",
       "      <th>2</th>\n",
       "      <td>38</td>\n",
       "      <td>215646</td>\n",
       "      <td>9</td>\n",
       "      <td>0</td>\n",
       "      <td>0</td>\n",
       "      <td>40</td>\n",
       "      <td>0</td>\n",
       "      <td>0.0</td>\n",
       "      <td>0.0</td>\n",
       "      <td>0.0</td>\n",
       "      <td>...</td>\n",
       "      <td>0.0</td>\n",
       "      <td>0.0</td>\n",
       "      <td>0.0</td>\n",
       "      <td>0.0</td>\n",
       "      <td>0.0</td>\n",
       "      <td>0.0</td>\n",
       "      <td>0.0</td>\n",
       "      <td>1.0</td>\n",
       "      <td>0.0</td>\n",
       "      <td>0.0</td>\n",
       "    </tr>\n",
       "    <tr>\n",
       "      <th>3</th>\n",
       "      <td>53</td>\n",
       "      <td>234721</td>\n",
       "      <td>7</td>\n",
       "      <td>0</td>\n",
       "      <td>0</td>\n",
       "      <td>40</td>\n",
       "      <td>0</td>\n",
       "      <td>0.0</td>\n",
       "      <td>0.0</td>\n",
       "      <td>0.0</td>\n",
       "      <td>...</td>\n",
       "      <td>0.0</td>\n",
       "      <td>0.0</td>\n",
       "      <td>0.0</td>\n",
       "      <td>0.0</td>\n",
       "      <td>0.0</td>\n",
       "      <td>0.0</td>\n",
       "      <td>0.0</td>\n",
       "      <td>1.0</td>\n",
       "      <td>0.0</td>\n",
       "      <td>0.0</td>\n",
       "    </tr>\n",
       "    <tr>\n",
       "      <th>4</th>\n",
       "      <td>28</td>\n",
       "      <td>338409</td>\n",
       "      <td>13</td>\n",
       "      <td>0</td>\n",
       "      <td>0</td>\n",
       "      <td>40</td>\n",
       "      <td>0</td>\n",
       "      <td>0.0</td>\n",
       "      <td>0.0</td>\n",
       "      <td>0.0</td>\n",
       "      <td>...</td>\n",
       "      <td>0.0</td>\n",
       "      <td>0.0</td>\n",
       "      <td>0.0</td>\n",
       "      <td>0.0</td>\n",
       "      <td>0.0</td>\n",
       "      <td>0.0</td>\n",
       "      <td>0.0</td>\n",
       "      <td>0.0</td>\n",
       "      <td>0.0</td>\n",
       "      <td>0.0</td>\n",
       "    </tr>\n",
       "  </tbody>\n",
       "</table>\n",
       "<p>5 rows × 101 columns</p>\n",
       "</div>"
      ]
     },
     "execution_count": 4,
     "metadata": {},
     "output_type": "execute_result"
    }
   ],
   "execution_count": 4
  },
  {
   "cell_type": "code",
   "source": [
    "X = data.drop('income', axis=1).values\n",
    "y = data['income'].values\n",
    "\n",
    "print(data.columns.tolist())"
   ],
   "metadata": {
    "collapsed": false,
    "pycharm": {
     "name": "#%%\n"
    },
    "ExecuteTime": {
     "end_time": "2024-05-06T17:30:19.899308Z",
     "start_time": "2024-05-06T17:30:19.889058Z"
    }
   },
   "outputs": [
    {
     "name": "stdout",
     "output_type": "stream",
     "text": [
      "['age', 'fnlwgt', 'education-num', 'capital-gain', 'capital-loss', 'hours-per-week', 'income', 'workclass_ Federal-gov', 'workclass_ Local-gov', 'workclass_ Never-worked', 'workclass_ Private', 'workclass_ Self-emp-inc', 'workclass_ Self-emp-not-inc', 'workclass_ State-gov', 'workclass_ Without-pay', 'education_ 11th', 'education_ 12th', 'education_ 1st-4th', 'education_ 5th-6th', 'education_ 7th-8th', 'education_ 9th', 'education_ Assoc-acdm', 'education_ Assoc-voc', 'education_ Bachelors', 'education_ Doctorate', 'education_ HS-grad', 'education_ Masters', 'education_ Preschool', 'education_ Prof-school', 'education_ Some-college', 'martial-status_ Married-AF-spouse', 'martial-status_ Married-civ-spouse', 'martial-status_ Married-spouse-absent', 'martial-status_ Never-married', 'martial-status_ Separated', 'martial-status_ Widowed', 'occupation_ Adm-clerical', 'occupation_ Armed-Forces', 'occupation_ Craft-repair', 'occupation_ Exec-managerial', 'occupation_ Farming-fishing', 'occupation_ Handlers-cleaners', 'occupation_ Machine-op-inspct', 'occupation_ Other-service', 'occupation_ Priv-house-serv', 'occupation_ Prof-specialty', 'occupation_ Protective-serv', 'occupation_ Sales', 'occupation_ Tech-support', 'occupation_ Transport-moving', 'relationship_ Not-in-family', 'relationship_ Other-relative', 'relationship_ Own-child', 'relationship_ Unmarried', 'relationship_ Wife', 'race_ Asian-Pac-Islander', 'race_ Black', 'race_ Other', 'race_ White', 'sex_ Male', 'native-country_ Cambodia', 'native-country_ Canada', 'native-country_ China', 'native-country_ Columbia', 'native-country_ Cuba', 'native-country_ Dominican-Republic', 'native-country_ Ecuador', 'native-country_ El-Salvador', 'native-country_ England', 'native-country_ France', 'native-country_ Germany', 'native-country_ Greece', 'native-country_ Guatemala', 'native-country_ Haiti', 'native-country_ Holand-Netherlands', 'native-country_ Honduras', 'native-country_ Hong', 'native-country_ Hungary', 'native-country_ India', 'native-country_ Iran', 'native-country_ Ireland', 'native-country_ Italy', 'native-country_ Jamaica', 'native-country_ Japan', 'native-country_ Laos', 'native-country_ Mexico', 'native-country_ Nicaragua', 'native-country_ Outlying-US(Guam-USVI-etc)', 'native-country_ Peru', 'native-country_ Philippines', 'native-country_ Poland', 'native-country_ Portugal', 'native-country_ Puerto-Rico', 'native-country_ Scotland', 'native-country_ South', 'native-country_ Taiwan', 'native-country_ Thailand', 'native-country_ Trinadad&Tobago', 'native-country_ United-States', 'native-country_ Vietnam', 'native-country_ Yugoslavia']\n"
     ]
    }
   ],
   "execution_count": 5
  },
  {
   "cell_type": "code",
   "source": [
    "X_train, X_test, y_train, y_test = train_test_split(X, y, test_size=0.2, random_state=42)"
   ],
   "metadata": {
    "collapsed": false,
    "pycharm": {
     "name": "#%%\n"
    },
    "ExecuteTime": {
     "end_time": "2024-05-06T17:30:21.940283Z",
     "start_time": "2024-05-06T17:30:21.921906Z"
    }
   },
   "outputs": [],
   "execution_count": 6
  },
  {
   "metadata": {
    "ExecuteTime": {
     "end_time": "2024-05-06T17:45:55.922440Z",
     "start_time": "2024-05-06T17:45:55.919418Z"
    }
   },
   "cell_type": "code",
   "source": "X_train.shape",
   "outputs": [
    {
     "data": {
      "text/plain": [
       "(26048, 100)"
      ]
     },
     "execution_count": 22,
     "metadata": {},
     "output_type": "execute_result"
    }
   ],
   "execution_count": 22
  },
  {
   "cell_type": "markdown",
   "source": [
    "### Model Training"
   ],
   "metadata": {
    "collapsed": false,
    "pycharm": {
     "name": "#%% md\n"
    }
   }
  },
  {
   "cell_type": "code",
   "source": [
    "model = tf.keras.Sequential([\n",
    "    tf.keras.layers.Input(shape=(X_train.shape[1],)),\n",
    "    tf.keras.layers.Dense(64, activation='relu'),\n",
    "    tf.keras.layers.Dense(128, activation='relu'),\n",
    "    tf.keras.layers.Dense(64, activation='relu'),\n",
    "    tf.keras.layers.Dense(1, activation='sigmoid')\n",
    "])\n",
    "optimizer = tf.keras.optimizers.Adam(learning_rate=0.001)\n",
    "\n",
    "model.compile(optimizer=optimizer, loss='binary_crossentropy', metrics=['accuracy'])"
   ],
   "metadata": {
    "collapsed": false,
    "pycharm": {
     "name": "#%%\n"
    },
    "ExecuteTime": {
     "end_time": "2024-05-06T17:43:56.101193Z",
     "start_time": "2024-05-06T17:43:56.064659Z"
    }
   },
   "outputs": [
    {
     "name": "stderr",
     "output_type": "stream",
     "text": [
      "WARNING:absl:At this time, the v2.11+ optimizer `tf.keras.optimizers.Adam` runs slowly on M1/M2 Macs, please use the legacy Keras optimizer instead, located at `tf.keras.optimizers.legacy.Adam`.\n"
     ]
    }
   ],
   "execution_count": 18
  },
  {
   "cell_type": "code",
   "source": [
    "early_stopping = tf.keras.callbacks.EarlyStopping(monitor='loss', patience=3)\n",
    "\n",
    "model.fit(X_train, y_train, epochs=100, batch_size=32, validation_split=0.1, callbacks=[early_stopping])"
   ],
   "metadata": {
    "collapsed": false,
    "pycharm": {
     "name": "#%%\n"
    },
    "ExecuteTime": {
     "end_time": "2024-05-06T17:44:13.400384Z",
     "start_time": "2024-05-06T17:44:03.304842Z"
    }
   },
   "outputs": [
    {
     "name": "stdout",
     "output_type": "stream",
     "text": [
      "Epoch 1/100\n",
      "733/733 [==============================] - 1s 824us/step - loss: 122.1293 - accuracy: 0.6697 - val_loss: 91.1584 - val_accuracy: 0.8019\n",
      "Epoch 2/100\n",
      "733/733 [==============================] - 0s 667us/step - loss: 56.1731 - accuracy: 0.6815 - val_loss: 9.6071 - val_accuracy: 0.7992\n",
      "Epoch 3/100\n",
      "733/733 [==============================] - 0s 646us/step - loss: 27.8379 - accuracy: 0.6818 - val_loss: 4.8409 - val_accuracy: 0.7969\n",
      "Epoch 4/100\n",
      "733/733 [==============================] - 0s 622us/step - loss: 12.1377 - accuracy: 0.6855 - val_loss: 9.8526 - val_accuracy: 0.7900\n",
      "Epoch 5/100\n",
      "733/733 [==============================] - 0s 635us/step - loss: 7.6852 - accuracy: 0.6828 - val_loss: 10.0492 - val_accuracy: 0.2365\n",
      "Epoch 6/100\n",
      "733/733 [==============================] - 0s 631us/step - loss: 3.1837 - accuracy: 0.6853 - val_loss: 1.0472 - val_accuracy: 0.2626\n",
      "Epoch 7/100\n",
      "733/733 [==============================] - 0s 631us/step - loss: 2.3292 - accuracy: 0.6938 - val_loss: 2.0444 - val_accuracy: 0.8050\n",
      "Epoch 8/100\n",
      "733/733 [==============================] - 0s 623us/step - loss: 1.0862 - accuracy: 0.7215 - val_loss: 0.5771 - val_accuracy: 0.7973\n",
      "Epoch 9/100\n",
      "733/733 [==============================] - 0s 645us/step - loss: 0.6963 - accuracy: 0.7599 - val_loss: 0.5200 - val_accuracy: 0.8088\n",
      "Epoch 10/100\n",
      "733/733 [==============================] - 0s 645us/step - loss: 1.7171 - accuracy: 0.7402 - val_loss: 0.4900 - val_accuracy: 0.8058\n",
      "Epoch 11/100\n",
      "733/733 [==============================] - 0s 652us/step - loss: 0.5852 - accuracy: 0.7766 - val_loss: 0.5000 - val_accuracy: 0.8042\n",
      "Epoch 12/100\n",
      "733/733 [==============================] - 1s 686us/step - loss: 0.7501 - accuracy: 0.7605 - val_loss: 0.5869 - val_accuracy: 0.7651\n",
      "Epoch 13/100\n",
      "733/733 [==============================] - 0s 658us/step - loss: 0.6376 - accuracy: 0.7681 - val_loss: 0.4855 - val_accuracy: 0.8054\n",
      "Epoch 14/100\n",
      "733/733 [==============================] - 0s 668us/step - loss: 0.5311 - accuracy: 0.7868 - val_loss: 0.4825 - val_accuracy: 0.8077\n",
      "Epoch 15/100\n",
      "733/733 [==============================] - 0s 658us/step - loss: 0.5521 - accuracy: 0.7803 - val_loss: 0.5380 - val_accuracy: 0.7750\n",
      "Epoch 16/100\n",
      "733/733 [==============================] - 0s 663us/step - loss: 0.5323 - accuracy: 0.7751 - val_loss: 0.5004 - val_accuracy: 0.7985\n",
      "Epoch 17/100\n",
      "733/733 [==============================] - 0s 660us/step - loss: 0.5260 - accuracy: 0.7805 - val_loss: 0.4949 - val_accuracy: 0.8031\n",
      "Epoch 18/100\n",
      "733/733 [==============================] - 1s 683us/step - loss: 0.5533 - accuracy: 0.7863 - val_loss: 0.4823 - val_accuracy: 0.8046\n",
      "Epoch 19/100\n",
      "733/733 [==============================] - 0s 668us/step - loss: 0.5699 - accuracy: 0.7724 - val_loss: 0.5318 - val_accuracy: 0.7750\n",
      "Epoch 20/100\n",
      "733/733 [==============================] - 0s 665us/step - loss: 0.5393 - accuracy: 0.7827 - val_loss: 0.4861 - val_accuracy: 0.8088\n"
     ]
    },
    {
     "data": {
      "text/plain": [
       "<keras.src.callbacks.History at 0x2ac88cac0>"
      ]
     },
     "execution_count": 19,
     "metadata": {},
     "output_type": "execute_result"
    }
   ],
   "execution_count": 19
  },
  {
   "cell_type": "code",
   "source": "loss, accuracy = model.evaluate(X_test, y_test)",
   "metadata": {
    "collapsed": false,
    "pycharm": {
     "name": "#%%\n"
    },
    "ExecuteTime": {
     "end_time": "2024-05-06T17:44:17.913062Z",
     "start_time": "2024-05-06T17:44:17.787995Z"
    }
   },
   "outputs": [
    {
     "name": "stdout",
     "output_type": "stream",
     "text": [
      "204/204 [==============================] - 0s 446us/step - loss: 0.4956 - accuracy: 0.7981\n"
     ]
    }
   ],
   "execution_count": 20
  },
  {
   "cell_type": "code",
   "source": [
    "y_pred = model.predict(X_test)"
   ],
   "metadata": {
    "collapsed": false,
    "pycharm": {
     "name": "#%%\n"
    },
    "ExecuteTime": {
     "end_time": "2024-05-06T17:44:19.356875Z",
     "start_time": "2024-05-06T17:44:19.212115Z"
    }
   },
   "outputs": [
    {
     "name": "stdout",
     "output_type": "stream",
     "text": [
      "204/204 [==============================] - 0s 404us/step\n"
     ]
    }
   ],
   "execution_count": 21
  },
  {
   "cell_type": "markdown",
   "source": [
    "## Model Card Generation"
   ],
   "metadata": {
    "collapsed": false,
    "pycharm": {
     "name": "#%% md\n"
    }
   }
  },
  {
   "cell_type": "code",
   "source": [
    "from icicle_model_card.icicle_model_card import ModelCard, AIModel, BiasAnalysis, ExplainabilityAnalysis, validate_mc, Metric, save_mc\n",
    "import json"
   ],
   "metadata": {
    "collapsed": false,
    "pycharm": {
     "name": "#%%\n"
    },
    "ExecuteTime": {
     "end_time": "2024-05-06T17:31:36.490828Z",
     "start_time": "2024-05-06T17:31:35.875216Z"
    }
   },
   "outputs": [],
   "execution_count": 13
  },
  {
   "cell_type": "code",
   "source": [
    "mc = ModelCard(\n",
    "            name=\"UCI Adult Data Analysis model using Tensorflow\",\n",
    "            version=\"0.1\",\n",
    "            short_description=\"UCI Adult Data analysis using Tensorflow for demonstration of Patra Model Cards.\",\n",
    "            full_description=\"We have trained a ML model using the tensorflow framework to predict income for the UCI Adult Dataset. We leverage this data to run the Patra model cards to capture metadata about the model as well as fairness and explainability metrics.\",\n",
    "            keywords=\"uci adult, tensorflow, explainability, fairness, patra\",\n",
    "            author=\"Sachith Withana\",\n",
    "            input_type=\"Tabular\",\n",
    "            category=\"Classification\"\n",
    "        )\n",
    "\n",
    "mc.input_data = 'https://archive.ics.uci.edu/dataset/2/adult'\n",
    "mc.output_data = 'https://github.iu.edu/d2i/dockerhub/tensorflow/adult_modelv01'"
   ],
   "metadata": {
    "collapsed": false,
    "pycharm": {
     "name": "#%%\n"
    },
    "ExecuteTime": {
     "end_time": "2024-05-06T17:37:37.705633Z",
     "start_time": "2024-05-06T17:37:37.702155Z"
    }
   },
   "outputs": [],
   "execution_count": 16
  },
  {
   "cell_type": "markdown",
   "source": [],
   "metadata": {
    "collapsed": false,
    "pycharm": {
     "name": "#%% md\n"
    }
   }
  },
  {
   "metadata": {
    "ExecuteTime": {
     "end_time": "2024-05-06T17:59:41.106181Z",
     "start_time": "2024-05-06T17:59:41.102126Z"
    }
   },
   "cell_type": "code",
   "source": [
    "def remove_nulls(model_structure):\n",
    "    if isinstance(model_structure, dict):\n",
    "        return {k: remove_nulls(v) for k, v in model_structure.items() if v is not None and remove_nulls(v)}\n",
    "    elif isinstance(model_structure, list):\n",
    "        return [remove_nulls(v) for v in model_structure if v is not None and remove_nulls(v) != []]\n",
    "    else:\n",
    "        return model_structure\n",
    "\n",
    "def clean_model_structure(model_structure):\n",
    "    json_structure = json.loads(model_structure)\n",
    "    cleaned_structure = remove_nulls(json_structure)\n",
    "    return cleaned_structure"
   ],
   "outputs": [],
   "execution_count": 40
  },
  {
   "cell_type": "code",
   "source": [
    "model_metrics = []\n",
    "model_metrics.append(Metric(\"Test loss\", loss))\n",
    "model_metrics.append(Metric(\"Epochs\", 100))\n",
    "model_metrics.append(Metric(\"Batch Size\", 32))\n",
    "model_metrics.append(Metric(\"Optimizer\", \"Adam\"))\n",
    "model_metrics.append(Metric(\"Learning Rate\", 0.0001))\n",
    "model_metrics.append(Metric(\"Input Shape\", \"(26048, 100)\"))\n",
    "\n",
    "\n",
    "ai_model = AIModel(\n",
    "            name=\"Income prediction tensorflow model\",\n",
    "            version=\"0.1\",\n",
    "            description=\"Census classification problem using Tensorflow Neural Network using the UCI Adult Dataset\",\n",
    "            owner=\"Sachith Withana\",\n",
    "            location=\"https://github.iu.edu/d2i/uci_adult/tensorflow_model\",\n",
    "            license=\"BSD-3 Clause\",\n",
    "            framework=\"tensorflow\",\n",
    "            foundational_model=\"None\",\n",
    "            model_type=\"dnn\",\n",
    "            test_accuracy=accuracy,\n",
    "            model_structure = clean_model_structure(model.to_json())\n",
    "        )\n",
    "ai_model.metrics = model_metrics\n",
    "mc.ai_model = ai_model"
   ],
   "metadata": {
    "collapsed": false,
    "pycharm": {
     "name": "#%%\n"
    },
    "ExecuteTime": {
     "end_time": "2024-05-06T17:59:41.767839Z",
     "start_time": "2024-05-06T17:59:41.763586Z"
    }
   },
   "outputs": [],
   "execution_count": 41
  },
  {
   "metadata": {
    "ExecuteTime": {
     "end_time": "2024-05-06T17:59:42.397337Z",
     "start_time": "2024-05-06T17:59:42.394882Z"
    }
   },
   "cell_type": "code",
   "source": "print(mc)",
   "outputs": [
    {
     "name": "stdout",
     "output_type": "stream",
     "text": [
      "{\n",
      "    \"name\": \"UCI Adult Data Analysis model using Tensorflow\",\n",
      "    \"version\": \"0.1\",\n",
      "    \"short_description\": \"UCI Adult Data analysis using Tensorflow for demonstration of Patra Model Cards.\",\n",
      "    \"full_description\": \"We have trained a ML model using the tensorflow framework to predict income for the UCI Adult Dataset. We leverage this data to run the Patra model cards to capture metadata about the model as well as fairness and explainability metrics.\",\n",
      "    \"keywords\": \"uci adult, tensorflow, explainability, fairness, patra\",\n",
      "    \"author\": \"Sachith Withana\",\n",
      "    \"input_type\": \"Tabular\",\n",
      "    \"category\": \"Classification\",\n",
      "    \"input_data\": \"https://archive.ics.uci.edu/dataset/2/adult\",\n",
      "    \"output_data\": \"https://github.iu.edu/d2i/dockerhub/tensorflow/adult_modelv01\",\n",
      "    \"ai_model\": {\n",
      "        \"name\": \"Income prediction tensorflow model\",\n",
      "        \"version\": \"0.1\",\n",
      "        \"description\": \"Census classification problem using Tensorflow Neural Network using the UCI Adult Dataset\",\n",
      "        \"owner\": \"Sachith Withana\",\n",
      "        \"location\": \"https://github.iu.edu/d2i/uci_adult/tensorflow_model\",\n",
      "        \"license\": \"BSD-3 Clause\",\n",
      "        \"framework\": \"tensorflow\",\n",
      "        \"model_type\": \"dnn\",\n",
      "        \"test_accuracy\": 0.7980961203575134,\n",
      "        \"foundational_model\": \"None\",\n",
      "        \"model_structure\": {\n",
      "            \"class_name\": \"Sequential\",\n",
      "            \"config\": {\n",
      "                \"name\": \"sequential_2\",\n",
      "                \"layers\": [\n",
      "                    {\n",
      "                        \"module\": \"keras.layers\",\n",
      "                        \"class_name\": \"InputLayer\",\n",
      "                        \"config\": {\n",
      "                            \"batch_input_shape\": [\n",
      "                                100\n",
      "                            ],\n",
      "                            \"dtype\": \"float32\",\n",
      "                            \"name\": \"input_3\"\n",
      "                        }\n",
      "                    },\n",
      "                    {\n",
      "                        \"module\": \"keras.layers\",\n",
      "                        \"class_name\": \"Dense\",\n",
      "                        \"config\": {\n",
      "                            \"name\": \"dense_7\",\n",
      "                            \"trainable\": true,\n",
      "                            \"dtype\": \"float32\",\n",
      "                            \"units\": 64,\n",
      "                            \"activation\": \"relu\",\n",
      "                            \"use_bias\": true,\n",
      "                            \"kernel_initializer\": {\n",
      "                                \"module\": \"keras.initializers\",\n",
      "                                \"class_name\": \"GlorotUniform\"\n",
      "                            },\n",
      "                            \"bias_initializer\": {\n",
      "                                \"module\": \"keras.initializers\",\n",
      "                                \"class_name\": \"Zeros\"\n",
      "                            }\n",
      "                        },\n",
      "                        \"build_config\": {\n",
      "                            \"input_shape\": [\n",
      "                                100\n",
      "                            ]\n",
      "                        }\n",
      "                    },\n",
      "                    {\n",
      "                        \"module\": \"keras.layers\",\n",
      "                        \"class_name\": \"Dense\",\n",
      "                        \"config\": {\n",
      "                            \"name\": \"dense_8\",\n",
      "                            \"trainable\": true,\n",
      "                            \"dtype\": \"float32\",\n",
      "                            \"units\": 128,\n",
      "                            \"activation\": \"relu\",\n",
      "                            \"use_bias\": true,\n",
      "                            \"kernel_initializer\": {\n",
      "                                \"module\": \"keras.initializers\",\n",
      "                                \"class_name\": \"GlorotUniform\"\n",
      "                            },\n",
      "                            \"bias_initializer\": {\n",
      "                                \"module\": \"keras.initializers\",\n",
      "                                \"class_name\": \"Zeros\"\n",
      "                            }\n",
      "                        },\n",
      "                        \"build_config\": {\n",
      "                            \"input_shape\": [\n",
      "                                64\n",
      "                            ]\n",
      "                        }\n",
      "                    },\n",
      "                    {\n",
      "                        \"module\": \"keras.layers\",\n",
      "                        \"class_name\": \"Dense\",\n",
      "                        \"config\": {\n",
      "                            \"name\": \"dense_9\",\n",
      "                            \"trainable\": true,\n",
      "                            \"dtype\": \"float32\",\n",
      "                            \"units\": 64,\n",
      "                            \"activation\": \"relu\",\n",
      "                            \"use_bias\": true,\n",
      "                            \"kernel_initializer\": {\n",
      "                                \"module\": \"keras.initializers\",\n",
      "                                \"class_name\": \"GlorotUniform\"\n",
      "                            },\n",
      "                            \"bias_initializer\": {\n",
      "                                \"module\": \"keras.initializers\",\n",
      "                                \"class_name\": \"Zeros\"\n",
      "                            }\n",
      "                        },\n",
      "                        \"build_config\": {\n",
      "                            \"input_shape\": [\n",
      "                                128\n",
      "                            ]\n",
      "                        }\n",
      "                    },\n",
      "                    {\n",
      "                        \"module\": \"keras.layers\",\n",
      "                        \"class_name\": \"Dense\",\n",
      "                        \"config\": {\n",
      "                            \"name\": \"dense_10\",\n",
      "                            \"trainable\": true,\n",
      "                            \"dtype\": \"float32\",\n",
      "                            \"units\": 1,\n",
      "                            \"activation\": \"sigmoid\",\n",
      "                            \"use_bias\": true,\n",
      "                            \"kernel_initializer\": {\n",
      "                                \"module\": \"keras.initializers\",\n",
      "                                \"class_name\": \"GlorotUniform\"\n",
      "                            },\n",
      "                            \"bias_initializer\": {\n",
      "                                \"module\": \"keras.initializers\",\n",
      "                                \"class_name\": \"Zeros\"\n",
      "                            }\n",
      "                        },\n",
      "                        \"build_config\": {\n",
      "                            \"input_shape\": [\n",
      "                                64\n",
      "                            ]\n",
      "                        }\n",
      "                    }\n",
      "                ]\n",
      "            },\n",
      "            \"keras_version\": \"2.15.0\",\n",
      "            \"backend\": \"tensorflow\"\n",
      "        },\n",
      "        \"metrics\": [\n",
      "            {\n",
      "                \"key\": \"Test loss\",\n",
      "                \"value\": 0.49563485383987427\n",
      "            },\n",
      "            {\n",
      "                \"key\": \"Epochs\",\n",
      "                \"value\": 100\n",
      "            },\n",
      "            {\n",
      "                \"key\": \"Batch Size\",\n",
      "                \"value\": 32\n",
      "            },\n",
      "            {\n",
      "                \"key\": \"Optimizer\",\n",
      "                \"value\": \"Adam\"\n",
      "            },\n",
      "            {\n",
      "                \"key\": \"Learning Rate\",\n",
      "                \"value\": 0.0001\n",
      "            },\n",
      "            {\n",
      "                \"key\": \"Input Shape\",\n",
      "                \"value\": \"(26048, 100)\"\n",
      "            }\n",
      "        ]\n",
      "    },\n",
      "    \"bias_analysis\": null,\n",
      "    \"xai_analysis\": null\n",
      "}\n"
     ]
    }
   ],
   "execution_count": 42
  },
  {
   "cell_type": "code",
   "source": [
    "y_pred = model.predict(X_test)\n",
    "y_pred = (y_pred >= 0.5).flatten()\n",
    "mc.populate_bias(X_test, y_test, y_pred, \"gender\", X_test[:, 58], model)"
   ],
   "metadata": {
    "collapsed": false,
    "pycharm": {
     "name": "#%%\n"
    },
    "ExecuteTime": {
     "end_time": "2024-05-06T18:00:09.737667Z",
     "start_time": "2024-05-06T18:00:09.572465Z"
    }
   },
   "outputs": [
    {
     "name": "stdout",
     "output_type": "stream",
     "text": [
      "204/204 [==============================] - 0s 368us/step\n"
     ]
    },
    {
     "name": "stderr",
     "output_type": "stream",
     "text": [
      "DataFrame.applymap has been deprecated. Use DataFrame.map instead.\n",
      "DataFrame.applymap has been deprecated. Use DataFrame.map instead.\n",
      "DataFrame.applymap has been deprecated. Use DataFrame.map instead.\n",
      "DataFrame.applymap has been deprecated. Use DataFrame.map instead.\n",
      "DataFrame.applymap has been deprecated. Use DataFrame.map instead.\n",
      "DataFrame.applymap has been deprecated. Use DataFrame.map instead.\n"
     ]
    }
   ],
   "execution_count": 43
  },
  {
   "cell_type": "code",
   "source": [
    "x_columns = data.columns.tolist()\n",
    "x_columns.remove('income')\n",
    "\n",
    "mc.populate_xai(X_test, x_columns, model, 10)"
   ],
   "metadata": {
    "collapsed": false,
    "pycharm": {
     "name": "#%%\n"
    },
    "ExecuteTime": {
     "end_time": "2024-05-06T18:04:15.008487Z",
     "start_time": "2024-05-06T18:00:13.738612Z"
    }
   },
   "outputs": [
    {
     "name": "stderr",
     "output_type": "stream",
     "text": [
      "PermutationExplainer explainer: 6514it [04:01, 26.05it/s]                                                                                                                                                                                                                                                                                                                                               \n"
     ]
    }
   ],
   "execution_count": 44
  },
  {
   "cell_type": "code",
   "source": [
    "print(mc.bias_analysis)"
   ],
   "metadata": {
    "collapsed": false,
    "pycharm": {
     "name": "#%%\n"
    },
    "ExecuteTime": {
     "end_time": "2024-05-06T18:04:35.106086Z",
     "start_time": "2024-05-06T18:04:35.103235Z"
    }
   },
   "outputs": [
    {
     "name": "stdout",
     "output_type": "stream",
     "text": [
      "{'demographic_parity_diff': 0.04268373096686717, 'equal_odds_difference': 0.04169312983955298}\n"
     ]
    }
   ],
   "execution_count": 45
  },
  {
   "cell_type": "code",
   "source": [
    "print(mc.xai_analysis)"
   ],
   "metadata": {
    "collapsed": false,
    "pycharm": {
     "name": "#%%\n"
    },
    "ExecuteTime": {
     "end_time": "2024-05-06T18:04:37.706618Z",
     "start_time": "2024-05-06T18:04:37.703786Z"
    }
   },
   "outputs": [
    {
     "name": "stdout",
     "output_type": "stream",
     "text": [
      "{'capital-gain': 0.04943593070968624, 'fnlwgt': 0.007977424863480671, 'capital-loss': 0.0016644893624441271, 'age': 2.839242701838145e-05, 'martial-status_ Married-civ-spouse': 1.6070720708102193e-05, 'relationship_ Not-in-family': 1.3571421730930955e-05, 'martial-status_ Never-married': 1.1598601625075779e-05, 'education-num': 1.0616391369266047e-05, 'hours-per-week': 9.01362025913249e-06, 'occupation_ Exec-managerial': 8.548350777930122e-06}\n"
     ]
    }
   ],
   "execution_count": 46
  },
  {
   "cell_type": "code",
   "source": [
    "print(mc)"
   ],
   "metadata": {
    "collapsed": false,
    "pycharm": {
     "name": "#%%\n"
    },
    "ExecuteTime": {
     "end_time": "2024-05-06T18:06:20.930388Z",
     "start_time": "2024-05-06T18:06:20.925777Z"
    }
   },
   "outputs": [
    {
     "name": "stdout",
     "output_type": "stream",
     "text": [
      "{\n",
      "    \"name\": \"UCI Adult Data Analysis model using Tensorflow\",\n",
      "    \"version\": \"0.1\",\n",
      "    \"short_description\": \"UCI Adult Data analysis using Tensorflow for demonstration of Patra Model Cards.\",\n",
      "    \"full_description\": \"We have trained a ML model using the tensorflow framework to predict income for the UCI Adult Dataset. We leverage this data to run the Patra model cards to capture metadata about the model as well as fairness and explainability metrics.\",\n",
      "    \"keywords\": \"uci adult, tensorflow, explainability, fairness, patra\",\n",
      "    \"author\": \"Sachith Withana\",\n",
      "    \"input_type\": \"Tabular\",\n",
      "    \"category\": \"Classification\",\n",
      "    \"input_data\": \"https://archive.ics.uci.edu/dataset/2/adult\",\n",
      "    \"output_data\": \"https://github.iu.edu/d2i/dockerhub/tensorflow/adult_modelv01\",\n",
      "    \"ai_model\": {\n",
      "        \"name\": \"Income prediction tensorflow model\",\n",
      "        \"version\": \"0.1\",\n",
      "        \"description\": \"Census classification problem using Tensorflow Neural Network using the UCI Adult Dataset\",\n",
      "        \"owner\": \"Sachith Withana\",\n",
      "        \"location\": \"https://github.iu.edu/d2i/uci_adult/tensorflow_model\",\n",
      "        \"license\": \"BSD-3 Clause\",\n",
      "        \"framework\": \"tensorflow\",\n",
      "        \"model_type\": \"dnn\",\n",
      "        \"test_accuracy\": 0.7980961203575134,\n",
      "        \"foundational_model\": \"None\",\n",
      "        \"model_structure\": {\n",
      "            \"class_name\": \"Sequential\",\n",
      "            \"config\": {\n",
      "                \"name\": \"sequential_2\",\n",
      "                \"layers\": [\n",
      "                    {\n",
      "                        \"module\": \"keras.layers\",\n",
      "                        \"class_name\": \"InputLayer\",\n",
      "                        \"config\": {\n",
      "                            \"batch_input_shape\": [\n",
      "                                100\n",
      "                            ],\n",
      "                            \"dtype\": \"float32\",\n",
      "                            \"name\": \"input_3\"\n",
      "                        }\n",
      "                    },\n",
      "                    {\n",
      "                        \"module\": \"keras.layers\",\n",
      "                        \"class_name\": \"Dense\",\n",
      "                        \"config\": {\n",
      "                            \"name\": \"dense_7\",\n",
      "                            \"trainable\": true,\n",
      "                            \"dtype\": \"float32\",\n",
      "                            \"units\": 64,\n",
      "                            \"activation\": \"relu\",\n",
      "                            \"use_bias\": true,\n",
      "                            \"kernel_initializer\": {\n",
      "                                \"module\": \"keras.initializers\",\n",
      "                                \"class_name\": \"GlorotUniform\"\n",
      "                            },\n",
      "                            \"bias_initializer\": {\n",
      "                                \"module\": \"keras.initializers\",\n",
      "                                \"class_name\": \"Zeros\"\n",
      "                            }\n",
      "                        },\n",
      "                        \"build_config\": {\n",
      "                            \"input_shape\": [\n",
      "                                100\n",
      "                            ]\n",
      "                        }\n",
      "                    },\n",
      "                    {\n",
      "                        \"module\": \"keras.layers\",\n",
      "                        \"class_name\": \"Dense\",\n",
      "                        \"config\": {\n",
      "                            \"name\": \"dense_8\",\n",
      "                            \"trainable\": true,\n",
      "                            \"dtype\": \"float32\",\n",
      "                            \"units\": 128,\n",
      "                            \"activation\": \"relu\",\n",
      "                            \"use_bias\": true,\n",
      "                            \"kernel_initializer\": {\n",
      "                                \"module\": \"keras.initializers\",\n",
      "                                \"class_name\": \"GlorotUniform\"\n",
      "                            },\n",
      "                            \"bias_initializer\": {\n",
      "                                \"module\": \"keras.initializers\",\n",
      "                                \"class_name\": \"Zeros\"\n",
      "                            }\n",
      "                        },\n",
      "                        \"build_config\": {\n",
      "                            \"input_shape\": [\n",
      "                                64\n",
      "                            ]\n",
      "                        }\n",
      "                    },\n",
      "                    {\n",
      "                        \"module\": \"keras.layers\",\n",
      "                        \"class_name\": \"Dense\",\n",
      "                        \"config\": {\n",
      "                            \"name\": \"dense_9\",\n",
      "                            \"trainable\": true,\n",
      "                            \"dtype\": \"float32\",\n",
      "                            \"units\": 64,\n",
      "                            \"activation\": \"relu\",\n",
      "                            \"use_bias\": true,\n",
      "                            \"kernel_initializer\": {\n",
      "                                \"module\": \"keras.initializers\",\n",
      "                                \"class_name\": \"GlorotUniform\"\n",
      "                            },\n",
      "                            \"bias_initializer\": {\n",
      "                                \"module\": \"keras.initializers\",\n",
      "                                \"class_name\": \"Zeros\"\n",
      "                            }\n",
      "                        },\n",
      "                        \"build_config\": {\n",
      "                            \"input_shape\": [\n",
      "                                128\n",
      "                            ]\n",
      "                        }\n",
      "                    },\n",
      "                    {\n",
      "                        \"module\": \"keras.layers\",\n",
      "                        \"class_name\": \"Dense\",\n",
      "                        \"config\": {\n",
      "                            \"name\": \"dense_10\",\n",
      "                            \"trainable\": true,\n",
      "                            \"dtype\": \"float32\",\n",
      "                            \"units\": 1,\n",
      "                            \"activation\": \"sigmoid\",\n",
      "                            \"use_bias\": true,\n",
      "                            \"kernel_initializer\": {\n",
      "                                \"module\": \"keras.initializers\",\n",
      "                                \"class_name\": \"GlorotUniform\"\n",
      "                            },\n",
      "                            \"bias_initializer\": {\n",
      "                                \"module\": \"keras.initializers\",\n",
      "                                \"class_name\": \"Zeros\"\n",
      "                            }\n",
      "                        },\n",
      "                        \"build_config\": {\n",
      "                            \"input_shape\": [\n",
      "                                64\n",
      "                            ]\n",
      "                        }\n",
      "                    }\n",
      "                ]\n",
      "            },\n",
      "            \"keras_version\": \"2.15.0\",\n",
      "            \"backend\": \"tensorflow\"\n",
      "        },\n",
      "        \"metrics\": [\n",
      "            {\n",
      "                \"key\": \"Test loss\",\n",
      "                \"value\": 0.49563485383987427\n",
      "            },\n",
      "            {\n",
      "                \"key\": \"Epochs\",\n",
      "                \"value\": 100\n",
      "            },\n",
      "            {\n",
      "                \"key\": \"Batch Size\",\n",
      "                \"value\": 32\n",
      "            },\n",
      "            {\n",
      "                \"key\": \"Optimizer\",\n",
      "                \"value\": \"Adam\"\n",
      "            },\n",
      "            {\n",
      "                \"key\": \"Learning Rate\",\n",
      "                \"value\": 0.0001\n",
      "            },\n",
      "            {\n",
      "                \"key\": \"Input Shape\",\n",
      "                \"value\": \"(26048, 100)\"\n",
      "            }\n",
      "        ]\n",
      "    },\n",
      "    \"bias_analysis\": {\n",
      "        \"demographic_parity_diff\": 0.04268373096686717,\n",
      "        \"equal_odds_difference\": 0.04169312983955298\n",
      "    },\n",
      "    \"xai_analysis\": {\n",
      "        \"capital-gain\": 0.04943593070968624,\n",
      "        \"fnlwgt\": 0.007977424863480671,\n",
      "        \"capital-loss\": 0.0016644893624441271,\n",
      "        \"age\": 2.839242701838145e-05,\n",
      "        \"martial-status_ Married-civ-spouse\": 1.6070720708102193e-05,\n",
      "        \"relationship_ Not-in-family\": 1.3571421730930955e-05,\n",
      "        \"martial-status_ Never-married\": 1.1598601625075779e-05,\n",
      "        \"education-num\": 1.0616391369266047e-05,\n",
      "        \"hours-per-week\": 9.01362025913249e-06,\n",
      "        \"occupation_ Exec-managerial\": 8.548350777930122e-06\n",
      "    }\n",
      "}\n"
     ]
    }
   ],
   "execution_count": 47
  },
  {
   "cell_type": "code",
   "source": [
    "save_mc(mc, \"/Users/swithana/git/icicle_model_card/examples/model_cards/tesorflow_adult_nn_MC.json\")"
   ],
   "metadata": {
    "collapsed": false,
    "pycharm": {
     "name": "#%%\n"
    },
    "ExecuteTime": {
     "end_time": "2024-05-06T18:06:37.839861Z",
     "start_time": "2024-05-06T18:06:37.834627Z"
    }
   },
   "outputs": [],
   "execution_count": 48
  },
  {
   "cell_type": "code",
   "execution_count": null,
   "outputs": [],
   "source": [],
   "metadata": {
    "collapsed": false,
    "pycharm": {
     "name": "#%%\n"
    }
   }
  }
 ],
 "metadata": {
  "kernelspec": {
   "display_name": "Python 3",
   "language": "python",
   "name": "python3"
  },
  "language_info": {
   "codemirror_mode": {
    "name": "ipython",
    "version": 2
   },
   "file_extension": ".py",
   "mimetype": "text/x-python",
   "name": "python",
   "nbconvert_exporter": "python",
   "pygments_lexer": "ipython2",
   "version": "2.7.6"
  }
 },
 "nbformat": 4,
 "nbformat_minor": 0
}

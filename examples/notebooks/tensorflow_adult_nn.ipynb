{
 "cells": [
  {
   "cell_type": "code",
   "execution_count": 1,
   "outputs": [
    {
     "name": "stderr",
     "output_type": "stream",
     "text": [
      "/Users/swithana/git/jupyter/venv/lib/python3.9/site-packages/urllib3/__init__.py:34: NotOpenSSLWarning: urllib3 v2.0 only supports OpenSSL 1.1.1+, currently the 'ssl' module is compiled with 'LibreSSL 2.8.3'. See: https://github.com/urllib3/urllib3/issues/3020\n",
      "  warnings.warn(\n"
     ]
    }
   ],
   "source": [
    "import numpy as np\n",
    "import pandas as pd\n",
    "import tensorflow as tf\n",
    "from sklearn.model_selection import train_test_split\n",
    "from sklearn.preprocessing import StandardScaler, LabelEncoder"
   ],
   "metadata": {
    "collapsed": false,
    "pycharm": {
     "name": "#%%\n"
    }
   }
  },
  {
   "cell_type": "code",
   "execution_count": 2,
   "outputs": [],
   "source": [
    "columns = [\"age\", \"workclass\", \"fnlwgt\", \"education\", \"education-num\", \"martial-status\",\n",
    "        \"occupation\", \"relationship\", \"race\", \"sex\", \"capital-gain\", \"capital-loss\",\n",
    "        \"hours-per-week\", \"native-country\", \"income\"]\n",
    "data = pd.read_csv('/Users/swithana/git/icicle_model_card/examples/notebooks/data/adult/adult.data', names=columns)"
   ],
   "metadata": {
    "collapsed": false,
    "pycharm": {
     "name": "#%%\n"
    }
   }
  },
  {
   "cell_type": "code",
   "execution_count": 3,
   "outputs": [
    {
     "data": {
      "text/plain": "   age          workclass  fnlwgt   education  education-num  \\\n0   39          State-gov   77516   Bachelors             13   \n1   50   Self-emp-not-inc   83311   Bachelors             13   \n2   38            Private  215646     HS-grad              9   \n3   53            Private  234721        11th              7   \n4   28            Private  338409   Bachelors             13   \n\n        martial-status          occupation    relationship    race      sex  \\\n0        Never-married        Adm-clerical   Not-in-family   White     Male   \n1   Married-civ-spouse     Exec-managerial         Husband   White     Male   \n2             Divorced   Handlers-cleaners   Not-in-family   White     Male   \n3   Married-civ-spouse   Handlers-cleaners         Husband   Black     Male   \n4   Married-civ-spouse      Prof-specialty            Wife   Black   Female   \n\n   capital-gain  capital-loss  hours-per-week  native-country  income  \n0          2174             0              40   United-States   <=50K  \n1             0             0              13   United-States   <=50K  \n2             0             0              40   United-States   <=50K  \n3             0             0              40   United-States   <=50K  \n4             0             0              40            Cuba   <=50K  ",
      "text/html": "<div>\n<style scoped>\n    .dataframe tbody tr th:only-of-type {\n        vertical-align: middle;\n    }\n\n    .dataframe tbody tr th {\n        vertical-align: top;\n    }\n\n    .dataframe thead th {\n        text-align: right;\n    }\n</style>\n<table border=\"1\" class=\"dataframe\">\n  <thead>\n    <tr style=\"text-align: right;\">\n      <th></th>\n      <th>age</th>\n      <th>workclass</th>\n      <th>fnlwgt</th>\n      <th>education</th>\n      <th>education-num</th>\n      <th>martial-status</th>\n      <th>occupation</th>\n      <th>relationship</th>\n      <th>race</th>\n      <th>sex</th>\n      <th>capital-gain</th>\n      <th>capital-loss</th>\n      <th>hours-per-week</th>\n      <th>native-country</th>\n      <th>income</th>\n    </tr>\n  </thead>\n  <tbody>\n    <tr>\n      <th>0</th>\n      <td>39</td>\n      <td>State-gov</td>\n      <td>77516</td>\n      <td>Bachelors</td>\n      <td>13</td>\n      <td>Never-married</td>\n      <td>Adm-clerical</td>\n      <td>Not-in-family</td>\n      <td>White</td>\n      <td>Male</td>\n      <td>2174</td>\n      <td>0</td>\n      <td>40</td>\n      <td>United-States</td>\n      <td>&lt;=50K</td>\n    </tr>\n    <tr>\n      <th>1</th>\n      <td>50</td>\n      <td>Self-emp-not-inc</td>\n      <td>83311</td>\n      <td>Bachelors</td>\n      <td>13</td>\n      <td>Married-civ-spouse</td>\n      <td>Exec-managerial</td>\n      <td>Husband</td>\n      <td>White</td>\n      <td>Male</td>\n      <td>0</td>\n      <td>0</td>\n      <td>13</td>\n      <td>United-States</td>\n      <td>&lt;=50K</td>\n    </tr>\n    <tr>\n      <th>2</th>\n      <td>38</td>\n      <td>Private</td>\n      <td>215646</td>\n      <td>HS-grad</td>\n      <td>9</td>\n      <td>Divorced</td>\n      <td>Handlers-cleaners</td>\n      <td>Not-in-family</td>\n      <td>White</td>\n      <td>Male</td>\n      <td>0</td>\n      <td>0</td>\n      <td>40</td>\n      <td>United-States</td>\n      <td>&lt;=50K</td>\n    </tr>\n    <tr>\n      <th>3</th>\n      <td>53</td>\n      <td>Private</td>\n      <td>234721</td>\n      <td>11th</td>\n      <td>7</td>\n      <td>Married-civ-spouse</td>\n      <td>Handlers-cleaners</td>\n      <td>Husband</td>\n      <td>Black</td>\n      <td>Male</td>\n      <td>0</td>\n      <td>0</td>\n      <td>40</td>\n      <td>United-States</td>\n      <td>&lt;=50K</td>\n    </tr>\n    <tr>\n      <th>4</th>\n      <td>28</td>\n      <td>Private</td>\n      <td>338409</td>\n      <td>Bachelors</td>\n      <td>13</td>\n      <td>Married-civ-spouse</td>\n      <td>Prof-specialty</td>\n      <td>Wife</td>\n      <td>Black</td>\n      <td>Female</td>\n      <td>0</td>\n      <td>0</td>\n      <td>40</td>\n      <td>Cuba</td>\n      <td>&lt;=50K</td>\n    </tr>\n  </tbody>\n</table>\n</div>"
     },
     "execution_count": 3,
     "metadata": {},
     "output_type": "execute_result"
    }
   ],
   "source": [
    "data.head()"
   ],
   "metadata": {
    "collapsed": false,
    "pycharm": {
     "name": "#%%\n"
    }
   }
  },
  {
   "cell_type": "markdown",
   "source": [
    "### Pre-processing"
   ],
   "metadata": {
    "collapsed": false,
    "pycharm": {
     "name": "#%% md\n"
    }
   }
  },
  {
   "cell_type": "code",
   "execution_count": 4,
   "outputs": [
    {
     "data": {
      "text/plain": "   age  fnlwgt  education-num  capital-gain  capital-loss  hours-per-week  \\\n0   39   77516             13          2174             0              40   \n1   50   83311             13             0             0              13   \n2   38  215646              9             0             0              40   \n3   53  234721              7             0             0              40   \n4   28  338409             13             0             0              40   \n\n   income  workclass_ Federal-gov  workclass_ Local-gov  \\\n0       0                     0.0                   0.0   \n1       0                     0.0                   0.0   \n2       0                     0.0                   0.0   \n3       0                     0.0                   0.0   \n4       0                     0.0                   0.0   \n\n   workclass_ Never-worked  ...  native-country_ Portugal  \\\n0                      0.0  ...                       0.0   \n1                      0.0  ...                       0.0   \n2                      0.0  ...                       0.0   \n3                      0.0  ...                       0.0   \n4                      0.0  ...                       0.0   \n\n   native-country_ Puerto-Rico  native-country_ Scotland  \\\n0                          0.0                       0.0   \n1                          0.0                       0.0   \n2                          0.0                       0.0   \n3                          0.0                       0.0   \n4                          0.0                       0.0   \n\n   native-country_ South  native-country_ Taiwan  native-country_ Thailand  \\\n0                    0.0                     0.0                       0.0   \n1                    0.0                     0.0                       0.0   \n2                    0.0                     0.0                       0.0   \n3                    0.0                     0.0                       0.0   \n4                    0.0                     0.0                       0.0   \n\n   native-country_ Trinadad&Tobago  native-country_ United-States  \\\n0                              0.0                            1.0   \n1                              0.0                            1.0   \n2                              0.0                            1.0   \n3                              0.0                            1.0   \n4                              0.0                            0.0   \n\n   native-country_ Vietnam  native-country_ Yugoslavia  \n0                      0.0                         0.0  \n1                      0.0                         0.0  \n2                      0.0                         0.0  \n3                      0.0                         0.0  \n4                      0.0                         0.0  \n\n[5 rows x 101 columns]",
      "text/html": "<div>\n<style scoped>\n    .dataframe tbody tr th:only-of-type {\n        vertical-align: middle;\n    }\n\n    .dataframe tbody tr th {\n        vertical-align: top;\n    }\n\n    .dataframe thead th {\n        text-align: right;\n    }\n</style>\n<table border=\"1\" class=\"dataframe\">\n  <thead>\n    <tr style=\"text-align: right;\">\n      <th></th>\n      <th>age</th>\n      <th>fnlwgt</th>\n      <th>education-num</th>\n      <th>capital-gain</th>\n      <th>capital-loss</th>\n      <th>hours-per-week</th>\n      <th>income</th>\n      <th>workclass_ Federal-gov</th>\n      <th>workclass_ Local-gov</th>\n      <th>workclass_ Never-worked</th>\n      <th>...</th>\n      <th>native-country_ Portugal</th>\n      <th>native-country_ Puerto-Rico</th>\n      <th>native-country_ Scotland</th>\n      <th>native-country_ South</th>\n      <th>native-country_ Taiwan</th>\n      <th>native-country_ Thailand</th>\n      <th>native-country_ Trinadad&amp;Tobago</th>\n      <th>native-country_ United-States</th>\n      <th>native-country_ Vietnam</th>\n      <th>native-country_ Yugoslavia</th>\n    </tr>\n  </thead>\n  <tbody>\n    <tr>\n      <th>0</th>\n      <td>39</td>\n      <td>77516</td>\n      <td>13</td>\n      <td>2174</td>\n      <td>0</td>\n      <td>40</td>\n      <td>0</td>\n      <td>0.0</td>\n      <td>0.0</td>\n      <td>0.0</td>\n      <td>...</td>\n      <td>0.0</td>\n      <td>0.0</td>\n      <td>0.0</td>\n      <td>0.0</td>\n      <td>0.0</td>\n      <td>0.0</td>\n      <td>0.0</td>\n      <td>1.0</td>\n      <td>0.0</td>\n      <td>0.0</td>\n    </tr>\n    <tr>\n      <th>1</th>\n      <td>50</td>\n      <td>83311</td>\n      <td>13</td>\n      <td>0</td>\n      <td>0</td>\n      <td>13</td>\n      <td>0</td>\n      <td>0.0</td>\n      <td>0.0</td>\n      <td>0.0</td>\n      <td>...</td>\n      <td>0.0</td>\n      <td>0.0</td>\n      <td>0.0</td>\n      <td>0.0</td>\n      <td>0.0</td>\n      <td>0.0</td>\n      <td>0.0</td>\n      <td>1.0</td>\n      <td>0.0</td>\n      <td>0.0</td>\n    </tr>\n    <tr>\n      <th>2</th>\n      <td>38</td>\n      <td>215646</td>\n      <td>9</td>\n      <td>0</td>\n      <td>0</td>\n      <td>40</td>\n      <td>0</td>\n      <td>0.0</td>\n      <td>0.0</td>\n      <td>0.0</td>\n      <td>...</td>\n      <td>0.0</td>\n      <td>0.0</td>\n      <td>0.0</td>\n      <td>0.0</td>\n      <td>0.0</td>\n      <td>0.0</td>\n      <td>0.0</td>\n      <td>1.0</td>\n      <td>0.0</td>\n      <td>0.0</td>\n    </tr>\n    <tr>\n      <th>3</th>\n      <td>53</td>\n      <td>234721</td>\n      <td>7</td>\n      <td>0</td>\n      <td>0</td>\n      <td>40</td>\n      <td>0</td>\n      <td>0.0</td>\n      <td>0.0</td>\n      <td>0.0</td>\n      <td>...</td>\n      <td>0.0</td>\n      <td>0.0</td>\n      <td>0.0</td>\n      <td>0.0</td>\n      <td>0.0</td>\n      <td>0.0</td>\n      <td>0.0</td>\n      <td>1.0</td>\n      <td>0.0</td>\n      <td>0.0</td>\n    </tr>\n    <tr>\n      <th>4</th>\n      <td>28</td>\n      <td>338409</td>\n      <td>13</td>\n      <td>0</td>\n      <td>0</td>\n      <td>40</td>\n      <td>0</td>\n      <td>0.0</td>\n      <td>0.0</td>\n      <td>0.0</td>\n      <td>...</td>\n      <td>0.0</td>\n      <td>0.0</td>\n      <td>0.0</td>\n      <td>0.0</td>\n      <td>0.0</td>\n      <td>0.0</td>\n      <td>0.0</td>\n      <td>0.0</td>\n      <td>0.0</td>\n      <td>0.0</td>\n    </tr>\n  </tbody>\n</table>\n<p>5 rows × 101 columns</p>\n</div>"
     },
     "execution_count": 4,
     "metadata": {},
     "output_type": "execute_result"
    }
   ],
   "source": [
    "label_encoder = LabelEncoder()\n",
    "data['income'] = label_encoder.fit_transform(data['income'])\n",
    "\n",
    "# Convert categorical variables to one-hot encoding\n",
    "data = pd.get_dummies(data, drop_first=True, dtype=float)\n",
    "\n",
    "data.head()"
   ],
   "metadata": {
    "collapsed": false,
    "pycharm": {
     "name": "#%%\n"
    }
   }
  },
  {
   "cell_type": "code",
   "execution_count": 5,
   "outputs": [
    {
     "name": "stdout",
     "output_type": "stream",
     "text": [
      "['age', 'fnlwgt', 'education-num', 'capital-gain', 'capital-loss', 'hours-per-week', 'income', 'workclass_ Federal-gov', 'workclass_ Local-gov', 'workclass_ Never-worked', 'workclass_ Private', 'workclass_ Self-emp-inc', 'workclass_ Self-emp-not-inc', 'workclass_ State-gov', 'workclass_ Without-pay', 'education_ 11th', 'education_ 12th', 'education_ 1st-4th', 'education_ 5th-6th', 'education_ 7th-8th', 'education_ 9th', 'education_ Assoc-acdm', 'education_ Assoc-voc', 'education_ Bachelors', 'education_ Doctorate', 'education_ HS-grad', 'education_ Masters', 'education_ Preschool', 'education_ Prof-school', 'education_ Some-college', 'martial-status_ Married-AF-spouse', 'martial-status_ Married-civ-spouse', 'martial-status_ Married-spouse-absent', 'martial-status_ Never-married', 'martial-status_ Separated', 'martial-status_ Widowed', 'occupation_ Adm-clerical', 'occupation_ Armed-Forces', 'occupation_ Craft-repair', 'occupation_ Exec-managerial', 'occupation_ Farming-fishing', 'occupation_ Handlers-cleaners', 'occupation_ Machine-op-inspct', 'occupation_ Other-service', 'occupation_ Priv-house-serv', 'occupation_ Prof-specialty', 'occupation_ Protective-serv', 'occupation_ Sales', 'occupation_ Tech-support', 'occupation_ Transport-moving', 'relationship_ Not-in-family', 'relationship_ Other-relative', 'relationship_ Own-child', 'relationship_ Unmarried', 'relationship_ Wife', 'race_ Asian-Pac-Islander', 'race_ Black', 'race_ Other', 'race_ White', 'sex_ Male', 'native-country_ Cambodia', 'native-country_ Canada', 'native-country_ China', 'native-country_ Columbia', 'native-country_ Cuba', 'native-country_ Dominican-Republic', 'native-country_ Ecuador', 'native-country_ El-Salvador', 'native-country_ England', 'native-country_ France', 'native-country_ Germany', 'native-country_ Greece', 'native-country_ Guatemala', 'native-country_ Haiti', 'native-country_ Holand-Netherlands', 'native-country_ Honduras', 'native-country_ Hong', 'native-country_ Hungary', 'native-country_ India', 'native-country_ Iran', 'native-country_ Ireland', 'native-country_ Italy', 'native-country_ Jamaica', 'native-country_ Japan', 'native-country_ Laos', 'native-country_ Mexico', 'native-country_ Nicaragua', 'native-country_ Outlying-US(Guam-USVI-etc)', 'native-country_ Peru', 'native-country_ Philippines', 'native-country_ Poland', 'native-country_ Portugal', 'native-country_ Puerto-Rico', 'native-country_ Scotland', 'native-country_ South', 'native-country_ Taiwan', 'native-country_ Thailand', 'native-country_ Trinadad&Tobago', 'native-country_ United-States', 'native-country_ Vietnam', 'native-country_ Yugoslavia']\n"
     ]
    }
   ],
   "source": [
    "X = data.drop('income', axis=1).values\n",
    "y = data['income'].values\n",
    "\n",
    "print(data.columns.tolist())"
   ],
   "metadata": {
    "collapsed": false,
    "pycharm": {
     "name": "#%%\n"
    }
   }
  },
  {
   "cell_type": "code",
   "execution_count": 6,
   "outputs": [],
   "source": [
    "X_train, X_test, y_train, y_test = train_test_split(X, y, test_size=0.2, random_state=42)"
   ],
   "metadata": {
    "collapsed": false,
    "pycharm": {
     "name": "#%%\n"
    }
   }
  },
  {
   "cell_type": "markdown",
   "source": [
    "### Model Training"
   ],
   "metadata": {
    "collapsed": false,
    "pycharm": {
     "name": "#%% md\n"
    }
   }
  },
  {
   "cell_type": "code",
   "execution_count": 7,
   "outputs": [],
   "source": [
    "model = tf.keras.Sequential([\n",
    "    tf.keras.layers.Input(shape=(X_train.shape[1],)),\n",
    "    tf.keras.layers.Dense(64, activation='relu'),\n",
    "    tf.keras.layers.Dense(32, activation='relu'),\n",
    "    tf.keras.layers.Dense(1, activation='sigmoid')\n",
    "])\n",
    "\n",
    "model.compile(optimizer='adam', loss='binary_crossentropy', metrics=['accuracy'])"
   ],
   "metadata": {
    "collapsed": false,
    "pycharm": {
     "name": "#%%\n"
    }
   }
  },
  {
   "cell_type": "code",
   "execution_count": 8,
   "outputs": [
    {
     "name": "stdout",
     "output_type": "stream",
     "text": [
      "Epoch 1/100\n",
      "702/733 [===========================>..] - ETA: 0s - loss: 235.1077 - accuracy: 0.6767"
     ]
    },
    {
     "name": "stderr",
     "output_type": "stream",
     "text": [
      "2023-11-13 14:17:00.689808: W tensorflow/core/framework/op_kernel.cc:1839] OP_REQUIRES failed at resource_variable_ops.cc:597 : INVALID_ARGUMENT: Cannot update variable with shape [] using a Tensor with shape [0], shapes must be equal.\n"
     ]
    },
    {
     "ename": "InvalidArgumentError",
     "evalue": "Graph execution error:\n\nDetected at node AssignAddVariableOp defined at (most recent call last):\n  File \"/Library/Developer/CommandLineTools/Library/Frameworks/Python3.framework/Versions/3.9/lib/python3.9/runpy.py\", line 197, in _run_module_as_main\n\n  File \"/Library/Developer/CommandLineTools/Library/Frameworks/Python3.framework/Versions/3.9/lib/python3.9/runpy.py\", line 87, in _run_code\n\n  File \"/Users/swithana/git/jupyter/venv/lib/python3.9/site-packages/ipykernel_launcher.py\", line 17, in <module>\n\n  File \"/Users/swithana/git/jupyter/venv/lib/python3.9/site-packages/traitlets/config/application.py\", line 1053, in launch_instance\n\n  File \"/Users/swithana/git/jupyter/venv/lib/python3.9/site-packages/ipykernel/kernelapp.py\", line 736, in start\n\n  File \"/Users/swithana/git/jupyter/venv/lib/python3.9/site-packages/tornado/platform/asyncio.py\", line 195, in start\n\n  File \"/Library/Developer/CommandLineTools/Library/Frameworks/Python3.framework/Versions/3.9/lib/python3.9/asyncio/base_events.py\", line 596, in run_forever\n\n  File \"/Library/Developer/CommandLineTools/Library/Frameworks/Python3.framework/Versions/3.9/lib/python3.9/asyncio/base_events.py\", line 1890, in _run_once\n\n  File \"/Library/Developer/CommandLineTools/Library/Frameworks/Python3.framework/Versions/3.9/lib/python3.9/asyncio/events.py\", line 80, in _run\n\n  File \"/Users/swithana/git/jupyter/venv/lib/python3.9/site-packages/ipykernel/kernelbase.py\", line 516, in dispatch_queue\n\n  File \"/Users/swithana/git/jupyter/venv/lib/python3.9/site-packages/ipykernel/kernelbase.py\", line 505, in process_one\n\n  File \"/Users/swithana/git/jupyter/venv/lib/python3.9/site-packages/ipykernel/kernelbase.py\", line 412, in dispatch_shell\n\n  File \"/Users/swithana/git/jupyter/venv/lib/python3.9/site-packages/ipykernel/kernelbase.py\", line 740, in execute_request\n\n  File \"/Users/swithana/git/jupyter/venv/lib/python3.9/site-packages/ipykernel/ipkernel.py\", line 422, in do_execute\n\n  File \"/Users/swithana/git/jupyter/venv/lib/python3.9/site-packages/ipykernel/zmqshell.py\", line 546, in run_cell\n\n  File \"/Users/swithana/git/jupyter/venv/lib/python3.9/site-packages/IPython/core/interactiveshell.py\", line 3024, in run_cell\n\n  File \"/Users/swithana/git/jupyter/venv/lib/python3.9/site-packages/IPython/core/interactiveshell.py\", line 3079, in _run_cell\n\n  File \"/Users/swithana/git/jupyter/venv/lib/python3.9/site-packages/IPython/core/async_helpers.py\", line 129, in _pseudo_sync_runner\n\n  File \"/Users/swithana/git/jupyter/venv/lib/python3.9/site-packages/IPython/core/interactiveshell.py\", line 3284, in run_cell_async\n\n  File \"/Users/swithana/git/jupyter/venv/lib/python3.9/site-packages/IPython/core/interactiveshell.py\", line 3466, in run_ast_nodes\n\n  File \"/Users/swithana/git/jupyter/venv/lib/python3.9/site-packages/IPython/core/interactiveshell.py\", line 3526, in run_code\n\n  File \"/var/folders/sc/3v43m24x06s6fj2wlt00hywc0000gn/T/ipykernel_15774/1606278412.py\", line 3, in <module>\n\n  File \"/Users/swithana/git/jupyter/venv/lib/python3.9/site-packages/keras/src/utils/traceback_utils.py\", line 65, in error_handler\n\n  File \"/Users/swithana/git/jupyter/venv/lib/python3.9/site-packages/keras/src/engine/training.py\", line 1832, in fit\n\n  File \"/Users/swithana/git/jupyter/venv/lib/python3.9/site-packages/keras/src/utils/traceback_utils.py\", line 65, in error_handler\n\n  File \"/Users/swithana/git/jupyter/venv/lib/python3.9/site-packages/keras/src/engine/training.py\", line 2272, in evaluate\n\n  File \"/Users/swithana/git/jupyter/venv/lib/python3.9/site-packages/keras/src/engine/training.py\", line 4079, in run_step\n\n  File \"/Users/swithana/git/jupyter/venv/lib/python3.9/site-packages/keras/src/engine/training.py\", line 2042, in test_function\n\n  File \"/Users/swithana/git/jupyter/venv/lib/python3.9/site-packages/keras/src/engine/training.py\", line 2025, in step_function\n\n  File \"/Users/swithana/git/jupyter/venv/lib/python3.9/site-packages/keras/src/engine/training.py\", line 2013, in run_step\n\n  File \"/Users/swithana/git/jupyter/venv/lib/python3.9/site-packages/keras/src/engine/training.py\", line 1895, in test_step\n\n  File \"/Users/swithana/git/jupyter/venv/lib/python3.9/site-packages/keras/src/engine/training.py\", line 1185, in compute_loss\n\n  File \"/Users/swithana/git/jupyter/venv/lib/python3.9/site-packages/keras/src/engine/compile_utils.py\", line 329, in __call__\n\n  File \"/Users/swithana/git/jupyter/venv/lib/python3.9/site-packages/keras/src/utils/metrics_utils.py\", line 77, in decorated\n\n  File \"/Users/swithana/git/jupyter/venv/lib/python3.9/site-packages/keras/src/metrics/base_metric.py\", line 140, in update_state_fn\n\n  File \"/Users/swithana/git/jupyter/venv/lib/python3.9/site-packages/keras/src/metrics/base_metric.py\", line 528, in update_state\n\nCannot update variable with shape [] using a Tensor with shape [0], shapes must be equal.\n\t [[{{node AssignAddVariableOp}}]] [Op:__inference_test_function_3903]",
     "output_type": "error",
     "traceback": [
      "\u001B[0;31m---------------------------------------------------------------------------\u001B[0m",
      "\u001B[0;31mInvalidArgumentError\u001B[0m                      Traceback (most recent call last)",
      "Cell \u001B[0;32mIn[8], line 3\u001B[0m\n\u001B[1;32m      1\u001B[0m early_stopping \u001B[38;5;241m=\u001B[39m tf\u001B[38;5;241m.\u001B[39mkeras\u001B[38;5;241m.\u001B[39mcallbacks\u001B[38;5;241m.\u001B[39mEarlyStopping(monitor\u001B[38;5;241m=\u001B[39m\u001B[38;5;124m'\u001B[39m\u001B[38;5;124mloss\u001B[39m\u001B[38;5;124m'\u001B[39m, patience\u001B[38;5;241m=\u001B[39m\u001B[38;5;241m3\u001B[39m)\n\u001B[0;32m----> 3\u001B[0m \u001B[43mmodel\u001B[49m\u001B[38;5;241;43m.\u001B[39;49m\u001B[43mfit\u001B[49m\u001B[43m(\u001B[49m\u001B[43mX_train\u001B[49m\u001B[43m,\u001B[49m\u001B[43m \u001B[49m\u001B[43my_train\u001B[49m\u001B[43m,\u001B[49m\u001B[43m \u001B[49m\u001B[43mepochs\u001B[49m\u001B[38;5;241;43m=\u001B[39;49m\u001B[38;5;241;43m100\u001B[39;49m\u001B[43m,\u001B[49m\u001B[43m \u001B[49m\u001B[43mbatch_size\u001B[49m\u001B[38;5;241;43m=\u001B[39;49m\u001B[38;5;241;43m32\u001B[39;49m\u001B[43m,\u001B[49m\u001B[43m \u001B[49m\u001B[43mvalidation_split\u001B[49m\u001B[38;5;241;43m=\u001B[39;49m\u001B[38;5;241;43m0.1\u001B[39;49m\u001B[43m,\u001B[49m\u001B[43m \u001B[49m\u001B[43mcallbacks\u001B[49m\u001B[38;5;241;43m=\u001B[39;49m\u001B[43m[\u001B[49m\u001B[43mearly_stopping\u001B[49m\u001B[43m]\u001B[49m\u001B[43m)\u001B[49m\n",
      "File \u001B[0;32m~/git/jupyter/venv/lib/python3.9/site-packages/keras/src/utils/traceback_utils.py:70\u001B[0m, in \u001B[0;36mfilter_traceback.<locals>.error_handler\u001B[0;34m(*args, **kwargs)\u001B[0m\n\u001B[1;32m     67\u001B[0m     filtered_tb \u001B[38;5;241m=\u001B[39m _process_traceback_frames(e\u001B[38;5;241m.\u001B[39m__traceback__)\n\u001B[1;32m     68\u001B[0m     \u001B[38;5;66;03m# To get the full stack trace, call:\u001B[39;00m\n\u001B[1;32m     69\u001B[0m     \u001B[38;5;66;03m# `tf.debugging.disable_traceback_filtering()`\u001B[39;00m\n\u001B[0;32m---> 70\u001B[0m     \u001B[38;5;28;01mraise\u001B[39;00m e\u001B[38;5;241m.\u001B[39mwith_traceback(filtered_tb) \u001B[38;5;28;01mfrom\u001B[39;00m \u001B[38;5;28;01mNone\u001B[39;00m\n\u001B[1;32m     71\u001B[0m \u001B[38;5;28;01mfinally\u001B[39;00m:\n\u001B[1;32m     72\u001B[0m     \u001B[38;5;28;01mdel\u001B[39;00m filtered_tb\n",
      "File \u001B[0;32m~/git/jupyter/venv/lib/python3.9/site-packages/tensorflow/python/eager/execute.py:60\u001B[0m, in \u001B[0;36mquick_execute\u001B[0;34m(op_name, num_outputs, inputs, attrs, ctx, name)\u001B[0m\n\u001B[1;32m     53\u001B[0m   \u001B[38;5;66;03m# Convert any objects of type core_types.Tensor to Tensor.\u001B[39;00m\n\u001B[1;32m     54\u001B[0m   inputs \u001B[38;5;241m=\u001B[39m [\n\u001B[1;32m     55\u001B[0m       tensor_conversion_registry\u001B[38;5;241m.\u001B[39mconvert(t)\n\u001B[1;32m     56\u001B[0m       \u001B[38;5;28;01mif\u001B[39;00m \u001B[38;5;28misinstance\u001B[39m(t, core_types\u001B[38;5;241m.\u001B[39mTensor)\n\u001B[1;32m     57\u001B[0m       \u001B[38;5;28;01melse\u001B[39;00m t\n\u001B[1;32m     58\u001B[0m       \u001B[38;5;28;01mfor\u001B[39;00m t \u001B[38;5;129;01min\u001B[39;00m inputs\n\u001B[1;32m     59\u001B[0m   ]\n\u001B[0;32m---> 60\u001B[0m   tensors \u001B[38;5;241m=\u001B[39m pywrap_tfe\u001B[38;5;241m.\u001B[39mTFE_Py_Execute(ctx\u001B[38;5;241m.\u001B[39m_handle, device_name, op_name,\n\u001B[1;32m     61\u001B[0m                                       inputs, attrs, num_outputs)\n\u001B[1;32m     62\u001B[0m \u001B[38;5;28;01mexcept\u001B[39;00m core\u001B[38;5;241m.\u001B[39m_NotOkStatusException \u001B[38;5;28;01mas\u001B[39;00m e:\n\u001B[1;32m     63\u001B[0m   \u001B[38;5;28;01mif\u001B[39;00m name \u001B[38;5;129;01mis\u001B[39;00m \u001B[38;5;129;01mnot\u001B[39;00m \u001B[38;5;28;01mNone\u001B[39;00m:\n",
      "\u001B[0;31mInvalidArgumentError\u001B[0m: Graph execution error:\n\nDetected at node AssignAddVariableOp defined at (most recent call last):\n  File \"/Library/Developer/CommandLineTools/Library/Frameworks/Python3.framework/Versions/3.9/lib/python3.9/runpy.py\", line 197, in _run_module_as_main\n\n  File \"/Library/Developer/CommandLineTools/Library/Frameworks/Python3.framework/Versions/3.9/lib/python3.9/runpy.py\", line 87, in _run_code\n\n  File \"/Users/swithana/git/jupyter/venv/lib/python3.9/site-packages/ipykernel_launcher.py\", line 17, in <module>\n\n  File \"/Users/swithana/git/jupyter/venv/lib/python3.9/site-packages/traitlets/config/application.py\", line 1053, in launch_instance\n\n  File \"/Users/swithana/git/jupyter/venv/lib/python3.9/site-packages/ipykernel/kernelapp.py\", line 736, in start\n\n  File \"/Users/swithana/git/jupyter/venv/lib/python3.9/site-packages/tornado/platform/asyncio.py\", line 195, in start\n\n  File \"/Library/Developer/CommandLineTools/Library/Frameworks/Python3.framework/Versions/3.9/lib/python3.9/asyncio/base_events.py\", line 596, in run_forever\n\n  File \"/Library/Developer/CommandLineTools/Library/Frameworks/Python3.framework/Versions/3.9/lib/python3.9/asyncio/base_events.py\", line 1890, in _run_once\n\n  File \"/Library/Developer/CommandLineTools/Library/Frameworks/Python3.framework/Versions/3.9/lib/python3.9/asyncio/events.py\", line 80, in _run\n\n  File \"/Users/swithana/git/jupyter/venv/lib/python3.9/site-packages/ipykernel/kernelbase.py\", line 516, in dispatch_queue\n\n  File \"/Users/swithana/git/jupyter/venv/lib/python3.9/site-packages/ipykernel/kernelbase.py\", line 505, in process_one\n\n  File \"/Users/swithana/git/jupyter/venv/lib/python3.9/site-packages/ipykernel/kernelbase.py\", line 412, in dispatch_shell\n\n  File \"/Users/swithana/git/jupyter/venv/lib/python3.9/site-packages/ipykernel/kernelbase.py\", line 740, in execute_request\n\n  File \"/Users/swithana/git/jupyter/venv/lib/python3.9/site-packages/ipykernel/ipkernel.py\", line 422, in do_execute\n\n  File \"/Users/swithana/git/jupyter/venv/lib/python3.9/site-packages/ipykernel/zmqshell.py\", line 546, in run_cell\n\n  File \"/Users/swithana/git/jupyter/venv/lib/python3.9/site-packages/IPython/core/interactiveshell.py\", line 3024, in run_cell\n\n  File \"/Users/swithana/git/jupyter/venv/lib/python3.9/site-packages/IPython/core/interactiveshell.py\", line 3079, in _run_cell\n\n  File \"/Users/swithana/git/jupyter/venv/lib/python3.9/site-packages/IPython/core/async_helpers.py\", line 129, in _pseudo_sync_runner\n\n  File \"/Users/swithana/git/jupyter/venv/lib/python3.9/site-packages/IPython/core/interactiveshell.py\", line 3284, in run_cell_async\n\n  File \"/Users/swithana/git/jupyter/venv/lib/python3.9/site-packages/IPython/core/interactiveshell.py\", line 3466, in run_ast_nodes\n\n  File \"/Users/swithana/git/jupyter/venv/lib/python3.9/site-packages/IPython/core/interactiveshell.py\", line 3526, in run_code\n\n  File \"/var/folders/sc/3v43m24x06s6fj2wlt00hywc0000gn/T/ipykernel_15774/1606278412.py\", line 3, in <module>\n\n  File \"/Users/swithana/git/jupyter/venv/lib/python3.9/site-packages/keras/src/utils/traceback_utils.py\", line 65, in error_handler\n\n  File \"/Users/swithana/git/jupyter/venv/lib/python3.9/site-packages/keras/src/engine/training.py\", line 1832, in fit\n\n  File \"/Users/swithana/git/jupyter/venv/lib/python3.9/site-packages/keras/src/utils/traceback_utils.py\", line 65, in error_handler\n\n  File \"/Users/swithana/git/jupyter/venv/lib/python3.9/site-packages/keras/src/engine/training.py\", line 2272, in evaluate\n\n  File \"/Users/swithana/git/jupyter/venv/lib/python3.9/site-packages/keras/src/engine/training.py\", line 4079, in run_step\n\n  File \"/Users/swithana/git/jupyter/venv/lib/python3.9/site-packages/keras/src/engine/training.py\", line 2042, in test_function\n\n  File \"/Users/swithana/git/jupyter/venv/lib/python3.9/site-packages/keras/src/engine/training.py\", line 2025, in step_function\n\n  File \"/Users/swithana/git/jupyter/venv/lib/python3.9/site-packages/keras/src/engine/training.py\", line 2013, in run_step\n\n  File \"/Users/swithana/git/jupyter/venv/lib/python3.9/site-packages/keras/src/engine/training.py\", line 1895, in test_step\n\n  File \"/Users/swithana/git/jupyter/venv/lib/python3.9/site-packages/keras/src/engine/training.py\", line 1185, in compute_loss\n\n  File \"/Users/swithana/git/jupyter/venv/lib/python3.9/site-packages/keras/src/engine/compile_utils.py\", line 329, in __call__\n\n  File \"/Users/swithana/git/jupyter/venv/lib/python3.9/site-packages/keras/src/utils/metrics_utils.py\", line 77, in decorated\n\n  File \"/Users/swithana/git/jupyter/venv/lib/python3.9/site-packages/keras/src/metrics/base_metric.py\", line 140, in update_state_fn\n\n  File \"/Users/swithana/git/jupyter/venv/lib/python3.9/site-packages/keras/src/metrics/base_metric.py\", line 528, in update_state\n\nCannot update variable with shape [] using a Tensor with shape [0], shapes must be equal.\n\t [[{{node AssignAddVariableOp}}]] [Op:__inference_test_function_3903]"
     ]
    }
   ],
   "source": [
    "early_stopping = tf.keras.callbacks.EarlyStopping(monitor='loss', patience=3)\n",
    "\n",
    "model.fit(X_train, y_train, epochs=100, batch_size=32, validation_split=0.1, callbacks=[early_stopping])"
   ],
   "metadata": {
    "collapsed": false,
    "pycharm": {
     "name": "#%%\n"
    }
   }
  },
  {
   "cell_type": "code",
   "execution_count": 9,
   "outputs": [
    {
     "name": "stdout",
     "output_type": "stream",
     "text": [
      "204/204 [==============================] - 0s 529us/step - loss: 36.8450 - accuracy: 0.2409\n"
     ]
    }
   ],
   "source": [
    "loss, accuracy = model.evaluate(X_test, y_test)"
   ],
   "metadata": {
    "collapsed": false,
    "pycharm": {
     "name": "#%%\n"
    }
   }
  },
  {
   "cell_type": "code",
   "execution_count": 10,
   "outputs": [
    {
     "name": "stdout",
     "output_type": "stream",
     "text": [
      "204/204 [==============================] - 0s 400us/step\n"
     ]
    }
   ],
   "source": [
    "y_pred = model.predict(X_test)"
   ],
   "metadata": {
    "collapsed": false,
    "pycharm": {
     "name": "#%%\n"
    }
   }
  },
  {
   "cell_type": "markdown",
   "source": [
    "## Model Card Generation"
   ],
   "metadata": {
    "collapsed": false,
    "pycharm": {
     "name": "#%% md\n"
    }
   }
  },
  {
   "cell_type": "code",
   "execution_count": 11,
   "outputs": [
    {
     "name": "stderr",
     "output_type": "stream",
     "text": [
      "IProgress not found. Please update jupyter and ipywidgets. See https://ipywidgets.readthedocs.io/en/stable/user_install.html\n"
     ]
    }
   ],
   "source": [
    "from icicle_model_card.icicle_model_card import ModelCard, AIModel, BiasAnalysis, ExplainabilityAnalysis, validate_mc, Metric, save_mc\n",
    "import json"
   ],
   "metadata": {
    "collapsed": false,
    "pycharm": {
     "name": "#%%\n"
    }
   }
  },
  {
   "cell_type": "code",
   "execution_count": 12,
   "outputs": [],
   "source": [
    "mc = ModelCard(\n",
    "            name=\"UCI Adult Data Analysis\",\n",
    "            version=\"0.1\",\n",
    "            short_description=\"UCI Adult Data analysis using Tensorflow\",\n",
    "            full_description=\"Using a tensorflow trained neural network to analyse fairness and explainability in the UCI Adult Dataset\",\n",
    "            keywords=\"uci adult, tensorflow, explainability, fairness, fairlearn, shap\",\n",
    "            author=\"Sachith Withana\"\n",
    "        )\n",
    "\n",
    "mc.input_data = 'https://archive.ics.uci.edu/dataset/2/adult'\n",
    "mc.output_data = 'https://github.iu.edu/swithana/mcwork/tensorflow/adult_model.pkl'"
   ],
   "metadata": {
    "collapsed": false,
    "pycharm": {
     "name": "#%%\n"
    }
   }
  },
  {
   "cell_type": "code",
   "execution_count": 13,
   "outputs": [],
   "source": [
    "model_metrics = []\n",
    "model_metrics.append(Metric(\"Test loss\", loss))\n",
    "\n",
    "ai_model = AIModel(\n",
    "            name=\"UCI Adult tensorflow model\",\n",
    "            version=\"0.1\",\n",
    "            description=\"Census classification problem using Tensorflow Neural Network\",\n",
    "            owner=\"Sachith Withana\",\n",
    "            location=\"https://github.iu.edu/swithana/mcwork/tensorflow/adult_model.pkl\",\n",
    "            license=\"BSD-3 Clause\",\n",
    "            framework=\"tensorflow\",\n",
    "            model_type=\"dnn\",\n",
    "            test_accuracy=accuracy,\n",
    "            model_structure = json.dumps(json.loads(model.to_json()), indent=2)\n",
    "        )\n",
    "ai_model.metrics = model_metrics\n",
    "mc.ai_model = ai_model"
   ],
   "metadata": {
    "collapsed": false,
    "pycharm": {
     "name": "#%%\n"
    }
   }
  },
  {
   "cell_type": "code",
   "execution_count": 14,
   "outputs": [
    {
     "name": "stdout",
     "output_type": "stream",
     "text": [
      "204/204 [==============================] - 0s 395us/step\n"
     ]
    },
    {
     "name": "stderr",
     "output_type": "stream",
     "text": [
      "DataFrame.applymap has been deprecated. Use DataFrame.map instead.\n",
      "DataFrame.applymap has been deprecated. Use DataFrame.map instead.\n",
      "DataFrame.applymap has been deprecated. Use DataFrame.map instead.\n",
      "DataFrame.applymap has been deprecated. Use DataFrame.map instead.\n",
      "DataFrame.applymap has been deprecated. Use DataFrame.map instead.\n",
      "DataFrame.applymap has been deprecated. Use DataFrame.map instead.\n"
     ]
    }
   ],
   "source": [
    "y_pred = model.predict(X_test)\n",
    "y_pred = (y_pred >= 0.5).flatten()\n",
    "mc.populate_bias(X_test, y_test, y_pred, \"gender\", X_test[:, 58], model)"
   ],
   "metadata": {
    "collapsed": false,
    "pycharm": {
     "name": "#%%\n"
    }
   }
  },
  {
   "cell_type": "code",
   "execution_count": 20,
   "outputs": [
    {
     "name": "stderr",
     "output_type": "stream",
     "text": [
      "PermutationExplainer explainer: 6514it [02:51, 35.67it/s]                                                                                                                                                       \n"
     ]
    }
   ],
   "source": [
    "x_columns = data.columns.tolist()\n",
    "x_columns.remove('income')\n",
    "\n",
    "mc.populate_xai(X_test, x_columns, model, 10)"
   ],
   "metadata": {
    "collapsed": false,
    "pycharm": {
     "name": "#%%\n"
    }
   }
  },
  {
   "cell_type": "code",
   "execution_count": 21,
   "outputs": [
    {
     "name": "stdout",
     "output_type": "stream",
     "text": [
      "{'demographic_parity_diff': 0.00045589240939136744, 'equal_odds_difference': 0.001494768310911776, 'true_positives': 1569, 'true_negatives': 0, 'false_positives': 4942, 'false_negatives': 2, 'false_positive_rate': 1.0, 'false_negative_rate': 0.001273074474856779, 'true_positive_rate': 0.9987269255251432, 'true_negative_rate': 0.0}\n"
     ]
    }
   ],
   "source": [
    "print(mc.bias_analysis)"
   ],
   "metadata": {
    "collapsed": false,
    "pycharm": {
     "name": "#%%\n"
    }
   }
  },
  {
   "cell_type": "code",
   "execution_count": 22,
   "outputs": [
    {
     "name": "stdout",
     "output_type": "stream",
     "text": [
      "{'fnlwgt': 0.0004911673639634201, 'capital-gain': 0.00044787622968457674, 'age': 6.70798050686867e-05, 'hours-per-week': 6.305050295144579e-05, 'martial-status_ Never-married': 2.1357842281867512e-05, 'relationship_ Own-child': 1.6673573169755223e-05, 'relationship_ Not-in-family': 1.3442405517723064e-05, 'occupation_ Other-service': 1.2595947715921443e-05, 'education_ HS-grad': 8.969494734227908e-06, 'relationship_ Other-relative': 8.756830159453904e-06}\n"
     ]
    }
   ],
   "source": [
    "print(mc.xai_analysis)"
   ],
   "metadata": {
    "collapsed": false,
    "pycharm": {
     "name": "#%%\n"
    }
   }
  },
  {
   "cell_type": "code",
   "execution_count": 23,
   "outputs": [
    {
     "name": "stdout",
     "output_type": "stream",
     "text": [
      "{\n",
      "    \"name\": \"UCI Adult Data Analysis\",\n",
      "    \"version\": \"0.1\",\n",
      "    \"short_description\": \"UCI Adult Data analysis using Tensorflow\",\n",
      "    \"full_description\": \"Using a tensorflow trained neural network to analyse fairness and explainability in the UCI Adult Dataset\",\n",
      "    \"keywords\": \"uci adult, tensorflow, explainability, fairness, fairlearn, shap\",\n",
      "    \"author\": \"Sachith Withana\",\n",
      "    \"input_data\": \"https://archive.ics.uci.edu/dataset/2/adult\",\n",
      "    \"output_data\": \"https://github.iu.edu/swithana/mcwork/tensorflow/adult_model.pkl\",\n",
      "    \"ai_model\": {\n",
      "        \"name\": \"UCI Adult tensorflow model\",\n",
      "        \"version\": \"0.1\",\n",
      "        \"description\": \"Census classification problem using Tensorflow Neural Network\",\n",
      "        \"owner\": \"Sachith Withana\",\n",
      "        \"location\": \"https://github.iu.edu/swithana/mcwork/tensorflow/adult_model.pkl\",\n",
      "        \"license\": \"BSD-3 Clause\",\n",
      "        \"framework\": \"tensorflow\",\n",
      "        \"model_type\": \"dnn\",\n",
      "        \"test_accuracy\": 0.24090281128883362,\n",
      "        \"model_structure\": \"{\\n  \\\"class_name\\\": \\\"Sequential\\\",\\n  \\\"config\\\": {\\n    \\\"name\\\": \\\"sequential\\\",\\n    \\\"layers\\\": [\\n      {\\n        \\\"module\\\": \\\"keras.layers\\\",\\n        \\\"class_name\\\": \\\"InputLayer\\\",\\n        \\\"config\\\": {\\n          \\\"batch_input_shape\\\": [\\n            null,\\n            100\\n          ],\\n          \\\"dtype\\\": \\\"float32\\\",\\n          \\\"sparse\\\": false,\\n          \\\"ragged\\\": false,\\n          \\\"name\\\": \\\"input_1\\\"\\n        },\\n        \\\"registered_name\\\": null\\n      },\\n      {\\n        \\\"module\\\": \\\"keras.layers\\\",\\n        \\\"class_name\\\": \\\"Dense\\\",\\n        \\\"config\\\": {\\n          \\\"name\\\": \\\"dense\\\",\\n          \\\"trainable\\\": true,\\n          \\\"dtype\\\": \\\"float32\\\",\\n          \\\"units\\\": 64,\\n          \\\"activation\\\": \\\"relu\\\",\\n          \\\"use_bias\\\": true,\\n          \\\"kernel_initializer\\\": {\\n            \\\"module\\\": \\\"keras.initializers\\\",\\n            \\\"class_name\\\": \\\"GlorotUniform\\\",\\n            \\\"config\\\": {\\n              \\\"seed\\\": null\\n            },\\n            \\\"registered_name\\\": null\\n          },\\n          \\\"bias_initializer\\\": {\\n            \\\"module\\\": \\\"keras.initializers\\\",\\n            \\\"class_name\\\": \\\"Zeros\\\",\\n            \\\"config\\\": {},\\n            \\\"registered_name\\\": null\\n          },\\n          \\\"kernel_regularizer\\\": null,\\n          \\\"bias_regularizer\\\": null,\\n          \\\"activity_regularizer\\\": null,\\n          \\\"kernel_constraint\\\": null,\\n          \\\"bias_constraint\\\": null\\n        },\\n        \\\"registered_name\\\": null,\\n        \\\"build_config\\\": {\\n          \\\"input_shape\\\": [\\n            null,\\n            100\\n          ]\\n        }\\n      },\\n      {\\n        \\\"module\\\": \\\"keras.layers\\\",\\n        \\\"class_name\\\": \\\"Dense\\\",\\n        \\\"config\\\": {\\n          \\\"name\\\": \\\"dense_1\\\",\\n          \\\"trainable\\\": true,\\n          \\\"dtype\\\": \\\"float32\\\",\\n          \\\"units\\\": 32,\\n          \\\"activation\\\": \\\"relu\\\",\\n          \\\"use_bias\\\": true,\\n          \\\"kernel_initializer\\\": {\\n            \\\"module\\\": \\\"keras.initializers\\\",\\n            \\\"class_name\\\": \\\"GlorotUniform\\\",\\n            \\\"config\\\": {\\n              \\\"seed\\\": null\\n            },\\n            \\\"registered_name\\\": null\\n          },\\n          \\\"bias_initializer\\\": {\\n            \\\"module\\\": \\\"keras.initializers\\\",\\n            \\\"class_name\\\": \\\"Zeros\\\",\\n            \\\"config\\\": {},\\n            \\\"registered_name\\\": null\\n          },\\n          \\\"kernel_regularizer\\\": null,\\n          \\\"bias_regularizer\\\": null,\\n          \\\"activity_regularizer\\\": null,\\n          \\\"kernel_constraint\\\": null,\\n          \\\"bias_constraint\\\": null\\n        },\\n        \\\"registered_name\\\": null,\\n        \\\"build_config\\\": {\\n          \\\"input_shape\\\": [\\n            null,\\n            64\\n          ]\\n        }\\n      },\\n      {\\n        \\\"module\\\": \\\"keras.layers\\\",\\n        \\\"class_name\\\": \\\"Dense\\\",\\n        \\\"config\\\": {\\n          \\\"name\\\": \\\"dense_2\\\",\\n          \\\"trainable\\\": true,\\n          \\\"dtype\\\": \\\"float32\\\",\\n          \\\"units\\\": 1,\\n          \\\"activation\\\": \\\"sigmoid\\\",\\n          \\\"use_bias\\\": true,\\n          \\\"kernel_initializer\\\": {\\n            \\\"module\\\": \\\"keras.initializers\\\",\\n            \\\"class_name\\\": \\\"GlorotUniform\\\",\\n            \\\"config\\\": {\\n              \\\"seed\\\": null\\n            },\\n            \\\"registered_name\\\": null\\n          },\\n          \\\"bias_initializer\\\": {\\n            \\\"module\\\": \\\"keras.initializers\\\",\\n            \\\"class_name\\\": \\\"Zeros\\\",\\n            \\\"config\\\": {},\\n            \\\"registered_name\\\": null\\n          },\\n          \\\"kernel_regularizer\\\": null,\\n          \\\"bias_regularizer\\\": null,\\n          \\\"activity_regularizer\\\": null,\\n          \\\"kernel_constraint\\\": null,\\n          \\\"bias_constraint\\\": null\\n        },\\n        \\\"registered_name\\\": null,\\n        \\\"build_config\\\": {\\n          \\\"input_shape\\\": [\\n            null,\\n            32\\n          ]\\n        }\\n      }\\n    ]\\n  },\\n  \\\"keras_version\\\": \\\"2.14.0\\\",\\n  \\\"backend\\\": \\\"tensorflow\\\"\\n}\",\n",
      "        \"metrics\": [\n",
      "            {\n",
      "                \"key\": \"Test loss\",\n",
      "                \"value\": 36.8449821472168\n",
      "            }\n",
      "        ]\n",
      "    },\n",
      "    \"bias_analysis\": {\n",
      "        \"demographic_parity_diff\": 0.00045589240939136744,\n",
      "        \"equal_odds_difference\": 0.001494768310911776,\n",
      "        \"true_positives\": 1569,\n",
      "        \"true_negatives\": 0,\n",
      "        \"false_positives\": 4942,\n",
      "        \"false_negatives\": 2,\n",
      "        \"false_positive_rate\": 1.0,\n",
      "        \"false_negative_rate\": 0.001273074474856779,\n",
      "        \"true_positive_rate\": 0.9987269255251432,\n",
      "        \"true_negative_rate\": 0.0\n",
      "    },\n",
      "    \"xai_analysis\": {\n",
      "        \"fnlwgt\": 0.0004911673639634201,\n",
      "        \"capital-gain\": 0.00044787622968457674,\n",
      "        \"age\": 6.70798050686867e-05,\n",
      "        \"hours-per-week\": 6.305050295144579e-05,\n",
      "        \"martial-status_ Never-married\": 2.1357842281867512e-05,\n",
      "        \"relationship_ Own-child\": 1.6673573169755223e-05,\n",
      "        \"relationship_ Not-in-family\": 1.3442405517723064e-05,\n",
      "        \"occupation_ Other-service\": 1.2595947715921443e-05,\n",
      "        \"education_ HS-grad\": 8.969494734227908e-06,\n",
      "        \"relationship_ Other-relative\": 8.756830159453904e-06\n",
      "    }\n",
      "}\n"
     ]
    }
   ],
   "source": [
    "print(mc)"
   ],
   "metadata": {
    "collapsed": false,
    "pycharm": {
     "name": "#%%\n"
    }
   }
  },
  {
   "cell_type": "code",
   "execution_count": 17,
   "outputs": [],
   "source": [
    "save_mc(mc, \"/Users/swithana/git/icicle_model_card/examples/model_cards/tesorflow_adult_nn_MC.json\")"
   ],
   "metadata": {
    "collapsed": false,
    "pycharm": {
     "name": "#%%\n"
    }
   }
  },
  {
   "cell_type": "code",
   "execution_count": null,
   "outputs": [],
   "source": [],
   "metadata": {
    "collapsed": false,
    "pycharm": {
     "name": "#%%\n"
    }
   }
  }
 ],
 "metadata": {
  "kernelspec": {
   "display_name": "Python 3",
   "language": "python",
   "name": "python3"
  },
  "language_info": {
   "codemirror_mode": {
    "name": "ipython",
    "version": 2
   },
   "file_extension": ".py",
   "mimetype": "text/x-python",
   "name": "python",
   "nbconvert_exporter": "python",
   "pygments_lexer": "ipython2",
   "version": "2.7.6"
  }
 },
 "nbformat": 4,
 "nbformat_minor": 0
}
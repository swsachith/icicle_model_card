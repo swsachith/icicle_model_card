{
 "cells": [
  {
   "cell_type": "code",
   "execution_count": 3,
   "outputs": [
    {
     "name": "stderr",
     "output_type": "stream",
     "text": [
      "/Users/swithana/git/icicle_model_card/venv/lib/python3.9/site-packages/urllib3/__init__.py:34: NotOpenSSLWarning: urllib3 v2.0 only supports OpenSSL 1.1.1+, currently the 'ssl' module is compiled with 'LibreSSL 2.8.3'. See: https://github.com/urllib3/urllib3/issues/3020\n",
      "  warnings.warn(\n"
     ]
    }
   ],
   "source": [
    "import numpy as np\n",
    "import pandas as pd\n",
    "import tensorflow as tf\n",
    "from sklearn.model_selection import train_test_split\n",
    "from sklearn.preprocessing import StandardScaler, LabelEncoder"
   ],
   "metadata": {
    "collapsed": false,
    "pycharm": {
     "name": "#%%\n"
    }
   }
  },
  {
   "cell_type": "code",
   "execution_count": 2,
   "outputs": [
    {
     "name": "stdout",
     "output_type": "stream",
     "text": [
      "Collecting tensorflow\r\n",
      "  Downloading tensorflow-2.15.0-cp39-cp39-macosx_12_0_arm64.whl (2.1 kB)\r\n",
      "Collecting tensorflow-macos==2.15.0\r\n",
      "  Downloading tensorflow_macos-2.15.0-cp39-cp39-macosx_12_0_arm64.whl (208.8 MB)\r\n",
      "     |████████████████████████████████| 208.8 MB 17.7 MB/s            \r\n",
      "\u001B[?25hRequirement already satisfied: numpy<2.0.0,>=1.23.5 in /Users/swithana/git/icicle_model_card/venv/lib/python3.9/site-packages (from tensorflow-macos==2.15.0->tensorflow) (1.26.0)\r\n",
      "Collecting termcolor>=1.1.0\r\n",
      "  Downloading termcolor-2.4.0-py3-none-any.whl (7.7 kB)\r\n",
      "Collecting tensorboard<2.16,>=2.15\r\n",
      "  Downloading tensorboard-2.15.2-py3-none-any.whl (5.5 MB)\r\n",
      "     |████████████████████████████████| 5.5 MB 29.9 MB/s            \r\n",
      "\u001B[?25hRequirement already satisfied: six>=1.12.0 in /Users/swithana/git/icicle_model_card/venv/lib/python3.9/site-packages (from tensorflow-macos==2.15.0->tensorflow) (1.16.0)\r\n",
      "Collecting protobuf!=4.21.0,!=4.21.1,!=4.21.2,!=4.21.3,!=4.21.4,!=4.21.5,<5.0.0dev,>=3.20.3\r\n",
      "  Downloading protobuf-4.25.3-cp37-abi3-macosx_10_9_universal2.whl (394 kB)\r\n",
      "     |████████████████████████████████| 394 kB 30.6 MB/s            \r\n",
      "\u001B[?25hCollecting astunparse>=1.6.0\r\n",
      "  Using cached astunparse-1.6.3-py2.py3-none-any.whl (12 kB)\r\n",
      "Collecting gast!=0.5.0,!=0.5.1,!=0.5.2,>=0.2.1\r\n",
      "  Using cached gast-0.5.4-py3-none-any.whl (19 kB)\r\n",
      "Collecting google-pasta>=0.1.1\r\n",
      "  Using cached google_pasta-0.2.0-py3-none-any.whl (57 kB)\r\n",
      "Collecting ml-dtypes~=0.2.0\r\n",
      "  Using cached ml_dtypes-0.2.0-cp39-cp39-macosx_10_9_universal2.whl (1.2 MB)\r\n",
      "Collecting opt-einsum>=2.3.2\r\n",
      "  Using cached opt_einsum-3.3.0-py3-none-any.whl (65 kB)\r\n",
      "Collecting libclang>=13.0.0\r\n",
      "  Using cached libclang-16.0.6-py2.py3-none-macosx_11_0_arm64.whl (20.6 MB)\r\n",
      "Collecting tensorflow-io-gcs-filesystem>=0.23.1\r\n",
      "  Downloading tensorflow_io_gcs_filesystem-0.36.0-cp39-cp39-macosx_12_0_arm64.whl (3.4 MB)\r\n",
      "     |████████████████████████████████| 3.4 MB 32.8 MB/s            \r\n",
      "\u001B[?25hCollecting h5py>=2.9.0\r\n",
      "  Using cached h5py-3.10.0-cp39-cp39-macosx_11_0_arm64.whl (2.7 MB)\r\n",
      "Collecting tensorflow-estimator<2.16,>=2.15.0\r\n",
      "  Downloading tensorflow_estimator-2.15.0-py2.py3-none-any.whl (441 kB)\r\n",
      "     |████████████████████████████████| 441 kB 33.2 MB/s            \r\n",
      "\u001B[?25hCollecting wrapt<1.15,>=1.11.0\r\n",
      "  Using cached wrapt-1.14.1-cp39-cp39-macosx_11_0_arm64.whl (35 kB)\r\n",
      "Collecting grpcio<2.0,>=1.24.3\r\n",
      "  Downloading grpcio-1.60.1-cp39-cp39-macosx_10_10_universal2.whl (9.7 MB)\r\n",
      "     |████████████████████████████████| 9.7 MB 40.5 MB/s            \r\n",
      "\u001B[?25hCollecting keras<2.16,>=2.15.0\r\n",
      "  Downloading keras-2.15.0-py3-none-any.whl (1.7 MB)\r\n",
      "     |████████████████████████████████| 1.7 MB 28.8 MB/s            \r\n",
      "\u001B[?25hRequirement already satisfied: packaging in /Users/swithana/git/icicle_model_card/venv/lib/python3.9/site-packages (from tensorflow-macos==2.15.0->tensorflow) (23.2)\r\n",
      "Requirement already satisfied: typing-extensions>=3.6.6 in /Users/swithana/git/icicle_model_card/venv/lib/python3.9/site-packages (from tensorflow-macos==2.15.0->tensorflow) (4.8.0)\r\n",
      "Requirement already satisfied: setuptools in /Users/swithana/git/icicle_model_card/venv/lib/python3.9/site-packages (from tensorflow-macos==2.15.0->tensorflow) (60.2.0)\r\n",
      "Collecting absl-py>=1.0.0\r\n",
      "  Downloading absl_py-2.1.0-py3-none-any.whl (133 kB)\r\n",
      "     |████████████████████████████████| 133 kB 37.0 MB/s            \r\n",
      "\u001B[?25hCollecting flatbuffers>=23.5.26\r\n",
      "  Using cached flatbuffers-23.5.26-py2.py3-none-any.whl (26 kB)\r\n",
      "Requirement already satisfied: wheel<1.0,>=0.23.0 in /Users/swithana/git/icicle_model_card/venv/lib/python3.9/site-packages (from astunparse>=1.6.0->tensorflow-macos==2.15.0->tensorflow) (0.37.1)\r\n",
      "Collecting google-auth-oauthlib<2,>=0.5\r\n",
      "  Downloading google_auth_oauthlib-1.2.0-py2.py3-none-any.whl (24 kB)\r\n",
      "Collecting werkzeug>=1.0.1\r\n",
      "  Downloading werkzeug-3.0.1-py3-none-any.whl (226 kB)\r\n",
      "     |████████████████████████████████| 226 kB 35.5 MB/s            \r\n",
      "\u001B[?25hCollecting tensorboard-data-server<0.8.0,>=0.7.0\r\n",
      "  Downloading tensorboard_data_server-0.7.2-py3-none-any.whl (2.4 kB)\r\n",
      "Collecting google-auth<3,>=1.6.3\r\n",
      "  Downloading google_auth-2.28.0-py2.py3-none-any.whl (186 kB)\r\n",
      "     |████████████████████████████████| 186 kB 36.2 MB/s            \r\n",
      "\u001B[?25hRequirement already satisfied: requests<3,>=2.21.0 in /Users/swithana/git/icicle_model_card/venv/lib/python3.9/site-packages (from tensorboard<2.16,>=2.15->tensorflow-macos==2.15.0->tensorflow) (2.31.0)\r\n",
      "Collecting markdown>=2.6.8\r\n",
      "  Downloading Markdown-3.5.2-py3-none-any.whl (103 kB)\r\n",
      "     |████████████████████████████████| 103 kB 39.2 MB/s            \r\n",
      "\u001B[?25hCollecting cachetools<6.0,>=2.0.0\r\n",
      "  Downloading cachetools-5.3.2-py3-none-any.whl (9.3 kB)\r\n",
      "Collecting pyasn1-modules>=0.2.1\r\n",
      "  Using cached pyasn1_modules-0.3.0-py2.py3-none-any.whl (181 kB)\r\n",
      "Collecting rsa<5,>=3.1.4\r\n",
      "  Using cached rsa-4.9-py3-none-any.whl (34 kB)\r\n",
      "Collecting requests-oauthlib>=0.7.0\r\n",
      "  Using cached requests_oauthlib-1.3.1-py2.py3-none-any.whl (23 kB)\r\n",
      "Requirement already satisfied: importlib-metadata>=4.4 in /Users/swithana/git/icicle_model_card/venv/lib/python3.9/site-packages (from markdown>=2.6.8->tensorboard<2.16,>=2.15->tensorflow-macos==2.15.0->tensorflow) (6.8.0)\r\n",
      "Requirement already satisfied: urllib3<3,>=1.21.1 in /Users/swithana/git/icicle_model_card/venv/lib/python3.9/site-packages (from requests<3,>=2.21.0->tensorboard<2.16,>=2.15->tensorflow-macos==2.15.0->tensorflow) (2.0.6)\r\n",
      "Requirement already satisfied: idna<4,>=2.5 in /Users/swithana/git/icicle_model_card/venv/lib/python3.9/site-packages (from requests<3,>=2.21.0->tensorboard<2.16,>=2.15->tensorflow-macos==2.15.0->tensorflow) (3.4)\r\n",
      "Requirement already satisfied: certifi>=2017.4.17 in /Users/swithana/git/icicle_model_card/venv/lib/python3.9/site-packages (from requests<3,>=2.21.0->tensorboard<2.16,>=2.15->tensorflow-macos==2.15.0->tensorflow) (2023.7.22)\r\n",
      "Requirement already satisfied: charset-normalizer<4,>=2 in /Users/swithana/git/icicle_model_card/venv/lib/python3.9/site-packages (from requests<3,>=2.21.0->tensorboard<2.16,>=2.15->tensorflow-macos==2.15.0->tensorflow) (3.3.0)\r\n",
      "Requirement already satisfied: MarkupSafe>=2.1.1 in /Users/swithana/git/icicle_model_card/venv/lib/python3.9/site-packages (from werkzeug>=1.0.1->tensorboard<2.16,>=2.15->tensorflow-macos==2.15.0->tensorflow) (2.1.3)\r\n",
      "Requirement already satisfied: zipp>=0.5 in /Users/swithana/git/icicle_model_card/venv/lib/python3.9/site-packages (from importlib-metadata>=4.4->markdown>=2.6.8->tensorboard<2.16,>=2.15->tensorflow-macos==2.15.0->tensorflow) (3.17.0)\r\n",
      "Collecting pyasn1<0.6.0,>=0.4.6\r\n",
      "  Downloading pyasn1-0.5.1-py2.py3-none-any.whl (84 kB)\r\n",
      "     |████████████████████████████████| 84 kB 14.0 MB/s            \r\n",
      "\u001B[?25hCollecting oauthlib>=3.0.0\r\n",
      "  Using cached oauthlib-3.2.2-py3-none-any.whl (151 kB)\r\n",
      "Installing collected packages: pyasn1, rsa, pyasn1-modules, oauthlib, cachetools, requests-oauthlib, google-auth, werkzeug, tensorboard-data-server, protobuf, markdown, grpcio, google-auth-oauthlib, absl-py, wrapt, termcolor, tensorflow-io-gcs-filesystem, tensorflow-estimator, tensorboard, opt-einsum, ml-dtypes, libclang, keras, h5py, google-pasta, gast, flatbuffers, astunparse, tensorflow-macos, tensorflow\r\n",
      "Successfully installed absl-py-2.1.0 astunparse-1.6.3 cachetools-5.3.2 flatbuffers-23.5.26 gast-0.5.4 google-auth-2.28.0 google-auth-oauthlib-1.2.0 google-pasta-0.2.0 grpcio-1.60.1 h5py-3.10.0 keras-2.15.0 libclang-16.0.6 markdown-3.5.2 ml-dtypes-0.2.0 oauthlib-3.2.2 opt-einsum-3.3.0 protobuf-4.25.3 pyasn1-0.5.1 pyasn1-modules-0.3.0 requests-oauthlib-1.3.1 rsa-4.9 tensorboard-2.15.2 tensorboard-data-server-0.7.2 tensorflow-2.15.0 tensorflow-estimator-2.15.0 tensorflow-io-gcs-filesystem-0.36.0 tensorflow-macos-2.15.0 termcolor-2.4.0 werkzeug-3.0.1 wrapt-1.14.1\r\n",
      "\u001B[33mWARNING: You are using pip version 21.3.1; however, version 24.0 is available.\r\n",
      "You should consider upgrading via the '/Users/swithana/git/icicle_model_card/venv/bin/python -m pip install --upgrade pip' command.\u001B[0m\r\n"
     ]
    }
   ],
   "source": [
    "!pip install tensorflow"
   ],
   "metadata": {
    "collapsed": false,
    "pycharm": {
     "name": "#%%\n"
    }
   }
  },
  {
   "cell_type": "code",
   "execution_count": 4,
   "outputs": [],
   "source": [
    "columns = [\"age\", \"workclass\", \"fnlwgt\", \"education\", \"education-num\", \"martial-status\",\n",
    "        \"occupation\", \"relationship\", \"race\", \"sex\", \"capital-gain\", \"capital-loss\",\n",
    "        \"hours-per-week\", \"native-country\", \"income\"]\n",
    "data = pd.read_csv('/Users/swithana/git/icicle_model_card/examples/notebooks/data/adult/adult.data', names=columns)"
   ],
   "metadata": {
    "collapsed": false,
    "pycharm": {
     "name": "#%%\n"
    }
   }
  },
  {
   "cell_type": "code",
   "execution_count": 5,
   "outputs": [
    {
     "data": {
      "text/plain": "   age          workclass  fnlwgt   education  education-num  \\\n0   39          State-gov   77516   Bachelors             13   \n1   50   Self-emp-not-inc   83311   Bachelors             13   \n2   38            Private  215646     HS-grad              9   \n3   53            Private  234721        11th              7   \n4   28            Private  338409   Bachelors             13   \n\n        martial-status          occupation    relationship    race      sex  \\\n0        Never-married        Adm-clerical   Not-in-family   White     Male   \n1   Married-civ-spouse     Exec-managerial         Husband   White     Male   \n2             Divorced   Handlers-cleaners   Not-in-family   White     Male   \n3   Married-civ-spouse   Handlers-cleaners         Husband   Black     Male   \n4   Married-civ-spouse      Prof-specialty            Wife   Black   Female   \n\n   capital-gain  capital-loss  hours-per-week  native-country  income  \n0          2174             0              40   United-States   <=50K  \n1             0             0              13   United-States   <=50K  \n2             0             0              40   United-States   <=50K  \n3             0             0              40   United-States   <=50K  \n4             0             0              40            Cuba   <=50K  ",
      "text/html": "<div>\n<style scoped>\n    .dataframe tbody tr th:only-of-type {\n        vertical-align: middle;\n    }\n\n    .dataframe tbody tr th {\n        vertical-align: top;\n    }\n\n    .dataframe thead th {\n        text-align: right;\n    }\n</style>\n<table border=\"1\" class=\"dataframe\">\n  <thead>\n    <tr style=\"text-align: right;\">\n      <th></th>\n      <th>age</th>\n      <th>workclass</th>\n      <th>fnlwgt</th>\n      <th>education</th>\n      <th>education-num</th>\n      <th>martial-status</th>\n      <th>occupation</th>\n      <th>relationship</th>\n      <th>race</th>\n      <th>sex</th>\n      <th>capital-gain</th>\n      <th>capital-loss</th>\n      <th>hours-per-week</th>\n      <th>native-country</th>\n      <th>income</th>\n    </tr>\n  </thead>\n  <tbody>\n    <tr>\n      <th>0</th>\n      <td>39</td>\n      <td>State-gov</td>\n      <td>77516</td>\n      <td>Bachelors</td>\n      <td>13</td>\n      <td>Never-married</td>\n      <td>Adm-clerical</td>\n      <td>Not-in-family</td>\n      <td>White</td>\n      <td>Male</td>\n      <td>2174</td>\n      <td>0</td>\n      <td>40</td>\n      <td>United-States</td>\n      <td>&lt;=50K</td>\n    </tr>\n    <tr>\n      <th>1</th>\n      <td>50</td>\n      <td>Self-emp-not-inc</td>\n      <td>83311</td>\n      <td>Bachelors</td>\n      <td>13</td>\n      <td>Married-civ-spouse</td>\n      <td>Exec-managerial</td>\n      <td>Husband</td>\n      <td>White</td>\n      <td>Male</td>\n      <td>0</td>\n      <td>0</td>\n      <td>13</td>\n      <td>United-States</td>\n      <td>&lt;=50K</td>\n    </tr>\n    <tr>\n      <th>2</th>\n      <td>38</td>\n      <td>Private</td>\n      <td>215646</td>\n      <td>HS-grad</td>\n      <td>9</td>\n      <td>Divorced</td>\n      <td>Handlers-cleaners</td>\n      <td>Not-in-family</td>\n      <td>White</td>\n      <td>Male</td>\n      <td>0</td>\n      <td>0</td>\n      <td>40</td>\n      <td>United-States</td>\n      <td>&lt;=50K</td>\n    </tr>\n    <tr>\n      <th>3</th>\n      <td>53</td>\n      <td>Private</td>\n      <td>234721</td>\n      <td>11th</td>\n      <td>7</td>\n      <td>Married-civ-spouse</td>\n      <td>Handlers-cleaners</td>\n      <td>Husband</td>\n      <td>Black</td>\n      <td>Male</td>\n      <td>0</td>\n      <td>0</td>\n      <td>40</td>\n      <td>United-States</td>\n      <td>&lt;=50K</td>\n    </tr>\n    <tr>\n      <th>4</th>\n      <td>28</td>\n      <td>Private</td>\n      <td>338409</td>\n      <td>Bachelors</td>\n      <td>13</td>\n      <td>Married-civ-spouse</td>\n      <td>Prof-specialty</td>\n      <td>Wife</td>\n      <td>Black</td>\n      <td>Female</td>\n      <td>0</td>\n      <td>0</td>\n      <td>40</td>\n      <td>Cuba</td>\n      <td>&lt;=50K</td>\n    </tr>\n  </tbody>\n</table>\n</div>"
     },
     "execution_count": 5,
     "metadata": {},
     "output_type": "execute_result"
    }
   ],
   "source": [
    "data.head()"
   ],
   "metadata": {
    "collapsed": false,
    "pycharm": {
     "name": "#%%\n"
    }
   }
  },
  {
   "cell_type": "markdown",
   "source": [
    "### Pre-processing"
   ],
   "metadata": {
    "collapsed": false,
    "pycharm": {
     "name": "#%% md\n"
    }
   }
  },
  {
   "cell_type": "code",
   "execution_count": 6,
   "outputs": [
    {
     "data": {
      "text/plain": "   age  fnlwgt  education-num  capital-gain  capital-loss  hours-per-week  \\\n0   39   77516             13          2174             0              40   \n1   50   83311             13             0             0              13   \n2   38  215646              9             0             0              40   \n3   53  234721              7             0             0              40   \n4   28  338409             13             0             0              40   \n\n   income  workclass_ Federal-gov  workclass_ Local-gov  \\\n0       0                     0.0                   0.0   \n1       0                     0.0                   0.0   \n2       0                     0.0                   0.0   \n3       0                     0.0                   0.0   \n4       0                     0.0                   0.0   \n\n   workclass_ Never-worked  ...  native-country_ Portugal  \\\n0                      0.0  ...                       0.0   \n1                      0.0  ...                       0.0   \n2                      0.0  ...                       0.0   \n3                      0.0  ...                       0.0   \n4                      0.0  ...                       0.0   \n\n   native-country_ Puerto-Rico  native-country_ Scotland  \\\n0                          0.0                       0.0   \n1                          0.0                       0.0   \n2                          0.0                       0.0   \n3                          0.0                       0.0   \n4                          0.0                       0.0   \n\n   native-country_ South  native-country_ Taiwan  native-country_ Thailand  \\\n0                    0.0                     0.0                       0.0   \n1                    0.0                     0.0                       0.0   \n2                    0.0                     0.0                       0.0   \n3                    0.0                     0.0                       0.0   \n4                    0.0                     0.0                       0.0   \n\n   native-country_ Trinadad&Tobago  native-country_ United-States  \\\n0                              0.0                            1.0   \n1                              0.0                            1.0   \n2                              0.0                            1.0   \n3                              0.0                            1.0   \n4                              0.0                            0.0   \n\n   native-country_ Vietnam  native-country_ Yugoslavia  \n0                      0.0                         0.0  \n1                      0.0                         0.0  \n2                      0.0                         0.0  \n3                      0.0                         0.0  \n4                      0.0                         0.0  \n\n[5 rows x 101 columns]",
      "text/html": "<div>\n<style scoped>\n    .dataframe tbody tr th:only-of-type {\n        vertical-align: middle;\n    }\n\n    .dataframe tbody tr th {\n        vertical-align: top;\n    }\n\n    .dataframe thead th {\n        text-align: right;\n    }\n</style>\n<table border=\"1\" class=\"dataframe\">\n  <thead>\n    <tr style=\"text-align: right;\">\n      <th></th>\n      <th>age</th>\n      <th>fnlwgt</th>\n      <th>education-num</th>\n      <th>capital-gain</th>\n      <th>capital-loss</th>\n      <th>hours-per-week</th>\n      <th>income</th>\n      <th>workclass_ Federal-gov</th>\n      <th>workclass_ Local-gov</th>\n      <th>workclass_ Never-worked</th>\n      <th>...</th>\n      <th>native-country_ Portugal</th>\n      <th>native-country_ Puerto-Rico</th>\n      <th>native-country_ Scotland</th>\n      <th>native-country_ South</th>\n      <th>native-country_ Taiwan</th>\n      <th>native-country_ Thailand</th>\n      <th>native-country_ Trinadad&amp;Tobago</th>\n      <th>native-country_ United-States</th>\n      <th>native-country_ Vietnam</th>\n      <th>native-country_ Yugoslavia</th>\n    </tr>\n  </thead>\n  <tbody>\n    <tr>\n      <th>0</th>\n      <td>39</td>\n      <td>77516</td>\n      <td>13</td>\n      <td>2174</td>\n      <td>0</td>\n      <td>40</td>\n      <td>0</td>\n      <td>0.0</td>\n      <td>0.0</td>\n      <td>0.0</td>\n      <td>...</td>\n      <td>0.0</td>\n      <td>0.0</td>\n      <td>0.0</td>\n      <td>0.0</td>\n      <td>0.0</td>\n      <td>0.0</td>\n      <td>0.0</td>\n      <td>1.0</td>\n      <td>0.0</td>\n      <td>0.0</td>\n    </tr>\n    <tr>\n      <th>1</th>\n      <td>50</td>\n      <td>83311</td>\n      <td>13</td>\n      <td>0</td>\n      <td>0</td>\n      <td>13</td>\n      <td>0</td>\n      <td>0.0</td>\n      <td>0.0</td>\n      <td>0.0</td>\n      <td>...</td>\n      <td>0.0</td>\n      <td>0.0</td>\n      <td>0.0</td>\n      <td>0.0</td>\n      <td>0.0</td>\n      <td>0.0</td>\n      <td>0.0</td>\n      <td>1.0</td>\n      <td>0.0</td>\n      <td>0.0</td>\n    </tr>\n    <tr>\n      <th>2</th>\n      <td>38</td>\n      <td>215646</td>\n      <td>9</td>\n      <td>0</td>\n      <td>0</td>\n      <td>40</td>\n      <td>0</td>\n      <td>0.0</td>\n      <td>0.0</td>\n      <td>0.0</td>\n      <td>...</td>\n      <td>0.0</td>\n      <td>0.0</td>\n      <td>0.0</td>\n      <td>0.0</td>\n      <td>0.0</td>\n      <td>0.0</td>\n      <td>0.0</td>\n      <td>1.0</td>\n      <td>0.0</td>\n      <td>0.0</td>\n    </tr>\n    <tr>\n      <th>3</th>\n      <td>53</td>\n      <td>234721</td>\n      <td>7</td>\n      <td>0</td>\n      <td>0</td>\n      <td>40</td>\n      <td>0</td>\n      <td>0.0</td>\n      <td>0.0</td>\n      <td>0.0</td>\n      <td>...</td>\n      <td>0.0</td>\n      <td>0.0</td>\n      <td>0.0</td>\n      <td>0.0</td>\n      <td>0.0</td>\n      <td>0.0</td>\n      <td>0.0</td>\n      <td>1.0</td>\n      <td>0.0</td>\n      <td>0.0</td>\n    </tr>\n    <tr>\n      <th>4</th>\n      <td>28</td>\n      <td>338409</td>\n      <td>13</td>\n      <td>0</td>\n      <td>0</td>\n      <td>40</td>\n      <td>0</td>\n      <td>0.0</td>\n      <td>0.0</td>\n      <td>0.0</td>\n      <td>...</td>\n      <td>0.0</td>\n      <td>0.0</td>\n      <td>0.0</td>\n      <td>0.0</td>\n      <td>0.0</td>\n      <td>0.0</td>\n      <td>0.0</td>\n      <td>0.0</td>\n      <td>0.0</td>\n      <td>0.0</td>\n    </tr>\n  </tbody>\n</table>\n<p>5 rows × 101 columns</p>\n</div>"
     },
     "execution_count": 6,
     "metadata": {},
     "output_type": "execute_result"
    }
   ],
   "source": [
    "label_encoder = LabelEncoder()\n",
    "data['income'] = label_encoder.fit_transform(data['income'])\n",
    "\n",
    "# Convert categorical variables to one-hot encoding\n",
    "data = pd.get_dummies(data, drop_first=True, dtype=float)\n",
    "\n",
    "data.head()"
   ],
   "metadata": {
    "collapsed": false,
    "pycharm": {
     "name": "#%%\n"
    }
   }
  },
  {
   "cell_type": "code",
   "execution_count": 7,
   "outputs": [
    {
     "name": "stdout",
     "output_type": "stream",
     "text": [
      "['age', 'fnlwgt', 'education-num', 'capital-gain', 'capital-loss', 'hours-per-week', 'income', 'workclass_ Federal-gov', 'workclass_ Local-gov', 'workclass_ Never-worked', 'workclass_ Private', 'workclass_ Self-emp-inc', 'workclass_ Self-emp-not-inc', 'workclass_ State-gov', 'workclass_ Without-pay', 'education_ 11th', 'education_ 12th', 'education_ 1st-4th', 'education_ 5th-6th', 'education_ 7th-8th', 'education_ 9th', 'education_ Assoc-acdm', 'education_ Assoc-voc', 'education_ Bachelors', 'education_ Doctorate', 'education_ HS-grad', 'education_ Masters', 'education_ Preschool', 'education_ Prof-school', 'education_ Some-college', 'martial-status_ Married-AF-spouse', 'martial-status_ Married-civ-spouse', 'martial-status_ Married-spouse-absent', 'martial-status_ Never-married', 'martial-status_ Separated', 'martial-status_ Widowed', 'occupation_ Adm-clerical', 'occupation_ Armed-Forces', 'occupation_ Craft-repair', 'occupation_ Exec-managerial', 'occupation_ Farming-fishing', 'occupation_ Handlers-cleaners', 'occupation_ Machine-op-inspct', 'occupation_ Other-service', 'occupation_ Priv-house-serv', 'occupation_ Prof-specialty', 'occupation_ Protective-serv', 'occupation_ Sales', 'occupation_ Tech-support', 'occupation_ Transport-moving', 'relationship_ Not-in-family', 'relationship_ Other-relative', 'relationship_ Own-child', 'relationship_ Unmarried', 'relationship_ Wife', 'race_ Asian-Pac-Islander', 'race_ Black', 'race_ Other', 'race_ White', 'sex_ Male', 'native-country_ Cambodia', 'native-country_ Canada', 'native-country_ China', 'native-country_ Columbia', 'native-country_ Cuba', 'native-country_ Dominican-Republic', 'native-country_ Ecuador', 'native-country_ El-Salvador', 'native-country_ England', 'native-country_ France', 'native-country_ Germany', 'native-country_ Greece', 'native-country_ Guatemala', 'native-country_ Haiti', 'native-country_ Holand-Netherlands', 'native-country_ Honduras', 'native-country_ Hong', 'native-country_ Hungary', 'native-country_ India', 'native-country_ Iran', 'native-country_ Ireland', 'native-country_ Italy', 'native-country_ Jamaica', 'native-country_ Japan', 'native-country_ Laos', 'native-country_ Mexico', 'native-country_ Nicaragua', 'native-country_ Outlying-US(Guam-USVI-etc)', 'native-country_ Peru', 'native-country_ Philippines', 'native-country_ Poland', 'native-country_ Portugal', 'native-country_ Puerto-Rico', 'native-country_ Scotland', 'native-country_ South', 'native-country_ Taiwan', 'native-country_ Thailand', 'native-country_ Trinadad&Tobago', 'native-country_ United-States', 'native-country_ Vietnam', 'native-country_ Yugoslavia']\n"
     ]
    }
   ],
   "source": [
    "X = data.drop('income', axis=1).values\n",
    "y = data['income'].values\n",
    "\n",
    "print(data.columns.tolist())"
   ],
   "metadata": {
    "collapsed": false,
    "pycharm": {
     "name": "#%%\n"
    }
   }
  },
  {
   "cell_type": "code",
   "execution_count": 8,
   "outputs": [],
   "source": [
    "X_train, X_test, y_train, y_test = train_test_split(X, y, test_size=0.2, random_state=42)"
   ],
   "metadata": {
    "collapsed": false,
    "pycharm": {
     "name": "#%%\n"
    }
   }
  },
  {
   "cell_type": "markdown",
   "source": [
    "### Model Training"
   ],
   "metadata": {
    "collapsed": false,
    "pycharm": {
     "name": "#%% md\n"
    }
   }
  },
  {
   "cell_type": "code",
   "execution_count": 9,
   "outputs": [],
   "source": [
    "model = tf.keras.Sequential([\n",
    "    tf.keras.layers.Input(shape=(X_train.shape[1],)),\n",
    "    tf.keras.layers.Dense(64, activation='relu'),\n",
    "    tf.keras.layers.Dense(32, activation='relu'),\n",
    "    tf.keras.layers.Dense(1, activation='sigmoid')\n",
    "])\n",
    "\n",
    "model.compile(optimizer='adam', loss='binary_crossentropy', metrics=['accuracy'])"
   ],
   "metadata": {
    "collapsed": false,
    "pycharm": {
     "name": "#%%\n"
    }
   }
  },
  {
   "cell_type": "code",
   "execution_count": 10,
   "outputs": [
    {
     "name": "stdout",
     "output_type": "stream",
     "text": [
      "Epoch 1/100\n",
      "733/733 [==============================] - 1s 722us/step - loss: 187.0289 - accuracy: 0.6806 - val_loss: 229.8051 - val_accuracy: 0.7958\n",
      "Epoch 2/100\n",
      "733/733 [==============================] - 0s 615us/step - loss: 121.7722 - accuracy: 0.6865 - val_loss: 157.6537 - val_accuracy: 0.2365\n",
      "Epoch 3/100\n",
      "733/733 [==============================] - 0s 610us/step - loss: 111.4827 - accuracy: 0.6806 - val_loss: 25.7894 - val_accuracy: 0.7873\n",
      "Epoch 4/100\n",
      "733/733 [==============================] - 0s 601us/step - loss: 92.3267 - accuracy: 0.6790 - val_loss: 29.2681 - val_accuracy: 0.7973\n",
      "Epoch 5/100\n",
      "733/733 [==============================] - 0s 589us/step - loss: 77.6663 - accuracy: 0.6808 - val_loss: 25.7281 - val_accuracy: 0.7923\n",
      "Epoch 6/100\n",
      "733/733 [==============================] - 0s 586us/step - loss: 74.7043 - accuracy: 0.6792 - val_loss: 71.5459 - val_accuracy: 0.8027\n",
      "Epoch 7/100\n",
      "733/733 [==============================] - 0s 616us/step - loss: 41.4109 - accuracy: 0.6786 - val_loss: 62.9482 - val_accuracy: 0.8073\n",
      "Epoch 8/100\n",
      "733/733 [==============================] - 0s 587us/step - loss: 48.2288 - accuracy: 0.6892 - val_loss: 67.1676 - val_accuracy: 0.7939\n",
      "Epoch 9/100\n",
      "733/733 [==============================] - 0s 580us/step - loss: 50.5379 - accuracy: 0.6844 - val_loss: 32.7690 - val_accuracy: 0.7988\n",
      "Epoch 10/100\n",
      "733/733 [==============================] - 0s 580us/step - loss: 33.2176 - accuracy: 0.6881 - val_loss: 37.5490 - val_accuracy: 0.7820\n",
      "Epoch 11/100\n",
      "733/733 [==============================] - 0s 579us/step - loss: 26.8316 - accuracy: 0.6887 - val_loss: 7.3649 - val_accuracy: 0.4438\n",
      "Epoch 12/100\n",
      "733/733 [==============================] - 0s 578us/step - loss: 27.4869 - accuracy: 0.6894 - val_loss: 10.0794 - val_accuracy: 0.7923\n",
      "Epoch 13/100\n",
      "733/733 [==============================] - 0s 587us/step - loss: 19.0234 - accuracy: 0.6885 - val_loss: 15.2604 - val_accuracy: 0.8050\n",
      "Epoch 14/100\n",
      "733/733 [==============================] - 0s 582us/step - loss: 20.9355 - accuracy: 0.6903 - val_loss: 28.6471 - val_accuracy: 0.2380\n",
      "Epoch 15/100\n",
      "733/733 [==============================] - 0s 584us/step - loss: 16.9029 - accuracy: 0.6896 - val_loss: 19.3248 - val_accuracy: 0.7985\n",
      "Epoch 16/100\n",
      "733/733 [==============================] - 0s 576us/step - loss: 14.1872 - accuracy: 0.6952 - val_loss: 26.5294 - val_accuracy: 0.8008\n",
      "Epoch 17/100\n",
      "733/733 [==============================] - 0s 584us/step - loss: 12.4782 - accuracy: 0.7010 - val_loss: 2.8739 - val_accuracy: 0.7862\n",
      "Epoch 18/100\n",
      "733/733 [==============================] - 0s 583us/step - loss: 10.2690 - accuracy: 0.6974 - val_loss: 1.8880 - val_accuracy: 0.6960\n",
      "Epoch 19/100\n",
      "733/733 [==============================] - 0s 582us/step - loss: 11.2732 - accuracy: 0.6971 - val_loss: 24.8562 - val_accuracy: 0.7935\n",
      "Epoch 20/100\n",
      "733/733 [==============================] - 0s 573us/step - loss: 9.4757 - accuracy: 0.7035 - val_loss: 6.5324 - val_accuracy: 0.8119\n",
      "Epoch 21/100\n",
      "733/733 [==============================] - 0s 582us/step - loss: 9.2725 - accuracy: 0.7010 - val_loss: 2.8790 - val_accuracy: 0.5582\n",
      "Epoch 22/100\n",
      "733/733 [==============================] - 0s 591us/step - loss: 8.0076 - accuracy: 0.7050 - val_loss: 5.3336 - val_accuracy: 0.8042\n",
      "Epoch 23/100\n",
      "733/733 [==============================] - 0s 579us/step - loss: 6.8784 - accuracy: 0.7084 - val_loss: 5.6849 - val_accuracy: 0.7900\n",
      "Epoch 24/100\n",
      "733/733 [==============================] - 0s 576us/step - loss: 5.1583 - accuracy: 0.7164 - val_loss: 4.4758 - val_accuracy: 0.2983\n",
      "Epoch 25/100\n",
      "733/733 [==============================] - 0s 582us/step - loss: 4.9205 - accuracy: 0.7082 - val_loss: 2.0280 - val_accuracy: 0.8031\n",
      "Epoch 26/100\n",
      "733/733 [==============================] - 0s 583us/step - loss: 3.8899 - accuracy: 0.7138 - val_loss: 0.6738 - val_accuracy: 0.7324\n",
      "Epoch 27/100\n",
      "733/733 [==============================] - 0s 575us/step - loss: 5.1248 - accuracy: 0.7075 - val_loss: 10.3339 - val_accuracy: 0.7858\n",
      "Epoch 28/100\n",
      "733/733 [==============================] - 0s 579us/step - loss: 3.0322 - accuracy: 0.7168 - val_loss: 0.9246 - val_accuracy: 0.8069\n",
      "Epoch 29/100\n",
      "733/733 [==============================] - 0s 580us/step - loss: 2.7037 - accuracy: 0.7206 - val_loss: 1.9415 - val_accuracy: 0.8035\n",
      "Epoch 30/100\n",
      "733/733 [==============================] - 0s 569us/step - loss: 1.8225 - accuracy: 0.7406 - val_loss: 3.1879 - val_accuracy: 0.7831\n",
      "Epoch 31/100\n",
      "733/733 [==============================] - 0s 584us/step - loss: 1.6435 - accuracy: 0.7365 - val_loss: 0.8510 - val_accuracy: 0.8161\n",
      "Epoch 32/100\n",
      "733/733 [==============================] - 0s 582us/step - loss: 1.3918 - accuracy: 0.7501 - val_loss: 1.6490 - val_accuracy: 0.7965\n",
      "Epoch 33/100\n",
      "733/733 [==============================] - 0s 575us/step - loss: 1.1671 - accuracy: 0.7447 - val_loss: 0.4455 - val_accuracy: 0.8196\n",
      "Epoch 34/100\n",
      "733/733 [==============================] - 0s 607us/step - loss: 0.8980 - accuracy: 0.7574 - val_loss: 0.3876 - val_accuracy: 0.8253\n",
      "Epoch 35/100\n",
      "733/733 [==============================] - 0s 579us/step - loss: 0.6963 - accuracy: 0.7718 - val_loss: 0.5491 - val_accuracy: 0.8046\n",
      "Epoch 36/100\n",
      "733/733 [==============================] - 0s 575us/step - loss: 0.5571 - accuracy: 0.7859 - val_loss: 0.5899 - val_accuracy: 0.8069\n",
      "Epoch 37/100\n",
      "733/733 [==============================] - 0s 577us/step - loss: 0.6646 - accuracy: 0.7775 - val_loss: 0.7841 - val_accuracy: 0.8008\n",
      "Epoch 38/100\n",
      "733/733 [==============================] - 0s 580us/step - loss: 0.4770 - accuracy: 0.7974 - val_loss: 0.4751 - val_accuracy: 0.7939\n",
      "Epoch 39/100\n",
      "733/733 [==============================] - 0s 578us/step - loss: 0.4753 - accuracy: 0.7958 - val_loss: 0.3740 - val_accuracy: 0.8242\n",
      "Epoch 40/100\n",
      "733/733 [==============================] - 0s 582us/step - loss: 0.4516 - accuracy: 0.8011 - val_loss: 0.4318 - val_accuracy: 0.8292\n",
      "Epoch 41/100\n",
      "733/733 [==============================] - 0s 586us/step - loss: 0.4747 - accuracy: 0.7959 - val_loss: 0.4446 - val_accuracy: 0.8115\n",
      "Epoch 42/100\n",
      "733/733 [==============================] - 0s 579us/step - loss: 0.4704 - accuracy: 0.7982 - val_loss: 0.4830 - val_accuracy: 0.8100\n",
      "Epoch 43/100\n",
      "733/733 [==============================] - 0s 583us/step - loss: 0.5017 - accuracy: 0.7936 - val_loss: 0.4719 - val_accuracy: 0.8154\n"
     ]
    },
    {
     "data": {
      "text/plain": "<keras.src.callbacks.History at 0x2a18a5a00>"
     },
     "execution_count": 10,
     "metadata": {},
     "output_type": "execute_result"
    }
   ],
   "source": [
    "early_stopping = tf.keras.callbacks.EarlyStopping(monitor='loss', patience=3)\n",
    "\n",
    "model.fit(X_train, y_train, epochs=100, batch_size=32, validation_split=0.1, callbacks=[early_stopping])"
   ],
   "metadata": {
    "collapsed": false,
    "pycharm": {
     "name": "#%%\n"
    }
   }
  },
  {
   "cell_type": "code",
   "execution_count": 11,
   "outputs": [
    {
     "name": "stdout",
     "output_type": "stream",
     "text": [
      "204/204 [==============================] - 0s 359us/step - loss: 0.4841 - accuracy: 0.8052\n"
     ]
    }
   ],
   "source": [
    "loss, accuracy = model.evaluate(X_test, y_test)"
   ],
   "metadata": {
    "collapsed": false,
    "pycharm": {
     "name": "#%%\n"
    }
   }
  },
  {
   "cell_type": "code",
   "execution_count": 12,
   "outputs": [
    {
     "name": "stdout",
     "output_type": "stream",
     "text": [
      "204/204 [==============================] - 0s 325us/step\n"
     ]
    }
   ],
   "source": [
    "y_pred = model.predict(X_test)"
   ],
   "metadata": {
    "collapsed": false,
    "pycharm": {
     "name": "#%%\n"
    }
   }
  },
  {
   "cell_type": "markdown",
   "source": [
    "## Model Card Generation"
   ],
   "metadata": {
    "collapsed": false,
    "pycharm": {
     "name": "#%% md\n"
    }
   }
  },
  {
   "cell_type": "code",
   "execution_count": 13,
   "outputs": [],
   "source": [
    "from icicle_model_card.icicle_model_card import ModelCard, AIModel, BiasAnalysis, ExplainabilityAnalysis, validate_mc, Metric, save_mc\n",
    "import json"
   ],
   "metadata": {
    "collapsed": false,
    "pycharm": {
     "name": "#%%\n"
    }
   }
  },
  {
   "cell_type": "code",
   "execution_count": 14,
   "outputs": [],
   "source": [
    "mc = ModelCard(\n",
    "            name=\"UCI Adult Data Analysis\",\n",
    "            version=\"0.1\",\n",
    "            short_description=\"UCI Adult Data analysis using Tensorflow\",\n",
    "            full_description=\"Using a tensorflow trained neural network to analyse fairness and explainability in the UCI Adult Dataset\",\n",
    "            keywords=\"uci adult, tensorflow, explainability, fairness, fairlearn, shap\",\n",
    "            author=\"Sachith Withana\",\n",
    "            input_type=\"Images\",\n",
    "            category=\"Classification\"\n",
    "        )\n",
    "\n",
    "mc.input_data = 'https://archive.ics.uci.edu/dataset/2/adult'\n",
    "mc.output_data = 'https://github.iu.edu/swithana/mcwork/tensorflow/adult_model.pkl'"
   ],
   "metadata": {
    "collapsed": false,
    "pycharm": {
     "name": "#%%\n"
    }
   }
  },
  {
   "cell_type": "markdown",
   "source": [],
   "metadata": {
    "collapsed": false,
    "pycharm": {
     "name": "#%% md\n"
    }
   }
  },
  {
   "cell_type": "code",
   "execution_count": 15,
   "outputs": [],
   "source": [
    "model_metrics = []\n",
    "model_metrics.append(Metric(\"Test loss\", loss))\n",
    "\n",
    "ai_model = AIModel(\n",
    "            name=\"UCI Adult tensorflow model\",\n",
    "            version=\"0.1\",\n",
    "            description=\"Census classification problem using Tensorflow Neural Network\",\n",
    "            owner=\"Sachith Withana\",\n",
    "            location=\"https://github.iu.edu/swithana/mcwork/tensorflow/adult_model.pkl\",\n",
    "            license=\"BSD-3 Clause\",\n",
    "            framework=\"tensorflow\",\n",
    "            model_type=\"dnn\",\n",
    "            test_accuracy=accuracy,\n",
    "            model_structure = json.dumps(json.loads(model.to_json()), indent=2)\n",
    "        )\n",
    "ai_model.metrics = model_metrics\n",
    "mc.ai_model = ai_model"
   ],
   "metadata": {
    "collapsed": false,
    "pycharm": {
     "name": "#%%\n"
    }
   }
  },
  {
   "cell_type": "code",
   "execution_count": 16,
   "outputs": [
    {
     "name": "stdout",
     "output_type": "stream",
     "text": [
      "204/204 [==============================] - 0s 321us/step\n"
     ]
    },
    {
     "name": "stderr",
     "output_type": "stream",
     "text": [
      "DataFrame.applymap has been deprecated. Use DataFrame.map instead.\n",
      "DataFrame.applymap has been deprecated. Use DataFrame.map instead.\n",
      "DataFrame.applymap has been deprecated. Use DataFrame.map instead.\n",
      "DataFrame.applymap has been deprecated. Use DataFrame.map instead.\n",
      "DataFrame.applymap has been deprecated. Use DataFrame.map instead.\n",
      "DataFrame.applymap has been deprecated. Use DataFrame.map instead.\n"
     ]
    }
   ],
   "source": [
    "y_pred = model.predict(X_test)\n",
    "y_pred = (y_pred >= 0.5).flatten()\n",
    "mc.populate_bias(X_test, y_test, y_pred, \"gender\", X_test[:, 58], model)"
   ],
   "metadata": {
    "collapsed": false,
    "pycharm": {
     "name": "#%%\n"
    }
   }
  },
  {
   "cell_type": "code",
   "execution_count": null,
   "outputs": [],
   "source": [
    "x_columns = data.columns.tolist()\n",
    "x_columns.remove('income')\n",
    "\n",
    "mc.populate_xai(X_test, x_columns, model, 10)"
   ],
   "metadata": {
    "collapsed": false,
    "pycharm": {
     "name": "#%%\n"
    }
   }
  },
  {
   "cell_type": "code",
   "execution_count": 17,
   "outputs": [
    {
     "name": "stdout",
     "output_type": "stream",
     "text": [
      "{'demographic_parity_diff': 0.050589475747317245, 'equal_odds_difference': 0.03725373210929131, 'true_positives': 360, 'true_negatives': 4884, 'false_positives': 58, 'false_negatives': 1211, 'false_positive_rate': 0.011736139214892756, 'false_negative_rate': 0.7708465945257797, 'true_positive_rate': 0.22915340547422025, 'true_negative_rate': 0.9882638607851072}\n"
     ]
    }
   ],
   "source": [
    "print(mc.bias_analysis)"
   ],
   "metadata": {
    "collapsed": false,
    "pycharm": {
     "name": "#%%\n"
    }
   }
  },
  {
   "cell_type": "code",
   "execution_count": null,
   "outputs": [],
   "source": [
    "print(mc.xai_analysis)"
   ],
   "metadata": {
    "collapsed": false,
    "pycharm": {
     "name": "#%%\n"
    }
   }
  },
  {
   "cell_type": "code",
   "execution_count": 18,
   "outputs": [
    {
     "name": "stdout",
     "output_type": "stream",
     "text": [
      "{\n",
      "    \"name\": \"UCI Adult Data Analysis\",\n",
      "    \"version\": \"0.1\",\n",
      "    \"short_description\": \"UCI Adult Data analysis using Tensorflow\",\n",
      "    \"full_description\": \"Using a tensorflow trained neural network to analyse fairness and explainability in the UCI Adult Dataset\",\n",
      "    \"keywords\": \"uci adult, tensorflow, explainability, fairness, fairlearn, shap\",\n",
      "    \"author\": \"Sachith Withana\",\n",
      "    \"input_type\": \"Images\",\n",
      "    \"category\": \"Classification\",\n",
      "    \"input_data\": \"https://archive.ics.uci.edu/dataset/2/adult\",\n",
      "    \"output_data\": \"https://github.iu.edu/swithana/mcwork/tensorflow/adult_model.pkl\",\n",
      "    \"ai_model\": {\n",
      "        \"name\": \"UCI Adult tensorflow model\",\n",
      "        \"version\": \"0.1\",\n",
      "        \"description\": \"Census classification problem using Tensorflow Neural Network\",\n",
      "        \"owner\": \"Sachith Withana\",\n",
      "        \"location\": \"https://github.iu.edu/swithana/mcwork/tensorflow/adult_model.pkl\",\n",
      "        \"license\": \"BSD-3 Clause\",\n",
      "        \"framework\": \"tensorflow\",\n",
      "        \"model_type\": \"dnn\",\n",
      "        \"test_accuracy\": 0.8051589131355286,\n",
      "        \"model_structure\": \"{\\n  \\\"class_name\\\": \\\"Sequential\\\",\\n  \\\"config\\\": {\\n    \\\"name\\\": \\\"sequential\\\",\\n    \\\"layers\\\": [\\n      {\\n        \\\"module\\\": \\\"keras.layers\\\",\\n        \\\"class_name\\\": \\\"InputLayer\\\",\\n        \\\"config\\\": {\\n          \\\"batch_input_shape\\\": [\\n            null,\\n            100\\n          ],\\n          \\\"dtype\\\": \\\"float32\\\",\\n          \\\"sparse\\\": false,\\n          \\\"ragged\\\": false,\\n          \\\"name\\\": \\\"input_1\\\"\\n        },\\n        \\\"registered_name\\\": null\\n      },\\n      {\\n        \\\"module\\\": \\\"keras.layers\\\",\\n        \\\"class_name\\\": \\\"Dense\\\",\\n        \\\"config\\\": {\\n          \\\"name\\\": \\\"dense\\\",\\n          \\\"trainable\\\": true,\\n          \\\"dtype\\\": \\\"float32\\\",\\n          \\\"units\\\": 64,\\n          \\\"activation\\\": \\\"relu\\\",\\n          \\\"use_bias\\\": true,\\n          \\\"kernel_initializer\\\": {\\n            \\\"module\\\": \\\"keras.initializers\\\",\\n            \\\"class_name\\\": \\\"GlorotUniform\\\",\\n            \\\"config\\\": {\\n              \\\"seed\\\": null\\n            },\\n            \\\"registered_name\\\": null\\n          },\\n          \\\"bias_initializer\\\": {\\n            \\\"module\\\": \\\"keras.initializers\\\",\\n            \\\"class_name\\\": \\\"Zeros\\\",\\n            \\\"config\\\": {},\\n            \\\"registered_name\\\": null\\n          },\\n          \\\"kernel_regularizer\\\": null,\\n          \\\"bias_regularizer\\\": null,\\n          \\\"activity_regularizer\\\": null,\\n          \\\"kernel_constraint\\\": null,\\n          \\\"bias_constraint\\\": null\\n        },\\n        \\\"registered_name\\\": null,\\n        \\\"build_config\\\": {\\n          \\\"input_shape\\\": [\\n            null,\\n            100\\n          ]\\n        }\\n      },\\n      {\\n        \\\"module\\\": \\\"keras.layers\\\",\\n        \\\"class_name\\\": \\\"Dense\\\",\\n        \\\"config\\\": {\\n          \\\"name\\\": \\\"dense_1\\\",\\n          \\\"trainable\\\": true,\\n          \\\"dtype\\\": \\\"float32\\\",\\n          \\\"units\\\": 32,\\n          \\\"activation\\\": \\\"relu\\\",\\n          \\\"use_bias\\\": true,\\n          \\\"kernel_initializer\\\": {\\n            \\\"module\\\": \\\"keras.initializers\\\",\\n            \\\"class_name\\\": \\\"GlorotUniform\\\",\\n            \\\"config\\\": {\\n              \\\"seed\\\": null\\n            },\\n            \\\"registered_name\\\": null\\n          },\\n          \\\"bias_initializer\\\": {\\n            \\\"module\\\": \\\"keras.initializers\\\",\\n            \\\"class_name\\\": \\\"Zeros\\\",\\n            \\\"config\\\": {},\\n            \\\"registered_name\\\": null\\n          },\\n          \\\"kernel_regularizer\\\": null,\\n          \\\"bias_regularizer\\\": null,\\n          \\\"activity_regularizer\\\": null,\\n          \\\"kernel_constraint\\\": null,\\n          \\\"bias_constraint\\\": null\\n        },\\n        \\\"registered_name\\\": null,\\n        \\\"build_config\\\": {\\n          \\\"input_shape\\\": [\\n            null,\\n            64\\n          ]\\n        }\\n      },\\n      {\\n        \\\"module\\\": \\\"keras.layers\\\",\\n        \\\"class_name\\\": \\\"Dense\\\",\\n        \\\"config\\\": {\\n          \\\"name\\\": \\\"dense_2\\\",\\n          \\\"trainable\\\": true,\\n          \\\"dtype\\\": \\\"float32\\\",\\n          \\\"units\\\": 1,\\n          \\\"activation\\\": \\\"sigmoid\\\",\\n          \\\"use_bias\\\": true,\\n          \\\"kernel_initializer\\\": {\\n            \\\"module\\\": \\\"keras.initializers\\\",\\n            \\\"class_name\\\": \\\"GlorotUniform\\\",\\n            \\\"config\\\": {\\n              \\\"seed\\\": null\\n            },\\n            \\\"registered_name\\\": null\\n          },\\n          \\\"bias_initializer\\\": {\\n            \\\"module\\\": \\\"keras.initializers\\\",\\n            \\\"class_name\\\": \\\"Zeros\\\",\\n            \\\"config\\\": {},\\n            \\\"registered_name\\\": null\\n          },\\n          \\\"kernel_regularizer\\\": null,\\n          \\\"bias_regularizer\\\": null,\\n          \\\"activity_regularizer\\\": null,\\n          \\\"kernel_constraint\\\": null,\\n          \\\"bias_constraint\\\": null\\n        },\\n        \\\"registered_name\\\": null,\\n        \\\"build_config\\\": {\\n          \\\"input_shape\\\": [\\n            null,\\n            32\\n          ]\\n        }\\n      }\\n    ]\\n  },\\n  \\\"keras_version\\\": \\\"2.15.0\\\",\\n  \\\"backend\\\": \\\"tensorflow\\\"\\n}\",\n",
      "        \"metrics\": [\n",
      "            {\n",
      "                \"key\": \"Test loss\",\n",
      "                \"value\": 0.48406967520713806\n",
      "            }\n",
      "        ]\n",
      "    },\n",
      "    \"bias_analysis\": {\n",
      "        \"demographic_parity_diff\": 0.050589475747317245,\n",
      "        \"equal_odds_difference\": 0.03725373210929131,\n",
      "        \"true_positives\": 360,\n",
      "        \"true_negatives\": 4884,\n",
      "        \"false_positives\": 58,\n",
      "        \"false_negatives\": 1211,\n",
      "        \"false_positive_rate\": 0.011736139214892756,\n",
      "        \"false_negative_rate\": 0.7708465945257797,\n",
      "        \"true_positive_rate\": 0.22915340547422025,\n",
      "        \"true_negative_rate\": 0.9882638607851072\n",
      "    },\n",
      "    \"xai_analysis\": null\n",
      "}\n"
     ]
    }
   ],
   "source": [
    "print(mc)"
   ],
   "metadata": {
    "collapsed": false,
    "pycharm": {
     "name": "#%%\n"
    }
   }
  },
  {
   "cell_type": "code",
   "execution_count": 19,
   "outputs": [],
   "source": [
    "save_mc(mc, \"/Users/swithana/git/icicle_model_card/examples/model_cards/tesorflow_adult_nn_MC.json\")"
   ],
   "metadata": {
    "collapsed": false,
    "pycharm": {
     "name": "#%%\n"
    }
   }
  },
  {
   "cell_type": "code",
   "execution_count": null,
   "outputs": [],
   "source": [],
   "metadata": {
    "collapsed": false,
    "pycharm": {
     "name": "#%%\n"
    }
   }
  }
 ],
 "metadata": {
  "kernelspec": {
   "display_name": "Python 3",
   "language": "python",
   "name": "python3"
  },
  "language_info": {
   "codemirror_mode": {
    "name": "ipython",
    "version": 2
   },
   "file_extension": ".py",
   "mimetype": "text/x-python",
   "name": "python",
   "nbconvert_exporter": "python",
   "pygments_lexer": "ipython2",
   "version": "2.7.6"
  }
 },
 "nbformat": 4,
 "nbformat_minor": 0
}